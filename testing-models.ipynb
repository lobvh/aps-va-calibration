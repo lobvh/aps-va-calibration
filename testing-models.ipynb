{
 "cells": [
  {
   "cell_type": "code",
   "execution_count": null,
   "id": "e02fc7cb-0b07-47eb-a17d-caf78d25e4c9",
   "metadata": {},
   "outputs": [],
   "source": [
    "!pip install catboost"
   ]
  },
  {
   "cell_type": "code",
   "execution_count": null,
   "id": "df5dfb5a-1781-4dcf-a795-86c41ae45442",
   "metadata": {},
   "outputs": [],
   "source": [
    "!pip install scikit-learn"
   ]
  },
  {
   "cell_type": "code",
   "execution_count": null,
   "id": "52d8f906-a614-4ec8-ad68-bb5269f8bdc4",
   "metadata": {},
   "outputs": [],
   "source": [
    "!pip install hyperopt"
   ]
  },
  {
   "cell_type": "code",
   "execution_count": 4,
   "id": "12af5af8-cbb7-4630-afee-7872061b15f2",
   "metadata": {
    "execution": {
     "iopub.execute_input": "2024-02-07T14:00:10.076668Z",
     "iopub.status.busy": "2024-02-07T14:00:10.076205Z",
     "iopub.status.idle": "2024-02-07T14:00:13.003885Z",
     "shell.execute_reply": "2024-02-07T14:00:13.003082Z",
     "shell.execute_reply.started": "2024-02-07T14:00:10.076629Z"
    },
    "tags": []
   },
   "outputs": [],
   "source": [
    "import math\n",
    "\n",
    "from catboost import CatBoostClassifier, Pool\n",
    "from catboost.utils import get_confusion_matrix, eval_metric\n",
    "\n",
    "import matplotlib.pyplot as plt \n",
    "import numpy as np\n",
    "import pandas as pd\n",
    "\n",
    "from hyperopt import hp, fmin, tpe, STATUS_OK\n",
    "\n",
    "\n",
    "from sklearn.metrics import accuracy_score, ConfusionMatrixDisplay\n",
    "from sklearn.model_selection import train_test_split"
   ]
  },
  {
   "cell_type": "code",
   "execution_count": 5,
   "id": "7075575c-4e6f-44f2-800b-d57e3f4396a1",
   "metadata": {
    "execution": {
     "iopub.execute_input": "2024-02-07T14:00:13.005537Z",
     "iopub.status.busy": "2024-02-07T14:00:13.004974Z",
     "iopub.status.idle": "2024-02-07T14:00:13.009467Z",
     "shell.execute_reply": "2024-02-07T14:00:13.008679Z",
     "shell.execute_reply.started": "2024-02-07T14:00:13.005489Z"
    },
    "tags": []
   },
   "outputs": [],
   "source": [
    "RANDOM_SEED = 42"
   ]
  },
  {
   "cell_type": "markdown",
   "id": "79acf282-8faf-4a8f-bed9-db2a7a0aebfe",
   "metadata": {
    "tags": []
   },
   "source": [
    "# InceptionV3 Features"
   ]
  },
  {
   "cell_type": "code",
   "execution_count": 6,
   "id": "be3e6587-0159-40e6-bb50-c071e5e16fba",
   "metadata": {
    "execution": {
     "iopub.execute_input": "2024-02-07T14:01:17.347218Z",
     "iopub.status.busy": "2024-02-07T14:01:17.346822Z",
     "iopub.status.idle": "2024-02-07T14:01:19.058920Z",
     "shell.execute_reply": "2024-02-07T14:01:19.058220Z",
     "shell.execute_reply.started": "2024-02-07T14:01:17.347194Z"
    },
    "tags": []
   },
   "outputs": [],
   "source": [
    "incV3_train = pd.read_csv('../inception-resnet-v2/inception-v3-data/inception_train.csv')\n",
    "incV3_valid = pd.read_csv('../inception-resnet-v2/inception-v3-data/inception_valid.csv')\n",
    "incV3_test = pd.read_csv('../inception-resnet-v2/inception-v3-data/inception_test.csv')"
   ]
  },
  {
   "cell_type": "code",
   "execution_count": 7,
   "id": "71e93232-14f8-4c45-9e57-1544ba379c11",
   "metadata": {
    "execution": {
     "iopub.execute_input": "2024-02-07T14:01:19.060851Z",
     "iopub.status.busy": "2024-02-07T14:01:19.060363Z",
     "iopub.status.idle": "2024-02-07T14:01:19.111061Z",
     "shell.execute_reply": "2024-02-07T14:01:19.110389Z",
     "shell.execute_reply.started": "2024-02-07T14:01:19.060812Z"
    },
    "tags": []
   },
   "outputs": [],
   "source": [
    "incV3_combined = pd.concat([incV3_train, incV3_valid, incV3_test])"
   ]
  },
  {
   "cell_type": "code",
   "execution_count": 11,
   "id": "2f99c04d-50c7-4afe-8e9a-0fc3aa6ecd97",
   "metadata": {
    "execution": {
     "iopub.execute_input": "2024-02-06T15:47:53.485662Z",
     "iopub.status.busy": "2024-02-06T15:47:53.484986Z",
     "iopub.status.idle": "2024-02-06T15:47:53.589365Z",
     "shell.execute_reply": "2024-02-06T15:47:53.588483Z",
     "shell.execute_reply.started": "2024-02-06T15:47:53.485630Z"
    }
   },
   "outputs": [
    {
     "data": {
      "text/html": [
       "<div>\n",
       "<style scoped>\n",
       "    .dataframe tbody tr th:only-of-type {\n",
       "        vertical-align: middle;\n",
       "    }\n",
       "\n",
       "    .dataframe tbody tr th {\n",
       "        vertical-align: top;\n",
       "    }\n",
       "\n",
       "    .dataframe thead th {\n",
       "        text-align: right;\n",
       "    }\n",
       "</style>\n",
       "<table border=\"1\" class=\"dataframe\">\n",
       "  <thead>\n",
       "    <tr style=\"text-align: right;\">\n",
       "      <th></th>\n",
       "      <th>incV3_0</th>\n",
       "      <th>incV3_1</th>\n",
       "      <th>incV3_2</th>\n",
       "      <th>incV3_3</th>\n",
       "      <th>incV3_4</th>\n",
       "      <th>incV3_5</th>\n",
       "      <th>incV3_6</th>\n",
       "      <th>incV3_7</th>\n",
       "      <th>incV3_8</th>\n",
       "      <th>incV3_9</th>\n",
       "      <th>incV3_10</th>\n",
       "      <th>incV3_11</th>\n",
       "      <th>incV3_12</th>\n",
       "      <th>incV3_13</th>\n",
       "      <th>incV3_14</th>\n",
       "      <th>incV3_15</th>\n",
       "      <th>incV3_16</th>\n",
       "      <th>incV3_17</th>\n",
       "      <th>incV3_18</th>\n",
       "      <th>incV3_19</th>\n",
       "      <th>incV3_20</th>\n",
       "      <th>incV3_21</th>\n",
       "      <th>incV3_22</th>\n",
       "      <th>incV3_23</th>\n",
       "      <th>incV3_24</th>\n",
       "      <th>incV3_25</th>\n",
       "      <th>incV3_26</th>\n",
       "      <th>incV3_27</th>\n",
       "      <th>incV3_28</th>\n",
       "      <th>incV3_29</th>\n",
       "      <th>incV3_30</th>\n",
       "      <th>incV3_31</th>\n",
       "      <th>incV3_32</th>\n",
       "      <th>incV3_33</th>\n",
       "      <th>incV3_34</th>\n",
       "      <th>incV3_35</th>\n",
       "      <th>incV3_36</th>\n",
       "      <th>incV3_37</th>\n",
       "      <th>incV3_38</th>\n",
       "      <th>incV3_39</th>\n",
       "      <th>...</th>\n",
       "      <th>incV3_2010</th>\n",
       "      <th>incV3_2011</th>\n",
       "      <th>incV3_2012</th>\n",
       "      <th>incV3_2013</th>\n",
       "      <th>incV3_2014</th>\n",
       "      <th>incV3_2015</th>\n",
       "      <th>incV3_2016</th>\n",
       "      <th>incV3_2017</th>\n",
       "      <th>incV3_2018</th>\n",
       "      <th>incV3_2019</th>\n",
       "      <th>incV3_2020</th>\n",
       "      <th>incV3_2021</th>\n",
       "      <th>incV3_2022</th>\n",
       "      <th>incV3_2023</th>\n",
       "      <th>incV3_2024</th>\n",
       "      <th>incV3_2025</th>\n",
       "      <th>incV3_2026</th>\n",
       "      <th>incV3_2027</th>\n",
       "      <th>incV3_2028</th>\n",
       "      <th>incV3_2029</th>\n",
       "      <th>incV3_2030</th>\n",
       "      <th>incV3_2031</th>\n",
       "      <th>incV3_2032</th>\n",
       "      <th>incV3_2033</th>\n",
       "      <th>incV3_2034</th>\n",
       "      <th>incV3_2035</th>\n",
       "      <th>incV3_2036</th>\n",
       "      <th>incV3_2037</th>\n",
       "      <th>incV3_2038</th>\n",
       "      <th>incV3_2039</th>\n",
       "      <th>incV3_2040</th>\n",
       "      <th>incV3_2041</th>\n",
       "      <th>incV3_2042</th>\n",
       "      <th>incV3_2043</th>\n",
       "      <th>incV3_2044</th>\n",
       "      <th>incV3_2045</th>\n",
       "      <th>incV3_2046</th>\n",
       "      <th>incV3_2047</th>\n",
       "      <th>incV3_file_id</th>\n",
       "      <th>incV3_label</th>\n",
       "    </tr>\n",
       "  </thead>\n",
       "  <tbody>\n",
       "    <tr>\n",
       "      <th>0</th>\n",
       "      <td>0.303634</td>\n",
       "      <td>0.318942</td>\n",
       "      <td>0.208411</td>\n",
       "      <td>0.477266</td>\n",
       "      <td>0.068431</td>\n",
       "      <td>0.106686</td>\n",
       "      <td>0.048553</td>\n",
       "      <td>0.459468</td>\n",
       "      <td>0.139828</td>\n",
       "      <td>0.271657</td>\n",
       "      <td>0.121587</td>\n",
       "      <td>0.595600</td>\n",
       "      <td>0.150126</td>\n",
       "      <td>0.067441</td>\n",
       "      <td>0.066815</td>\n",
       "      <td>0.083468</td>\n",
       "      <td>0.180686</td>\n",
       "      <td>0.121065</td>\n",
       "      <td>0.359528</td>\n",
       "      <td>0.173691</td>\n",
       "      <td>0.707666</td>\n",
       "      <td>0.252425</td>\n",
       "      <td>0.250225</td>\n",
       "      <td>0.049604</td>\n",
       "      <td>0.159554</td>\n",
       "      <td>0.495302</td>\n",
       "      <td>0.033799</td>\n",
       "      <td>0.082667</td>\n",
       "      <td>0.620989</td>\n",
       "      <td>0.186894</td>\n",
       "      <td>0.170015</td>\n",
       "      <td>0.517833</td>\n",
       "      <td>0.321700</td>\n",
       "      <td>0.507045</td>\n",
       "      <td>0.094852</td>\n",
       "      <td>0.369974</td>\n",
       "      <td>0.432739</td>\n",
       "      <td>0.118659</td>\n",
       "      <td>0.265348</td>\n",
       "      <td>0.041560</td>\n",
       "      <td>...</td>\n",
       "      <td>1.088839</td>\n",
       "      <td>1.008713</td>\n",
       "      <td>0.000000</td>\n",
       "      <td>0.095373</td>\n",
       "      <td>0.199698</td>\n",
       "      <td>0.491798</td>\n",
       "      <td>0.004208</td>\n",
       "      <td>0.191066</td>\n",
       "      <td>0.878754</td>\n",
       "      <td>0.069308</td>\n",
       "      <td>0.128670</td>\n",
       "      <td>0.461246</td>\n",
       "      <td>0.011548</td>\n",
       "      <td>0.094069</td>\n",
       "      <td>0.511283</td>\n",
       "      <td>0.273566</td>\n",
       "      <td>0.064044</td>\n",
       "      <td>0.220091</td>\n",
       "      <td>0.037410</td>\n",
       "      <td>0.170411</td>\n",
       "      <td>0.456357</td>\n",
       "      <td>0.109208</td>\n",
       "      <td>0.024379</td>\n",
       "      <td>0.016142</td>\n",
       "      <td>0.309050</td>\n",
       "      <td>0.069353</td>\n",
       "      <td>0.562461</td>\n",
       "      <td>0.387386</td>\n",
       "      <td>0.012380</td>\n",
       "      <td>0.321861</td>\n",
       "      <td>0.258009</td>\n",
       "      <td>0.145014</td>\n",
       "      <td>0.247663</td>\n",
       "      <td>0.095321</td>\n",
       "      <td>0.095406</td>\n",
       "      <td>0.963429</td>\n",
       "      <td>0.372782</td>\n",
       "      <td>0.155981</td>\n",
       "      <td>dress/009b3c31-fb62-45c0-be9a-37a5c238cb88.jpg</td>\n",
       "      <td>0</td>\n",
       "    </tr>\n",
       "    <tr>\n",
       "      <th>1</th>\n",
       "      <td>0.047840</td>\n",
       "      <td>0.264508</td>\n",
       "      <td>0.390923</td>\n",
       "      <td>0.142860</td>\n",
       "      <td>0.129282</td>\n",
       "      <td>0.150060</td>\n",
       "      <td>0.069824</td>\n",
       "      <td>0.481221</td>\n",
       "      <td>0.330697</td>\n",
       "      <td>0.258998</td>\n",
       "      <td>0.284957</td>\n",
       "      <td>0.839510</td>\n",
       "      <td>0.049135</td>\n",
       "      <td>0.618441</td>\n",
       "      <td>0.179566</td>\n",
       "      <td>0.189002</td>\n",
       "      <td>0.462456</td>\n",
       "      <td>0.189369</td>\n",
       "      <td>0.565357</td>\n",
       "      <td>0.154353</td>\n",
       "      <td>0.307762</td>\n",
       "      <td>0.864665</td>\n",
       "      <td>0.067912</td>\n",
       "      <td>0.126575</td>\n",
       "      <td>0.001754</td>\n",
       "      <td>0.088215</td>\n",
       "      <td>0.099797</td>\n",
       "      <td>0.252185</td>\n",
       "      <td>0.084816</td>\n",
       "      <td>0.116371</td>\n",
       "      <td>0.036080</td>\n",
       "      <td>0.105320</td>\n",
       "      <td>0.233524</td>\n",
       "      <td>0.321487</td>\n",
       "      <td>0.149458</td>\n",
       "      <td>0.220641</td>\n",
       "      <td>0.585277</td>\n",
       "      <td>0.099793</td>\n",
       "      <td>0.514470</td>\n",
       "      <td>0.380777</td>\n",
       "      <td>...</td>\n",
       "      <td>0.715627</td>\n",
       "      <td>0.370913</td>\n",
       "      <td>0.273533</td>\n",
       "      <td>0.010923</td>\n",
       "      <td>0.011349</td>\n",
       "      <td>0.506104</td>\n",
       "      <td>0.337167</td>\n",
       "      <td>0.288517</td>\n",
       "      <td>0.037845</td>\n",
       "      <td>1.162125</td>\n",
       "      <td>0.040779</td>\n",
       "      <td>0.245147</td>\n",
       "      <td>0.165474</td>\n",
       "      <td>1.019356</td>\n",
       "      <td>0.193412</td>\n",
       "      <td>0.202823</td>\n",
       "      <td>0.178313</td>\n",
       "      <td>0.445691</td>\n",
       "      <td>0.049239</td>\n",
       "      <td>0.440084</td>\n",
       "      <td>0.194088</td>\n",
       "      <td>0.737271</td>\n",
       "      <td>0.300493</td>\n",
       "      <td>0.028328</td>\n",
       "      <td>0.713750</td>\n",
       "      <td>0.076088</td>\n",
       "      <td>0.390142</td>\n",
       "      <td>0.921957</td>\n",
       "      <td>1.113839</td>\n",
       "      <td>0.258573</td>\n",
       "      <td>0.154730</td>\n",
       "      <td>0.096029</td>\n",
       "      <td>0.042481</td>\n",
       "      <td>0.408144</td>\n",
       "      <td>0.082131</td>\n",
       "      <td>0.573751</td>\n",
       "      <td>2.442517</td>\n",
       "      <td>0.437859</td>\n",
       "      <td>dress/041c6bde-e737-46fd-9586-984c1503941f.jpg</td>\n",
       "      <td>0</td>\n",
       "    </tr>\n",
       "    <tr>\n",
       "      <th>2</th>\n",
       "      <td>0.942071</td>\n",
       "      <td>0.434878</td>\n",
       "      <td>0.697832</td>\n",
       "      <td>0.251812</td>\n",
       "      <td>0.220720</td>\n",
       "      <td>0.003102</td>\n",
       "      <td>0.142887</td>\n",
       "      <td>0.486080</td>\n",
       "      <td>0.071632</td>\n",
       "      <td>0.570452</td>\n",
       "      <td>0.097671</td>\n",
       "      <td>0.651522</td>\n",
       "      <td>0.719168</td>\n",
       "      <td>0.053366</td>\n",
       "      <td>0.014031</td>\n",
       "      <td>0.258985</td>\n",
       "      <td>0.017525</td>\n",
       "      <td>0.251536</td>\n",
       "      <td>0.039473</td>\n",
       "      <td>0.464952</td>\n",
       "      <td>0.114880</td>\n",
       "      <td>0.528741</td>\n",
       "      <td>0.153433</td>\n",
       "      <td>1.346469</td>\n",
       "      <td>0.662280</td>\n",
       "      <td>0.366115</td>\n",
       "      <td>0.338587</td>\n",
       "      <td>1.014719</td>\n",
       "      <td>0.705959</td>\n",
       "      <td>0.692436</td>\n",
       "      <td>0.546387</td>\n",
       "      <td>0.272917</td>\n",
       "      <td>0.147378</td>\n",
       "      <td>0.947167</td>\n",
       "      <td>0.393558</td>\n",
       "      <td>0.647714</td>\n",
       "      <td>0.256697</td>\n",
       "      <td>0.048100</td>\n",
       "      <td>0.022955</td>\n",
       "      <td>0.152845</td>\n",
       "      <td>...</td>\n",
       "      <td>0.436633</td>\n",
       "      <td>0.024284</td>\n",
       "      <td>0.160562</td>\n",
       "      <td>1.107060</td>\n",
       "      <td>0.065783</td>\n",
       "      <td>0.091846</td>\n",
       "      <td>0.004797</td>\n",
       "      <td>0.003688</td>\n",
       "      <td>0.085345</td>\n",
       "      <td>0.102019</td>\n",
       "      <td>0.090384</td>\n",
       "      <td>0.189360</td>\n",
       "      <td>1.225240</td>\n",
       "      <td>0.023228</td>\n",
       "      <td>0.116584</td>\n",
       "      <td>0.608024</td>\n",
       "      <td>0.013252</td>\n",
       "      <td>0.640213</td>\n",
       "      <td>0.032915</td>\n",
       "      <td>0.045562</td>\n",
       "      <td>0.961790</td>\n",
       "      <td>0.484170</td>\n",
       "      <td>0.080594</td>\n",
       "      <td>0.052586</td>\n",
       "      <td>0.022498</td>\n",
       "      <td>0.867815</td>\n",
       "      <td>0.312391</td>\n",
       "      <td>0.564246</td>\n",
       "      <td>0.321194</td>\n",
       "      <td>0.592843</td>\n",
       "      <td>0.134994</td>\n",
       "      <td>0.105694</td>\n",
       "      <td>0.033259</td>\n",
       "      <td>0.111998</td>\n",
       "      <td>0.370574</td>\n",
       "      <td>0.410654</td>\n",
       "      <td>0.574305</td>\n",
       "      <td>0.041574</td>\n",
       "      <td>dress/04f0b07f-4b9f-4c55-bc5d-b693658fb32c.jpg</td>\n",
       "      <td>0</td>\n",
       "    </tr>\n",
       "    <tr>\n",
       "      <th>3</th>\n",
       "      <td>0.279040</td>\n",
       "      <td>0.390771</td>\n",
       "      <td>0.115167</td>\n",
       "      <td>0.213695</td>\n",
       "      <td>0.314327</td>\n",
       "      <td>0.105088</td>\n",
       "      <td>0.064898</td>\n",
       "      <td>0.193854</td>\n",
       "      <td>0.482503</td>\n",
       "      <td>0.612311</td>\n",
       "      <td>0.023051</td>\n",
       "      <td>0.299320</td>\n",
       "      <td>0.385382</td>\n",
       "      <td>0.034609</td>\n",
       "      <td>0.078219</td>\n",
       "      <td>0.000000</td>\n",
       "      <td>0.103029</td>\n",
       "      <td>0.182695</td>\n",
       "      <td>0.254550</td>\n",
       "      <td>0.085456</td>\n",
       "      <td>0.239777</td>\n",
       "      <td>0.053341</td>\n",
       "      <td>0.386832</td>\n",
       "      <td>0.138270</td>\n",
       "      <td>0.540089</td>\n",
       "      <td>0.759730</td>\n",
       "      <td>0.131251</td>\n",
       "      <td>0.146809</td>\n",
       "      <td>0.068016</td>\n",
       "      <td>0.185173</td>\n",
       "      <td>0.187190</td>\n",
       "      <td>0.187758</td>\n",
       "      <td>0.240439</td>\n",
       "      <td>0.622536</td>\n",
       "      <td>0.155416</td>\n",
       "      <td>0.270894</td>\n",
       "      <td>0.059817</td>\n",
       "      <td>0.027796</td>\n",
       "      <td>0.044293</td>\n",
       "      <td>0.424808</td>\n",
       "      <td>...</td>\n",
       "      <td>0.299911</td>\n",
       "      <td>0.645781</td>\n",
       "      <td>0.001107</td>\n",
       "      <td>0.214570</td>\n",
       "      <td>0.388039</td>\n",
       "      <td>0.052443</td>\n",
       "      <td>0.000000</td>\n",
       "      <td>0.070712</td>\n",
       "      <td>0.159960</td>\n",
       "      <td>0.070866</td>\n",
       "      <td>0.219171</td>\n",
       "      <td>0.161842</td>\n",
       "      <td>0.634883</td>\n",
       "      <td>0.042230</td>\n",
       "      <td>1.003714</td>\n",
       "      <td>0.161258</td>\n",
       "      <td>0.087194</td>\n",
       "      <td>0.443433</td>\n",
       "      <td>0.036886</td>\n",
       "      <td>0.255009</td>\n",
       "      <td>0.000000</td>\n",
       "      <td>0.165857</td>\n",
       "      <td>0.072062</td>\n",
       "      <td>0.079825</td>\n",
       "      <td>0.175955</td>\n",
       "      <td>0.229562</td>\n",
       "      <td>0.611858</td>\n",
       "      <td>0.240544</td>\n",
       "      <td>0.888975</td>\n",
       "      <td>0.769011</td>\n",
       "      <td>0.005990</td>\n",
       "      <td>0.239939</td>\n",
       "      <td>0.306121</td>\n",
       "      <td>0.027214</td>\n",
       "      <td>0.116109</td>\n",
       "      <td>0.686962</td>\n",
       "      <td>0.478834</td>\n",
       "      <td>0.350503</td>\n",
       "      <td>dress/053689bb-5928-489b-aeaf-dfb969b05e93.jpg</td>\n",
       "      <td>0</td>\n",
       "    </tr>\n",
       "    <tr>\n",
       "      <th>4</th>\n",
       "      <td>0.567760</td>\n",
       "      <td>0.119651</td>\n",
       "      <td>0.390262</td>\n",
       "      <td>0.429970</td>\n",
       "      <td>0.153197</td>\n",
       "      <td>0.227783</td>\n",
       "      <td>0.506306</td>\n",
       "      <td>0.387863</td>\n",
       "      <td>0.170855</td>\n",
       "      <td>0.258183</td>\n",
       "      <td>0.099920</td>\n",
       "      <td>0.339112</td>\n",
       "      <td>0.369342</td>\n",
       "      <td>0.195935</td>\n",
       "      <td>0.053978</td>\n",
       "      <td>0.051300</td>\n",
       "      <td>0.082272</td>\n",
       "      <td>0.470346</td>\n",
       "      <td>0.497293</td>\n",
       "      <td>0.442851</td>\n",
       "      <td>0.275871</td>\n",
       "      <td>0.447935</td>\n",
       "      <td>0.182692</td>\n",
       "      <td>0.506540</td>\n",
       "      <td>0.116646</td>\n",
       "      <td>0.138018</td>\n",
       "      <td>0.147390</td>\n",
       "      <td>0.136806</td>\n",
       "      <td>0.234731</td>\n",
       "      <td>1.121465</td>\n",
       "      <td>0.590732</td>\n",
       "      <td>0.759545</td>\n",
       "      <td>0.130109</td>\n",
       "      <td>0.471974</td>\n",
       "      <td>0.252890</td>\n",
       "      <td>0.405246</td>\n",
       "      <td>0.185458</td>\n",
       "      <td>0.500620</td>\n",
       "      <td>0.033472</td>\n",
       "      <td>0.065277</td>\n",
       "      <td>...</td>\n",
       "      <td>0.690045</td>\n",
       "      <td>0.097628</td>\n",
       "      <td>0.109599</td>\n",
       "      <td>1.049919</td>\n",
       "      <td>0.435381</td>\n",
       "      <td>0.284981</td>\n",
       "      <td>0.046343</td>\n",
       "      <td>0.407271</td>\n",
       "      <td>0.403584</td>\n",
       "      <td>0.623662</td>\n",
       "      <td>0.251959</td>\n",
       "      <td>0.878161</td>\n",
       "      <td>0.373491</td>\n",
       "      <td>0.108083</td>\n",
       "      <td>0.373601</td>\n",
       "      <td>0.313047</td>\n",
       "      <td>0.051191</td>\n",
       "      <td>0.395385</td>\n",
       "      <td>0.040726</td>\n",
       "      <td>0.480400</td>\n",
       "      <td>1.525281</td>\n",
       "      <td>0.517345</td>\n",
       "      <td>0.422135</td>\n",
       "      <td>0.218151</td>\n",
       "      <td>0.137351</td>\n",
       "      <td>0.177150</td>\n",
       "      <td>0.388017</td>\n",
       "      <td>0.516100</td>\n",
       "      <td>0.634698</td>\n",
       "      <td>0.389365</td>\n",
       "      <td>0.135865</td>\n",
       "      <td>0.225167</td>\n",
       "      <td>0.177384</td>\n",
       "      <td>0.405454</td>\n",
       "      <td>0.400660</td>\n",
       "      <td>0.182566</td>\n",
       "      <td>0.169703</td>\n",
       "      <td>0.176746</td>\n",
       "      <td>dress/0546d34a-a369-4723-8d3a-74c0f51af26c.jpg</td>\n",
       "      <td>0</td>\n",
       "    </tr>\n",
       "  </tbody>\n",
       "</table>\n",
       "<p>5 rows × 2050 columns</p>\n",
       "</div>"
      ],
      "text/plain": [
       "    incV3_0  ...  incV3_label\n",
       "0  0.303634  ...            0\n",
       "1  0.047840  ...            0\n",
       "2  0.942071  ...            0\n",
       "3  0.279040  ...            0\n",
       "4  0.567760  ...            0\n",
       "\n",
       "[5 rows x 2050 columns]"
      ]
     },
     "execution_count": 11,
     "metadata": {},
     "output_type": "execute_result"
    }
   ],
   "source": [
    "incV3_combined.head()"
   ]
  },
  {
   "cell_type": "code",
   "execution_count": 18,
   "id": "61e1aa67-4610-4e30-ae36-cfa9dcead986",
   "metadata": {
    "execution": {
     "iopub.execute_input": "2024-02-06T15:53:00.395849Z",
     "iopub.status.busy": "2024-02-06T15:53:00.395471Z",
     "iopub.status.idle": "2024-02-06T15:53:00.401548Z",
     "shell.execute_reply": "2024-02-06T15:53:00.400583Z",
     "shell.execute_reply.started": "2024-02-06T15:53:00.395824Z"
    }
   },
   "outputs": [
    {
     "data": {
      "text/plain": [
       "Int64Index([9, 2, 4, 5, 6, 0, 7, 3, 1, 8], dtype='int64')"
      ]
     },
     "execution_count": 18,
     "metadata": {},
     "output_type": "execute_result"
    }
   ],
   "source": [
    "labels_frequency.index"
   ]
  },
  {
   "cell_type": "code",
   "execution_count": 22,
   "id": "475e2d9b-5146-4a49-8013-a969d0d8a7a9",
   "metadata": {
    "execution": {
     "iopub.execute_input": "2024-02-06T15:55:25.590752Z",
     "iopub.status.busy": "2024-02-06T15:55:25.590348Z",
     "iopub.status.idle": "2024-02-06T15:55:25.758983Z",
     "shell.execute_reply": "2024-02-06T15:55:25.758165Z",
     "shell.execute_reply.started": "2024-02-06T15:55:25.590725Z"
    },
    "tags": []
   },
   "outputs": [
    {
     "data": {
      "image/png": "[encoded data removed]",
      "text/plain": [
       "<Figure size 640x480 with 1 Axes>"
      ]
     },
     "metadata": {},
     "output_type": "display_data"
    }
   ],
   "source": [
    "labels_frequency = incV3_combined['incV3_label'].value_counts()\n",
    "plt.bar(labels_frequency.index, labels_frequency.values)\n",
    "plt.xlabel('Categories')\n",
    "plt.ylabel('Count')\n",
    "plt.xticks([9, 2, 4, 5, 6, 0, 7, 3, 1, 8])\n",
    "plt.title('Histogram of Category Counts')\n",
    "plt.show();"
   ]
  },
  {
   "cell_type": "code",
   "execution_count": 10,
   "id": "5c1e3b75-ba64-4a46-a68d-9bdb502da5df",
   "metadata": {
    "execution": {
     "iopub.execute_input": "2024-02-06T15:46:44.654638Z",
     "iopub.status.busy": "2024-02-06T15:46:44.654264Z",
     "iopub.status.idle": "2024-02-06T15:46:45.406104Z",
     "shell.execute_reply": "2024-02-06T15:46:45.405294Z",
     "shell.execute_reply.started": "2024-02-06T15:46:44.654613Z"
    }
   },
   "outputs": [
    {
     "data": {
      "text/plain": [
       "0"
      ]
     },
     "execution_count": 10,
     "metadata": {},
     "output_type": "execute_result"
    }
   ],
   "source": [
    "incV3_combined.duplicated().sum()"
   ]
  },
  {
   "cell_type": "code",
   "execution_count": 27,
   "id": "90ef6208-995d-4dd8-af45-3db1342a7fc0",
   "metadata": {
    "execution": {
     "iopub.execute_input": "2024-02-06T15:58:25.888081Z",
     "iopub.status.busy": "2024-02-06T15:58:25.887694Z",
     "iopub.status.idle": "2024-02-06T15:58:25.892881Z",
     "shell.execute_reply": "2024-02-06T15:58:25.892056Z",
     "shell.execute_reply.started": "2024-02-06T15:58:25.888056Z"
    }
   },
   "outputs": [
    {
     "data": {
      "text/plain": [
       "(3781, 2050)"
      ]
     },
     "execution_count": 27,
     "metadata": {},
     "output_type": "execute_result"
    }
   ],
   "source": [
    "incV3_combined.shape"
   ]
  },
  {
   "cell_type": "markdown",
   "id": "e7c741e0-257b-4ab6-8de1-85489d94e7f0",
   "metadata": {
    "jp-MarkdownHeadingCollapsed": true,
    "tags": []
   },
   "source": [
    "# Xception Features"
   ]
  },
  {
   "cell_type": "code",
   "execution_count": 8,
   "id": "04da59ee-e062-4da8-a301-675c9fe8994f",
   "metadata": {
    "execution": {
     "iopub.execute_input": "2024-02-07T14:01:28.227688Z",
     "iopub.status.busy": "2024-02-07T14:01:28.227262Z",
     "iopub.status.idle": "2024-02-07T14:01:29.855016Z",
     "shell.execute_reply": "2024-02-07T14:01:29.854377Z",
     "shell.execute_reply.started": "2024-02-07T14:01:28.227654Z"
    },
    "tags": []
   },
   "outputs": [],
   "source": [
    "xc_train = pd.read_csv('../xception-data/xception_train.csv')\n",
    "xc_valid = pd.read_csv('../xception-data/xception_valid.csv')\n",
    "xc_test = pd.read_csv('../xception-data/xception_test.csv')"
   ]
  },
  {
   "cell_type": "code",
   "execution_count": 9,
   "id": "966d981f-28d2-4dd3-9bcd-e2ab9a2f23db",
   "metadata": {
    "execution": {
     "iopub.execute_input": "2024-02-07T14:01:29.856579Z",
     "iopub.status.busy": "2024-02-07T14:01:29.856214Z",
     "iopub.status.idle": "2024-02-07T14:01:29.900894Z",
     "shell.execute_reply": "2024-02-07T14:01:29.900237Z",
     "shell.execute_reply.started": "2024-02-07T14:01:29.856555Z"
    },
    "tags": []
   },
   "outputs": [],
   "source": [
    "xc_combined = pd.concat([xc_train, xc_valid, xc_test])"
   ]
  },
  {
   "cell_type": "code",
   "execution_count": 25,
   "id": "a3650e9b-1c49-4822-a696-446dc97c6a4b",
   "metadata": {
    "execution": {
     "iopub.execute_input": "2024-02-06T15:57:42.365350Z",
     "iopub.status.busy": "2024-02-06T15:57:42.364960Z",
     "iopub.status.idle": "2024-02-06T15:57:42.788942Z",
     "shell.execute_reply": "2024-02-06T15:57:42.788074Z",
     "shell.execute_reply.started": "2024-02-06T15:57:42.365325Z"
    }
   },
   "outputs": [
    {
     "data": {
      "text/plain": [
       "0"
      ]
     },
     "execution_count": 25,
     "metadata": {},
     "output_type": "execute_result"
    }
   ],
   "source": [
    "xc_combined.duplicated().sum()"
   ]
  },
  {
   "cell_type": "code",
   "execution_count": 26,
   "id": "83365825-4599-4a5f-babc-ba30da3ac088",
   "metadata": {
    "execution": {
     "iopub.execute_input": "2024-02-06T15:58:09.198060Z",
     "iopub.status.busy": "2024-02-06T15:58:09.197672Z",
     "iopub.status.idle": "2024-02-06T15:58:09.202614Z",
     "shell.execute_reply": "2024-02-06T15:58:09.201986Z",
     "shell.execute_reply.started": "2024-02-06T15:58:09.198034Z"
    }
   },
   "outputs": [
    {
     "data": {
      "text/plain": [
       "(3781, 2050)"
      ]
     },
     "execution_count": 26,
     "metadata": {},
     "output_type": "execute_result"
    }
   ],
   "source": [
    "xc_combined.shape"
   ]
  },
  {
   "cell_type": "markdown",
   "id": "6fa034a1-7a78-42ab-9f60-5e4428e598bc",
   "metadata": {
    "jp-MarkdownHeadingCollapsed": true,
    "tags": []
   },
   "source": [
    "# VGG19 Features"
   ]
  },
  {
   "cell_type": "code",
   "execution_count": 10,
   "id": "33f50305-ec33-419c-bdbf-875b28b0bcac",
   "metadata": {
    "execution": {
     "iopub.execute_input": "2024-02-07T14:01:33.481693Z",
     "iopub.status.busy": "2024-02-07T14:01:33.481305Z",
     "iopub.status.idle": "2024-02-07T14:01:33.878667Z",
     "shell.execute_reply": "2024-02-07T14:01:33.877960Z",
     "shell.execute_reply.started": "2024-02-07T14:01:33.481664Z"
    },
    "tags": []
   },
   "outputs": [],
   "source": [
    "vgg19_train = pd.read_csv('../inception-resnet-v2/vgg19-data/vgg19_train.csv')\n",
    "vgg19_valid = pd.read_csv('../inception-resnet-v2/vgg19-data/vgg19_valid.csv')\n",
    "vgg19_test = pd.read_csv('../inception-resnet-v2/vgg19-data/vgg19_test.csv')"
   ]
  },
  {
   "cell_type": "code",
   "execution_count": 11,
   "id": "95a7baf2-a6d6-4ed8-ae3d-f9fb796bcf07",
   "metadata": {
    "execution": {
     "iopub.execute_input": "2024-02-07T14:01:33.880308Z",
     "iopub.status.busy": "2024-02-07T14:01:33.879940Z",
     "iopub.status.idle": "2024-02-07T14:01:33.893266Z",
     "shell.execute_reply": "2024-02-07T14:01:33.892575Z",
     "shell.execute_reply.started": "2024-02-07T14:01:33.880283Z"
    },
    "tags": []
   },
   "outputs": [],
   "source": [
    "vgg19_combined = pd.concat([vgg19_train, vgg19_valid, vgg19_test])"
   ]
  },
  {
   "cell_type": "code",
   "execution_count": 30,
   "id": "85edde67-aec9-4c40-b86f-c74138265387",
   "metadata": {
    "execution": {
     "iopub.execute_input": "2024-02-06T16:00:12.494582Z",
     "iopub.status.busy": "2024-02-06T16:00:12.494194Z",
     "iopub.status.idle": "2024-02-06T16:00:12.606017Z",
     "shell.execute_reply": "2024-02-06T16:00:12.605295Z",
     "shell.execute_reply.started": "2024-02-06T16:00:12.494559Z"
    }
   },
   "outputs": [
    {
     "data": {
      "text/plain": [
       "0"
      ]
     },
     "execution_count": 30,
     "metadata": {},
     "output_type": "execute_result"
    }
   ],
   "source": [
    "vgg19_combined.duplicated().sum()"
   ]
  },
  {
   "cell_type": "code",
   "execution_count": 31,
   "id": "dfcefa70-0062-45ec-8755-1a111f1f4b6a",
   "metadata": {
    "execution": {
     "iopub.execute_input": "2024-02-06T16:00:18.871475Z",
     "iopub.status.busy": "2024-02-06T16:00:18.871071Z",
     "iopub.status.idle": "2024-02-06T16:00:18.876836Z",
     "shell.execute_reply": "2024-02-06T16:00:18.876036Z",
     "shell.execute_reply.started": "2024-02-06T16:00:18.871447Z"
    }
   },
   "outputs": [
    {
     "data": {
      "text/plain": [
       "(3781, 514)"
      ]
     },
     "execution_count": 31,
     "metadata": {},
     "output_type": "execute_result"
    }
   ],
   "source": [
    "vgg19_combined.shape"
   ]
  },
  {
   "cell_type": "markdown",
   "id": "d473f7c7-8f00-4274-86e5-a958f4034235",
   "metadata": {},
   "source": [
    " ---"
   ]
  },
  {
   "cell_type": "markdown",
   "id": "8a5f233c-7609-4543-ba85-593b14150bf0",
   "metadata": {
    "tags": []
   },
   "source": [
    "# >> CatBoost (InceptionV3 Featuers)"
   ]
  },
  {
   "cell_type": "code",
   "execution_count": 66,
   "id": "d7d098e2-d71b-4fc5-8f6c-7999f1e9baca",
   "metadata": {
    "execution": {
     "iopub.execute_input": "2024-02-06T16:16:42.958221Z",
     "iopub.status.busy": "2024-02-06T16:16:42.957760Z",
     "iopub.status.idle": "2024-02-06T16:16:43.030351Z",
     "shell.execute_reply": "2024-02-06T16:16:43.029695Z",
     "shell.execute_reply.started": "2024-02-06T16:16:42.958190Z"
    },
    "tags": []
   },
   "outputs": [],
   "source": [
    "#Defining train/valid/test split\n",
    "X_full, X_test, y_full, y_test = train_test_split(incV3_combined, incV3_combined['incV3_label'], test_size=0.2, random_state=42)\n",
    "X_train, X_valid, y_train, y_valid = train_test_split(X_full, y_full, test_size=0.25, random_state=42)"
   ]
  },
  {
   "cell_type": "code",
   "execution_count": 67,
   "id": "5f816e69-65b7-4215-a74c-fbf1bb1dc23b",
   "metadata": {
    "execution": {
     "iopub.execute_input": "2024-02-06T16:16:43.549982Z",
     "iopub.status.busy": "2024-02-06T16:16:43.549571Z",
     "iopub.status.idle": "2024-02-06T16:16:43.673016Z",
     "shell.execute_reply": "2024-02-06T16:16:43.672375Z",
     "shell.execute_reply.started": "2024-02-06T16:16:43.549958Z"
    },
    "tags": []
   },
   "outputs": [],
   "source": [
    "X_full = X_full.drop(['incV3_file_id', 'incV3_label'], axis=1).reset_index(drop=True)\n",
    "X_train = X_train.drop(['incV3_file_id', 'incV3_label'], axis=1).reset_index(drop=True)\n",
    "X_valid = X_valid.drop(['incV3_file_id', 'incV3_label'], axis=1).reset_index(drop=True)\n",
    "X_test = X_test.drop(['incV3_file_id', 'incV3_label'], axis=1).reset_index(drop=True)"
   ]
  },
  {
   "cell_type": "code",
   "execution_count": 72,
   "id": "e9bee52f-029b-4aee-9fca-0a67eb51616f",
   "metadata": {
    "execution": {
     "iopub.execute_input": "2024-02-06T16:18:13.388744Z",
     "iopub.status.busy": "2024-02-06T16:18:13.388283Z",
     "iopub.status.idle": "2024-02-06T16:18:13.393283Z",
     "shell.execute_reply": "2024-02-06T16:18:13.392638Z",
     "shell.execute_reply.started": "2024-02-06T16:18:13.388712Z"
    },
    "tags": []
   },
   "outputs": [],
   "source": [
    "y_full = y_full.reset_index(drop=True)\n",
    "y_train = y_train.reset_index(drop=True)\n",
    "y_valid = y_valid.reset_index(drop=True)\n",
    "y_test = y_test.reset_index(drop=True)"
   ]
  },
  {
   "cell_type": "code",
   "execution_count": 74,
   "id": "987ac4b4-5099-4f96-a480-002a2a77b8b3",
   "metadata": {
    "execution": {
     "iopub.execute_input": "2024-02-06T16:24:42.877654Z",
     "iopub.status.busy": "2024-02-06T16:24:42.877258Z",
     "iopub.status.idle": "2024-02-06T16:24:43.854099Z",
     "shell.execute_reply": "2024-02-06T16:24:43.853476Z",
     "shell.execute_reply.started": "2024-02-06T16:24:42.877626Z"
    },
    "tags": []
   },
   "outputs": [],
   "source": [
    "full_pool = Pool(\n",
    "    data = X_full,\n",
    "    label = y_full,\n",
    ")\n",
    "\n",
    "train_pool = Pool(\n",
    "    data = X_train,\n",
    "    label = y_train,\n",
    ")\n",
    "\n",
    "validation_pool = Pool(\n",
    "    data = X_valid,\n",
    "    label = y_valid,\n",
    ")\n",
    "\n",
    "test_pool = Pool(\n",
    "    data = X_test,\n",
    "    label = y_test,\n",
    ")"
   ]
  },
  {
   "cell_type": "markdown",
   "id": "ac371c4e-0305-4b07-bbe4-235f3cecd5b4",
   "metadata": {
    "tags": []
   },
   "source": [
    "## \"Out of the box\" Classifier"
   ]
  },
  {
   "cell_type": "code",
   "execution_count": 103,
   "id": "312af50b-6e2d-4a2f-a2b5-90c803519957",
   "metadata": {
    "execution": {
     "iopub.execute_input": "2024-02-06T16:47:55.670538Z",
     "iopub.status.busy": "2024-02-06T16:47:55.670121Z",
     "iopub.status.idle": "2024-02-06T16:47:55.674462Z",
     "shell.execute_reply": "2024-02-06T16:47:55.673662Z",
     "shell.execute_reply.started": "2024-02-06T16:47:55.670512Z"
    },
    "tags": []
   },
   "outputs": [],
   "source": [
    "#Out of the box classifier\n",
    "v3_classifier = CatBoostClassifier(\n",
    "                    task_type = 'GPU',\n",
    "                    loss_function = 'MultiClass',\n",
    "                    eval_metric = 'Accuracy'\n",
    "                    )"
   ]
  },
  {
   "cell_type": "code",
   "execution_count": 104,
   "id": "553bdd12-84eb-4a0e-9788-dfb9f6458c74",
   "metadata": {
    "execution": {
     "iopub.execute_input": "2024-02-06T16:47:56.160278Z",
     "iopub.status.busy": "2024-02-06T16:47:56.159895Z",
     "iopub.status.idle": "2024-02-06T16:49:10.485896Z",
     "shell.execute_reply": "2024-02-06T16:49:10.485029Z",
     "shell.execute_reply.started": "2024-02-06T16:47:56.160252Z"
    },
    "tags": []
   },
   "outputs": [
    {
     "name": "stdout",
     "output_type": "stream",
     "text": [
      "Learning rate set to 0.114222\n",
      "0:\tlearn: 0.5952381\ttest: 0.5529101\tbest: 0.5529101 (0)\ttotal: 95.5ms\tremaining: 1m 35s\n",
      "200:\tlearn: 0.9885362\ttest: 0.8373016\tbest: 0.8439153 (173)\ttotal: 15.7s\tremaining: 1m 2s\n",
      "400:\tlearn: 1.0000000\ttest: 0.8439153\tbest: 0.8478836 (398)\ttotal: 30s\tremaining: 44.8s\n",
      "600:\tlearn: 1.0000000\ttest: 0.8505291\tbest: 0.8544974 (503)\ttotal: 44.4s\tremaining: 29.5s\n",
      "800:\tlearn: 1.0000000\ttest: 0.8584656\tbest: 0.8597884 (790)\ttotal: 59s\tremaining: 14.7s\n",
      "999:\tlearn: 1.0000000\ttest: 0.8611111\tbest: 0.8637566 (940)\ttotal: 1m 13s\tremaining: 0us\n",
      "bestTest = 0.8637566138\n",
      "bestIteration = 940\n",
      "Shrink model to first 941 iterations.\n"
     ]
    },
    {
     "data": {
      "text/plain": [
       "<catboost.core.CatBoostClassifier at 0x7f156b556f70>"
      ]
     },
     "execution_count": 104,
     "metadata": {},
     "output_type": "execute_result"
    }
   ],
   "source": [
    "v3_classifier.fit(train_pool,\n",
    "          eval_set=validation_pool,\n",
    "          verbose=200)"
   ]
  },
  {
   "cell_type": "code",
   "execution_count": 105,
   "id": "f034d9d1-e07e-45fc-a80a-50d43553816f",
   "metadata": {
    "execution": {
     "iopub.execute_input": "2024-02-06T16:49:10.488043Z",
     "iopub.status.busy": "2024-02-06T16:49:10.487331Z",
     "iopub.status.idle": "2024-02-06T16:49:10.497481Z",
     "shell.execute_reply": "2024-02-06T16:49:10.496677Z",
     "shell.execute_reply.started": "2024-02-06T16:49:10.488011Z"
    },
    "tags": []
   },
   "outputs": [
    {
     "data": {
      "text/plain": [
       "dict_keys(['Accuracy', 'MultiClass'])"
      ]
     },
     "execution_count": 105,
     "metadata": {},
     "output_type": "execute_result"
    }
   ],
   "source": [
    "v3_classifier.get_evals_result()['learn'].keys()"
   ]
  },
  {
   "cell_type": "markdown",
   "id": "f30effb0-7242-40fd-8a7c-9bd47f4d72b3",
   "metadata": {},
   "source": [
    "## Train VS Validation Error"
   ]
  },
  {
   "cell_type": "code",
   "execution_count": 106,
   "id": "b7b408e9-8426-4134-a258-8918c02e084c",
   "metadata": {
    "execution": {
     "iopub.execute_input": "2024-02-06T16:53:46.643547Z",
     "iopub.status.busy": "2024-02-06T16:53:46.642997Z",
     "iopub.status.idle": "2024-02-06T16:53:46.848550Z",
     "shell.execute_reply": "2024-02-06T16:53:46.847941Z",
     "shell.execute_reply.started": "2024-02-06T16:53:46.643504Z"
    },
    "tags": []
   },
   "outputs": [
    {
     "data": {
      "image/png": "[encoded data removed]",
      "text/plain": [
       "<Figure size 640x480 with 1 Axes>"
      ]
     },
     "metadata": {},
     "output_type": "display_data"
    }
   ],
   "source": [
    "best_iteration = v3_classifier.best_iteration_\n",
    "plt.plot(v3_classifier.get_evals_result()['learn']['MultiClass'], label = \"Train\")\n",
    "plt.plot(v3_classifier.get_evals_result()['validation']['MultiClass'], label = \"Validation\")\n",
    "plt.axvline(x=best_iteration, color='red', linestyle='--', label=f'Best iteration:{best_iteration}')\n",
    "plt.legend();"
   ]
  },
  {
   "cell_type": "markdown",
   "id": "f4d75f9b-2cc3-4928-b020-03d65e20c2b2",
   "metadata": {},
   "source": [
    "## Accuracy"
   ]
  },
  {
   "cell_type": "code",
   "execution_count": 107,
   "id": "de43dfba-e244-4e71-829b-8ef50f321f86",
   "metadata": {
    "execution": {
     "iopub.execute_input": "2024-02-06T16:53:49.424432Z",
     "iopub.status.busy": "2024-02-06T16:53:49.424024Z",
     "iopub.status.idle": "2024-02-06T16:53:49.574874Z",
     "shell.execute_reply": "2024-02-06T16:53:49.574103Z",
     "shell.execute_reply.started": "2024-02-06T16:53:49.424404Z"
    },
    "tags": []
   },
   "outputs": [
    {
     "data": {
      "image/png": "[encoded data removed]",
      "text/plain": [
       "<Figure size 640x480 with 1 Axes>"
      ]
     },
     "metadata": {},
     "output_type": "display_data"
    }
   ],
   "source": [
    "plt.plot(v3_classifier.get_evals_result()['learn']['Accuracy'], label = \"Train\")\n",
    "plt.plot(v3_classifier.get_evals_result()['validation']['Accuracy'], label = \"Validation\")\n",
    "plt.axvline(x=best_iteration, color='red', linestyle='--', label=f'Best iteration:{best_iteration}')\n",
    "plt.legend();"
   ]
  },
  {
   "cell_type": "code",
   "execution_count": 108,
   "id": "0d2a334a-c290-4515-ba45-dd422552c98b",
   "metadata": {
    "execution": {
     "iopub.execute_input": "2024-02-06T16:54:05.326240Z",
     "iopub.status.busy": "2024-02-06T16:54:05.325828Z",
     "iopub.status.idle": "2024-02-06T16:54:05.331238Z",
     "shell.execute_reply": "2024-02-06T16:54:05.330357Z",
     "shell.execute_reply.started": "2024-02-06T16:54:05.326214Z"
    },
    "tags": []
   },
   "outputs": [
    {
     "data": {
      "text/plain": [
       "{'learn': {'Accuracy': 1.0, 'MultiClass': 0.021340768803995123},\n",
       " 'validation': {'Accuracy': 0.8637566137566137,\n",
       "  'MultiClass': 0.40685050197379297}}"
      ]
     },
     "execution_count": 108,
     "metadata": {},
     "output_type": "execute_result"
    }
   ],
   "source": [
    "v3_classifier.get_best_score()"
   ]
  },
  {
   "cell_type": "markdown",
   "id": "9dda9de5-6d1f-45c1-8ab2-98998032ac83",
   "metadata": {},
   "source": [
    "## Confusion Matrix"
   ]
  },
  {
   "cell_type": "code",
   "execution_count": 109,
   "id": "b3c4484f-3d77-4bfe-98ca-8c285f91471f",
   "metadata": {
    "execution": {
     "iopub.execute_input": "2024-02-06T16:56:32.770406Z",
     "iopub.status.busy": "2024-02-06T16:56:32.770001Z",
     "iopub.status.idle": "2024-02-06T16:56:32.787435Z",
     "shell.execute_reply": "2024-02-06T16:56:32.786534Z",
     "shell.execute_reply.started": "2024-02-06T16:56:32.770382Z"
    },
    "tags": []
   },
   "outputs": [],
   "source": [
    "cm = get_confusion_matrix(v3_classifier, test_pool)"
   ]
  },
  {
   "cell_type": "code",
   "execution_count": 110,
   "id": "dbecb733-0e38-4c37-9c17-afed89553663",
   "metadata": {
    "execution": {
     "iopub.execute_input": "2024-02-06T16:56:32.945678Z",
     "iopub.status.busy": "2024-02-06T16:56:32.945280Z",
     "iopub.status.idle": "2024-02-06T16:56:33.356421Z",
     "shell.execute_reply": "2024-02-06T16:56:33.355680Z",
     "shell.execute_reply.started": "2024-02-06T16:56:32.945653Z"
    },
    "tags": []
   },
   "outputs": [
    {
     "data": {
      "image/png": "[encoded data removed]",
      "text/plain": [
       "<Figure size 640x480 with 2 Axes>"
      ]
     },
     "metadata": {},
     "output_type": "display_data"
    }
   ],
   "source": [
    "disp = ConfusionMatrixDisplay(confusion_matrix=cm.astype(int),\n",
    "                                display_labels=v3_classifier.classes_)\n",
    "disp.plot();"
   ]
  },
  {
   "cell_type": "code",
   "execution_count": 111,
   "id": "6181cbff-4541-47c6-947b-bd03f2591167",
   "metadata": {
    "execution": {
     "iopub.execute_input": "2024-02-06T16:56:40.742201Z",
     "iopub.status.busy": "2024-02-06T16:56:40.741789Z",
     "iopub.status.idle": "2024-02-06T16:56:40.748071Z",
     "shell.execute_reply": "2024-02-06T16:56:40.747345Z",
     "shell.execute_reply.started": "2024-02-06T16:56:40.742174Z"
    }
   },
   "outputs": [
    {
     "data": {
      "text/plain": [
       "9    175\n",
       "4    135\n",
       "2    115\n",
       "0     65\n",
       "5     58\n",
       "6     54\n",
       "3     49\n",
       "7     47\n",
       "1     40\n",
       "8     19\n",
       "Name: incV3_label, dtype: int64"
      ]
     },
     "execution_count": 111,
     "metadata": {},
     "output_type": "execute_result"
    }
   ],
   "source": [
    "y_test.value_counts()"
   ]
  },
  {
   "cell_type": "markdown",
   "id": "9a9ad411-1ac6-4802-a9da-5cdcd3947280",
   "metadata": {},
   "source": [
    "## Overfitting detection\n",
    "\n",
    "In this case since we explicitly stated `eval_metric='Accuracy'` then instead of `loss_function = 'MultiClass'` (which is by default) we will trace `early_stopping_rounds=50` for `Accuracy` score."
   ]
  },
  {
   "cell_type": "code",
   "execution_count": 113,
   "id": "f8c5b7fc-8347-4ce6-8613-3a781e58b0b4",
   "metadata": {
    "execution": {
     "iopub.execute_input": "2024-02-06T16:58:28.827327Z",
     "iopub.status.busy": "2024-02-06T16:58:28.826574Z",
     "iopub.status.idle": "2024-02-06T16:58:46.817105Z",
     "shell.execute_reply": "2024-02-06T16:58:46.816425Z",
     "shell.execute_reply.started": "2024-02-06T16:58:28.827267Z"
    },
    "tags": []
   },
   "outputs": [
    {
     "name": "stdout",
     "output_type": "stream",
     "text": [
      "Learning rate set to 0.114222\n",
      "0:\tlearn: 0.5952381\ttest: 0.5529101\tbest: 0.5529101 (0)\ttotal: 94.7ms\tremaining: 1m 34s\n",
      "200:\tlearn: 0.9885362\ttest: 0.8373016\tbest: 0.8439153 (173)\ttotal: 15.7s\tremaining: 1m 2s\n",
      "bestTest = 0.8439153439\n",
      "bestIteration = 173\n",
      "Shrink model to first 174 iterations.\n"
     ]
    },
    {
     "data": {
      "text/plain": [
       "<catboost.core.CatBoostClassifier at 0x7f156b5b5df0>"
      ]
     },
     "execution_count": 113,
     "metadata": {},
     "output_type": "execute_result"
    }
   ],
   "source": [
    "#Out of the box classifier\n",
    "v3_classifier = CatBoostClassifier(\n",
    "                    task_type = 'GPU',\n",
    "                    loss_function = 'MultiClass',\n",
    "                    eval_metric = 'Accuracy',\n",
    "                    early_stopping_rounds = 50\n",
    "                    )\n",
    "\n",
    "v3_classifier.fit(train_pool,\n",
    "          eval_set=validation_pool,\n",
    "          verbose=200)"
   ]
  },
  {
   "cell_type": "code",
   "execution_count": 115,
   "id": "f7fdc542-5e94-4ac0-98a0-97be09208255",
   "metadata": {
    "execution": {
     "iopub.execute_input": "2024-02-06T16:59:23.961265Z",
     "iopub.status.busy": "2024-02-06T16:59:23.960861Z",
     "iopub.status.idle": "2024-02-06T16:59:24.130228Z",
     "shell.execute_reply": "2024-02-06T16:59:24.129420Z",
     "shell.execute_reply.started": "2024-02-06T16:59:23.961239Z"
    },
    "tags": []
   },
   "outputs": [
    {
     "data": {
      "image/png": "[encoded data removed]",
      "text/plain": [
       "<Figure size 640x480 with 1 Axes>"
      ]
     },
     "metadata": {},
     "output_type": "display_data"
    }
   ],
   "source": [
    "best_iteration = v3_classifier.best_iteration_\n",
    "plt.plot(v3_classifier.get_evals_result()['learn']['Accuracy'], label = \"Train\")\n",
    "plt.plot(v3_classifier.get_evals_result()['validation']['Accuracy'], label = \"Validation\")\n",
    "plt.axvline(x=best_iteration, color='red', linestyle='--', label=f'Best iteration:{best_iteration}')\n",
    "plt.legend();"
   ]
  },
  {
   "cell_type": "code",
   "execution_count": 116,
   "id": "b9a678f0-3ec5-4e12-b9b1-43c2db3aa6dd",
   "metadata": {
    "execution": {
     "iopub.execute_input": "2024-02-06T16:59:57.167915Z",
     "iopub.status.busy": "2024-02-06T16:59:57.167508Z",
     "iopub.status.idle": "2024-02-06T16:59:57.325313Z",
     "shell.execute_reply": "2024-02-06T16:59:57.324563Z",
     "shell.execute_reply.started": "2024-02-06T16:59:57.167890Z"
    }
   },
   "outputs": [
    {
     "data": {
      "image/png": "[encoded data removed]",
      "text/plain": [
       "<Figure size 640x480 with 1 Axes>"
      ]
     },
     "metadata": {},
     "output_type": "display_data"
    }
   ],
   "source": [
    "plt.plot(v3_classifier.get_evals_result()['learn']['MultiClass'], label = \"Train\")\n",
    "plt.plot(v3_classifier.get_evals_result()['validation']['MultiClass'], label = \"Validation\")\n",
    "plt.axvline(x=best_iteration, color='red', linestyle='--', label=f'Best iteration:{best_iteration}')\n",
    "plt.legend();"
   ]
  },
  {
   "cell_type": "code",
   "execution_count": 117,
   "id": "00f83387-4471-4a61-9717-6a404d544ceb",
   "metadata": {
    "execution": {
     "iopub.execute_input": "2024-02-06T17:03:52.981455Z",
     "iopub.status.busy": "2024-02-06T17:03:52.981042Z",
     "iopub.status.idle": "2024-02-06T17:03:53.403928Z",
     "shell.execute_reply": "2024-02-06T17:03:53.403147Z",
     "shell.execute_reply.started": "2024-02-06T17:03:52.981428Z"
    }
   },
   "outputs": [
    {
     "data": {
      "image/png": "[encoded data removed]",
      "text/plain": [
       "<Figure size 640x480 with 2 Axes>"
      ]
     },
     "metadata": {},
     "output_type": "display_data"
    }
   ],
   "source": [
    "cm = get_confusion_matrix(v3_classifier, test_pool)\n",
    "disp = ConfusionMatrixDisplay(confusion_matrix=cm.astype(int),\n",
    "                                display_labels=v3_classifier.classes_)\n",
    "disp.plot();"
   ]
  },
  {
   "cell_type": "code",
   "execution_count": 118,
   "id": "b9c48d60-22ec-4df3-9fe6-14895fd897c3",
   "metadata": {
    "execution": {
     "iopub.execute_input": "2024-02-06T17:04:28.892598Z",
     "iopub.status.busy": "2024-02-06T17:04:28.892167Z",
     "iopub.status.idle": "2024-02-06T17:04:28.897700Z",
     "shell.execute_reply": "2024-02-06T17:04:28.896937Z",
     "shell.execute_reply.started": "2024-02-06T17:04:28.892572Z"
    }
   },
   "outputs": [
    {
     "data": {
      "text/plain": [
       "{'learn': {'Accuracy': 0.9920634920634921, 'MultiClass': 0.15171649805031967},\n",
       " 'validation': {'Accuracy': 0.843915343915344,\n",
       "  'MultiClass': 0.4920479103370949}}"
      ]
     },
     "execution_count": 118,
     "metadata": {},
     "output_type": "execute_result"
    }
   ],
   "source": [
    "v3_classifier.get_best_score()"
   ]
  },
  {
   "cell_type": "markdown",
   "id": "e383e3ff-fadc-4c48-9cf8-1ad4994d8cd6",
   "metadata": {
    "tags": []
   },
   "source": [
    "## Tuning the model"
   ]
  },
  {
   "cell_type": "code",
   "execution_count": 178,
   "id": "bf9c3fa9-8dee-4213-a28b-cd109da91df8",
   "metadata": {
    "execution": {
     "iopub.execute_input": "2024-02-06T18:27:24.697609Z",
     "iopub.status.busy": "2024-02-06T18:27:24.697166Z",
     "iopub.status.idle": "2024-02-06T18:27:24.703951Z",
     "shell.execute_reply": "2024-02-06T18:27:24.702931Z",
     "shell.execute_reply.started": "2024-02-06T18:27:24.697584Z"
    },
    "tags": []
   },
   "outputs": [],
   "source": [
    "def hyperopt_objective(params):\n",
    "    print(params)\n",
    "    model = CatBoostClassifier(**params,\n",
    "                               #task_type = 'GPU',\n",
    "                               early_stopping_rounds=50,\n",
    "                               loss_function = 'MultiClass',\n",
    "                               random_seed = RANDOM_SEED)\n",
    "    \n",
    "    model.fit(train_pool, verbose=0, eval_set=validation_pool)\n",
    "    \n",
    "    y_valid = validation_pool.get_label()\n",
    "    y_pred = model.predict_proba(validation_pool)\n",
    "    return  -eval_metric(y_valid, y_pred, 'Accuracy')[0]\n",
    "\n",
    "space = {\n",
    "    'learning_rate': hp.uniform('learning_rate', 0.01, 0.1),\n",
    "    'depth': hp.randint('depth', 4, 10),\n",
    "    'l2_leaf_reg': hp.uniform('l2_leaf_reg', 1, 10)\n",
    "}"
   ]
  },
  {
   "cell_type": "code",
   "execution_count": null,
   "id": "5ae60ce6-4563-4ece-a557-fb8418296e5b",
   "metadata": {},
   "outputs": [],
   "source": [
    "#It took around 21mins on Saturn Cloud (T4-XLarge - 4 cores - 16 GB RAM - 1 GPU (Tesla P4) - 10Gi Disk)\n",
    "# best = fmin(hyperopt_objective,\n",
    "#             space=space,\n",
    "#             algo=tpe.suggest,\n",
    "#             max_evals=10,\n",
    "#             rstate=np.random.default_rng(RANDOM_SEED))"
   ]
  },
  {
   "cell_type": "code",
   "execution_count": 168,
   "id": "4c5ca2e5-d646-4f0c-b369-6b8603f25ef2",
   "metadata": {
    "execution": {
     "iopub.execute_input": "2024-02-06T18:23:02.998199Z",
     "iopub.status.busy": "2024-02-06T18:23:02.997776Z",
     "iopub.status.idle": "2024-02-06T18:23:03.002188Z",
     "shell.execute_reply": "2024-02-06T18:23:03.001273Z",
     "shell.execute_reply.started": "2024-02-06T18:23:02.998172Z"
    },
    "tags": []
   },
   "outputs": [],
   "source": [
    "best_params = {'depth': 7,\n",
    "               'l2_leaf_reg': 2.909954052940017,\n",
    "               'learning_rate': 0.046339990323578134}"
   ]
  },
  {
   "cell_type": "code",
   "execution_count": 169,
   "id": "1598af45-06a3-41db-ba68-7b637b0440cf",
   "metadata": {
    "execution": {
     "iopub.execute_input": "2024-02-06T18:23:04.144879Z",
     "iopub.status.busy": "2024-02-06T18:23:04.144481Z",
     "iopub.status.idle": "2024-02-06T18:25:20.356082Z",
     "shell.execute_reply": "2024-02-06T18:25:20.355165Z",
     "shell.execute_reply.started": "2024-02-06T18:23:04.144852Z"
    },
    "tags": []
   },
   "outputs": [
    {
     "name": "stdout",
     "output_type": "stream",
     "text": [
      "0:\tlearn: 2.1669463\ttest: 2.1711051\tbest: 2.1711051 (0)\ttotal: 153ms\tremaining: 2m 33s\n",
      "100:\tlearn: 0.5032672\ttest: 0.7291554\tbest: 0.7291554 (100)\ttotal: 16.2s\tremaining: 2m 24s\n",
      "200:\tlearn: 0.2978508\ttest: 0.6008229\tbest: 0.6008229 (200)\ttotal: 30.9s\tremaining: 2m 2s\n",
      "300:\tlearn: 0.2074929\ttest: 0.5449385\tbest: 0.5449385 (300)\ttotal: 44.7s\tremaining: 1m 43s\n",
      "400:\tlearn: 0.1598361\ttest: 0.5144761\tbest: 0.5144761 (400)\ttotal: 57.8s\tremaining: 1m 26s\n",
      "500:\tlearn: 0.1278906\ttest: 0.4942862\tbest: 0.4942862 (500)\ttotal: 1m 10s\tremaining: 1m 10s\n",
      "600:\tlearn: 0.1054315\ttest: 0.4779854\tbest: 0.4779854 (600)\ttotal: 1m 23s\tremaining: 55.5s\n",
      "700:\tlearn: 0.0878831\ttest: 0.4647899\tbest: 0.4647899 (700)\ttotal: 1m 36s\tremaining: 41.2s\n",
      "800:\tlearn: 0.0742222\ttest: 0.4550239\tbest: 0.4550239 (800)\ttotal: 1m 49s\tremaining: 27.2s\n",
      "900:\tlearn: 0.0635494\ttest: 0.4470704\tbest: 0.4470704 (900)\ttotal: 2m 2s\tremaining: 13.5s\n",
      "999:\tlearn: 0.0548858\ttest: 0.4374532\tbest: 0.4374532 (999)\ttotal: 2m 15s\tremaining: 0us\n",
      "bestTest = 0.4374531741\n",
      "bestIteration = 999\n"
     ]
    },
    {
     "data": {
      "text/plain": [
       "<catboost.core.CatBoostClassifier at 0x7f155ce46460>"
      ]
     },
     "execution_count": 169,
     "metadata": {},
     "output_type": "execute_result"
    }
   ],
   "source": [
    "model = CatBoostClassifier(**best_params,\n",
    "                               task_type = 'GPU',\n",
    "                               loss_function = 'MultiClass',\n",
    "                               eval_metric = 'MultiClass',\n",
    "                               custom_loss= ['Accuracy'],\n",
    "                               random_seed = RANDOM_SEED)\n",
    "    \n",
    "model.fit(train_pool, verbose=100, eval_set=validation_pool)"
   ]
  },
  {
   "cell_type": "code",
   "execution_count": 173,
   "id": "d71e8f51-4729-4b26-8091-c571a22c9992",
   "metadata": {
    "execution": {
     "iopub.execute_input": "2024-02-06T18:25:32.605596Z",
     "iopub.status.busy": "2024-02-06T18:25:32.605193Z",
     "iopub.status.idle": "2024-02-06T18:25:32.792912Z",
     "shell.execute_reply": "2024-02-06T18:25:32.792147Z",
     "shell.execute_reply.started": "2024-02-06T18:25:32.605572Z"
    },
    "tags": []
   },
   "outputs": [
    {
     "data": {
      "image/png": "[encoded data removed]",
      "text/plain": [
       "<Figure size 640x480 with 1 Axes>"
      ]
     },
     "metadata": {},
     "output_type": "display_data"
    }
   ],
   "source": [
    "best_iteration = model.best_iteration_\n",
    "plt.plot(model.get_evals_result()['learn']['Accuracy'], label = \"Train\")\n",
    "plt.plot(model.get_evals_result()['validation']['Accuracy'], label = \"Validation\")\n",
    "plt.axvline(x=best_iteration, color='red', linestyle='--', label=f'Best iteration:{best_iteration}')\n",
    "plt.legend();"
   ]
  },
  {
   "cell_type": "code",
   "execution_count": 174,
   "id": "1201c17d-e96d-4e8e-b670-1425ce2f413c",
   "metadata": {
    "execution": {
     "iopub.execute_input": "2024-02-06T18:25:47.972812Z",
     "iopub.status.busy": "2024-02-06T18:25:47.972413Z",
     "iopub.status.idle": "2024-02-06T18:25:47.977447Z",
     "shell.execute_reply": "2024-02-06T18:25:47.976805Z",
     "shell.execute_reply.started": "2024-02-06T18:25:47.972788Z"
    },
    "tags": []
   },
   "outputs": [
    {
     "data": {
      "text/plain": [
       "{'learn': {'Accuracy': 1.0, 'MultiClass': 0.05488581043492339},\n",
       " 'validation': {'Accuracy': 0.8650793650793651,\n",
       "  'MultiClass': 0.4374531740864749}}"
      ]
     },
     "execution_count": 174,
     "metadata": {},
     "output_type": "execute_result"
    }
   ],
   "source": [
    "model.best_score_"
   ]
  },
  {
   "cell_type": "code",
   "execution_count": 175,
   "id": "90e373cb-f54e-44f0-9c9d-a45beebeda20",
   "metadata": {
    "execution": {
     "iopub.execute_input": "2024-02-06T18:25:48.226960Z",
     "iopub.status.busy": "2024-02-06T18:25:48.226516Z",
     "iopub.status.idle": "2024-02-06T18:25:48.367557Z",
     "shell.execute_reply": "2024-02-06T18:25:48.366883Z",
     "shell.execute_reply.started": "2024-02-06T18:25:48.226935Z"
    },
    "tags": []
   },
   "outputs": [
    {
     "data": {
      "image/png": "[encoded data removed]",
      "text/plain": [
       "<Figure size 640x480 with 1 Axes>"
      ]
     },
     "metadata": {},
     "output_type": "display_data"
    }
   ],
   "source": [
    "plt.plot(model.get_evals_result()['learn']['MultiClass'], label = \"Train\")\n",
    "plt.plot(model.get_evals_result()['validation']['MultiClass'], label = \"Validation\")\n",
    "plt.axvline(x=best_iteration, color='red', linestyle='--', label=f'Best iteration:{best_iteration}')\n",
    "plt.legend();"
   ]
  },
  {
   "cell_type": "markdown",
   "id": "a5631630-99a1-4eb2-9de5-236fd00a95c2",
   "metadata": {
    "jp-MarkdownHeadingCollapsed": true,
    "tags": []
   },
   "source": [
    "# >> CatBoost (Xception Features)"
   ]
  },
  {
   "cell_type": "code",
   "execution_count": 180,
   "id": "4f9e3376-3086-45e1-b116-a97f49dd7a7e",
   "metadata": {
    "execution": {
     "iopub.execute_input": "2024-02-06T18:37:56.050146Z",
     "iopub.status.busy": "2024-02-06T18:37:56.049518Z",
     "iopub.status.idle": "2024-02-06T18:37:56.055389Z",
     "shell.execute_reply": "2024-02-06T18:37:56.054626Z",
     "shell.execute_reply.started": "2024-02-06T18:37:56.050115Z"
    }
   },
   "outputs": [
    {
     "data": {
      "text/plain": [
       "Index(['xc_0', 'xc_1', 'xc_2', 'xc_3', 'xc_4', 'xc_5', 'xc_6', 'xc_7', 'xc_8',\n",
       "       'xc_9',\n",
       "       ...\n",
       "       'xc_2040', 'xc_2041', 'xc_2042', 'xc_2043', 'xc_2044', 'xc_2045',\n",
       "       'xc_2046', 'xc_2047', 'xc_file_id', 'xc_label'],\n",
       "      dtype='object', length=2050)"
      ]
     },
     "execution_count": 180,
     "metadata": {},
     "output_type": "execute_result"
    }
   ],
   "source": [
    "xc_combined.columns"
   ]
  },
  {
   "cell_type": "code",
   "execution_count": 181,
   "id": "0f712e85-2aad-417b-bc6b-b04fdceca0fa",
   "metadata": {
    "execution": {
     "iopub.execute_input": "2024-02-06T18:38:11.320870Z",
     "iopub.status.busy": "2024-02-06T18:38:11.320478Z",
     "iopub.status.idle": "2024-02-06T18:38:11.390077Z",
     "shell.execute_reply": "2024-02-06T18:38:11.389413Z",
     "shell.execute_reply.started": "2024-02-06T18:38:11.320843Z"
    }
   },
   "outputs": [],
   "source": [
    "#Defining train/valid/test split\n",
    "X_full, X_test, y_full, y_test = train_test_split(xc_combined, xc_combined['xc_label'], test_size=0.2, random_state=42)\n",
    "X_train, X_valid, y_train, y_valid = train_test_split(X_full, y_full, test_size=0.25, random_state=42)"
   ]
  },
  {
   "cell_type": "code",
   "execution_count": 182,
   "id": "09fa0f97-db3a-44c8-aa6b-6cd35a30175b",
   "metadata": {
    "execution": {
     "iopub.execute_input": "2024-02-06T18:38:49.532945Z",
     "iopub.status.busy": "2024-02-06T18:38:49.532542Z",
     "iopub.status.idle": "2024-02-06T18:38:49.644064Z",
     "shell.execute_reply": "2024-02-06T18:38:49.643423Z",
     "shell.execute_reply.started": "2024-02-06T18:38:49.532917Z"
    }
   },
   "outputs": [],
   "source": [
    "X_full = X_full.drop(['xc_file_id', 'xc_label'], axis=1).reset_index(drop=True)\n",
    "X_train = X_train.drop(['xc_file_id', 'xc_label'], axis=1).reset_index(drop=True)\n",
    "X_valid = X_valid.drop(['xc_file_id', 'xc_label'], axis=1).reset_index(drop=True)\n",
    "X_test = X_test.drop(['xc_file_id', 'xc_label'], axis=1).reset_index(drop=True)"
   ]
  },
  {
   "cell_type": "code",
   "execution_count": 192,
   "id": "b8b9937b-059a-4ed7-8063-a09e6186788c",
   "metadata": {
    "execution": {
     "iopub.execute_input": "2024-02-06T18:44:44.560884Z",
     "iopub.status.busy": "2024-02-06T18:44:44.560480Z",
     "iopub.status.idle": "2024-02-06T18:44:44.565631Z",
     "shell.execute_reply": "2024-02-06T18:44:44.564797Z",
     "shell.execute_reply.started": "2024-02-06T18:44:44.560859Z"
    },
    "tags": []
   },
   "outputs": [],
   "source": [
    "y_full = y_full.reset_index(drop=True)\n",
    "y_train = y_train.reset_index(drop=True)\n",
    "y_valid = y_valid.reset_index(drop=True)\n",
    "y_test = y_test.reset_index(drop=True)"
   ]
  },
  {
   "cell_type": "code",
   "execution_count": 184,
   "id": "ec561d5a-4934-4c1b-b646-b38df563f869",
   "metadata": {
    "execution": {
     "iopub.execute_input": "2024-02-06T18:38:54.277540Z",
     "iopub.status.busy": "2024-02-06T18:38:54.277156Z",
     "iopub.status.idle": "2024-02-06T18:38:54.572465Z",
     "shell.execute_reply": "2024-02-06T18:38:54.571799Z",
     "shell.execute_reply.started": "2024-02-06T18:38:54.277514Z"
    }
   },
   "outputs": [],
   "source": [
    "full_pool = Pool(\n",
    "    data = X_full,\n",
    "    label = y_full,\n",
    ")\n",
    "\n",
    "train_pool = Pool(\n",
    "    data = X_train,\n",
    "    label = y_train,\n",
    ")\n",
    "\n",
    "validation_pool = Pool(\n",
    "    data = X_valid,\n",
    "    label = y_valid,\n",
    ")\n",
    "\n",
    "test_pool = Pool(\n",
    "    data = X_test,\n",
    "    label = y_test,\n",
    ")"
   ]
  },
  {
   "cell_type": "code",
   "execution_count": 186,
   "id": "9ea5ea92-e534-496f-b7dc-645864fd2377",
   "metadata": {
    "execution": {
     "iopub.execute_input": "2024-02-06T18:40:29.735356Z",
     "iopub.status.busy": "2024-02-06T18:40:29.734919Z",
     "iopub.status.idle": "2024-02-06T18:40:39.521162Z",
     "shell.execute_reply": "2024-02-06T18:40:39.520148Z",
     "shell.execute_reply.started": "2024-02-06T18:40:29.735324Z"
    }
   },
   "outputs": [
    {
     "name": "stdout",
     "output_type": "stream",
     "text": [
      "Learning rate set to 0.114222\n",
      "0:\tlearn: 0.5974427\ttest: 0.5595238\tbest: 0.5595238 (0)\ttotal: 82.5ms\tremaining: 1m 22s\n",
      "bestTest = 0.8267195767\n",
      "bestIteration = 64\n",
      "Shrink model to first 65 iterations.\n"
     ]
    },
    {
     "data": {
      "text/plain": [
       "<catboost.core.CatBoostClassifier at 0x7f154d689f40>"
      ]
     },
     "execution_count": 186,
     "metadata": {},
     "output_type": "execute_result"
    }
   ],
   "source": [
    "xc_classifier = CatBoostClassifier(\n",
    "                    task_type = 'GPU',\n",
    "                    loss_function = 'MultiClass',\n",
    "                    eval_metric = 'Accuracy',\n",
    "                    early_stopping_rounds = 50\n",
    "                    )\n",
    "\n",
    "xc_classifier.fit(train_pool,\n",
    "          eval_set=validation_pool,\n",
    "          verbose=200)"
   ]
  },
  {
   "cell_type": "code",
   "execution_count": 187,
   "id": "b6a3663c-b07f-4221-a10c-155b6d8d2db0",
   "metadata": {
    "execution": {
     "iopub.execute_input": "2024-02-06T18:40:53.181652Z",
     "iopub.status.busy": "2024-02-06T18:40:53.181253Z",
     "iopub.status.idle": "2024-02-06T18:40:53.320241Z",
     "shell.execute_reply": "2024-02-06T18:40:53.319568Z",
     "shell.execute_reply.started": "2024-02-06T18:40:53.181626Z"
    }
   },
   "outputs": [
    {
     "data": {
      "image/png": "[encoded data removed]",
      "text/plain": [
       "<Figure size 640x480 with 1 Axes>"
      ]
     },
     "metadata": {},
     "output_type": "display_data"
    }
   ],
   "source": [
    "best_iteration = xc_classifier.best_iteration_\n",
    "plt.plot(xc_classifier.get_evals_result()['learn']['Accuracy'], label = \"Train\")\n",
    "plt.plot(xc_classifier.get_evals_result()['validation']['Accuracy'], label = \"Validation\")\n",
    "plt.axvline(x=best_iteration, color='red', linestyle='--', label=f'Best iteration:{best_iteration}')\n",
    "plt.legend();"
   ]
  },
  {
   "cell_type": "code",
   "execution_count": 190,
   "id": "8be438d5-400d-4f3b-9073-23c5f526931b",
   "metadata": {
    "execution": {
     "iopub.execute_input": "2024-02-06T18:42:31.192504Z",
     "iopub.status.busy": "2024-02-06T18:42:31.192094Z",
     "iopub.status.idle": "2024-02-06T18:42:32.535413Z",
     "shell.execute_reply": "2024-02-06T18:42:32.534773Z",
     "shell.execute_reply.started": "2024-02-06T18:42:31.192478Z"
    }
   },
   "outputs": [
    {
     "data": {
      "image/png": "[encoded data removed]",
      "text/plain": [
       "<Figure size 640x480 with 2 Axes>"
      ]
     },
     "metadata": {},
     "output_type": "display_data"
    }
   ],
   "source": [
    "cm = get_confusion_matrix(xc_classifier, test_pool)\n",
    "disp = ConfusionMatrixDisplay(confusion_matrix=cm.astype(int),\n",
    "                                display_labels=xc_classifier.classes_)\n",
    "disp.plot();"
   ]
  },
  {
   "cell_type": "code",
   "execution_count": 189,
   "id": "7d90c67a-3ff0-423b-b973-70f4adebfd26",
   "metadata": {
    "execution": {
     "iopub.execute_input": "2024-02-06T18:41:17.222020Z",
     "iopub.status.busy": "2024-02-06T18:41:17.221618Z",
     "iopub.status.idle": "2024-02-06T18:41:17.226806Z",
     "shell.execute_reply": "2024-02-06T18:41:17.226131Z",
     "shell.execute_reply.started": "2024-02-06T18:41:17.221991Z"
    },
    "tags": []
   },
   "outputs": [
    {
     "data": {
      "text/plain": [
       "{'learn': {'Accuracy': 0.9629629629629629, 'MultiClass': 0.2471420314997382},\n",
       " 'validation': {'Accuracy': 0.8267195767195767,\n",
       "  'MultiClass': 0.5185345846509176}}"
      ]
     },
     "execution_count": 189,
     "metadata": {},
     "output_type": "execute_result"
    }
   ],
   "source": [
    "xc_classifier.best_score_"
   ]
  },
  {
   "cell_type": "markdown",
   "id": "3536fd5d-86be-4e54-8b50-6f2ae22db8c7",
   "metadata": {
    "jp-MarkdownHeadingCollapsed": true,
    "tags": []
   },
   "source": [
    "# >> CatBoost (VGG19 Features)"
   ]
  },
  {
   "cell_type": "code",
   "execution_count": 197,
   "id": "0640b731-ec6e-40ef-b229-0f366a63eda7",
   "metadata": {
    "execution": {
     "iopub.execute_input": "2024-02-06T18:46:24.086114Z",
     "iopub.status.busy": "2024-02-06T18:46:24.085716Z",
     "iopub.status.idle": "2024-02-06T18:46:24.107714Z",
     "shell.execute_reply": "2024-02-06T18:46:24.107058Z",
     "shell.execute_reply.started": "2024-02-06T18:46:24.086088Z"
    },
    "tags": []
   },
   "outputs": [],
   "source": [
    "#Defining train/valid/test split\n",
    "X_full, X_test, y_full, y_test = train_test_split(vgg19_combined, vgg19_combined['vgg19_label'], test_size=0.2, random_state=42)\n",
    "X_train, X_valid, y_train, y_valid = train_test_split(X_full, y_full, test_size=0.25, random_state=42)"
   ]
  },
  {
   "cell_type": "code",
   "execution_count": 198,
   "id": "6b634425-307b-47da-8f6a-3a3bd3cc6a04",
   "metadata": {
    "execution": {
     "iopub.execute_input": "2024-02-06T18:46:26.000334Z",
     "iopub.status.busy": "2024-02-06T18:46:25.999939Z",
     "iopub.status.idle": "2024-02-06T18:46:26.019040Z",
     "shell.execute_reply": "2024-02-06T18:46:26.018408Z",
     "shell.execute_reply.started": "2024-02-06T18:46:26.000308Z"
    },
    "tags": []
   },
   "outputs": [],
   "source": [
    "X_full = X_full.drop(['vgg19_file_id', 'vgg19_label'], axis=1).reset_index(drop=True)\n",
    "X_train = X_train.drop(['vgg19_file_id', 'vgg19_label'], axis=1).reset_index(drop=True)\n",
    "X_valid = X_valid.drop(['vgg19_file_id', 'vgg19_label'], axis=1).reset_index(drop=True)\n",
    "X_test = X_test.drop(['vgg19_file_id', 'vgg19_label'], axis=1).reset_index(drop=True)"
   ]
  },
  {
   "cell_type": "code",
   "execution_count": 199,
   "id": "7f2fd8f4-c8b9-4223-adcc-dea08a08ac99",
   "metadata": {
    "execution": {
     "iopub.execute_input": "2024-02-06T18:46:27.889514Z",
     "iopub.status.busy": "2024-02-06T18:46:27.889126Z",
     "iopub.status.idle": "2024-02-06T18:46:27.893913Z",
     "shell.execute_reply": "2024-02-06T18:46:27.893232Z",
     "shell.execute_reply.started": "2024-02-06T18:46:27.889490Z"
    },
    "tags": []
   },
   "outputs": [],
   "source": [
    "y_full = y_full.reset_index(drop=True)\n",
    "y_train = y_train.reset_index(drop=True)\n",
    "y_valid = y_valid.reset_index(drop=True)\n",
    "y_test = y_test.reset_index(drop=True)"
   ]
  },
  {
   "cell_type": "code",
   "execution_count": 200,
   "id": "f043c901-c37d-4e4c-949d-285b93454fba",
   "metadata": {
    "execution": {
     "iopub.execute_input": "2024-02-06T18:46:29.364836Z",
     "iopub.status.busy": "2024-02-06T18:46:29.364440Z",
     "iopub.status.idle": "2024-02-06T18:46:29.456082Z",
     "shell.execute_reply": "2024-02-06T18:46:29.455448Z",
     "shell.execute_reply.started": "2024-02-06T18:46:29.364812Z"
    },
    "tags": []
   },
   "outputs": [],
   "source": [
    "full_pool = Pool(\n",
    "    data = X_full,\n",
    "    label = y_full,\n",
    ")\n",
    "\n",
    "train_pool = Pool(\n",
    "    data = X_train,\n",
    "    label = y_train,\n",
    ")\n",
    "\n",
    "validation_pool = Pool(\n",
    "    data = X_valid,\n",
    "    label = y_valid,\n",
    ")\n",
    "\n",
    "test_pool = Pool(\n",
    "    data = X_test,\n",
    "    label = y_test,\n",
    ")"
   ]
  },
  {
   "cell_type": "code",
   "execution_count": 201,
   "id": "0eb73f1c-cd6c-43a4-ad9c-9b6bdb4ee5e5",
   "metadata": {
    "execution": {
     "iopub.execute_input": "2024-02-06T18:46:56.130976Z",
     "iopub.status.busy": "2024-02-06T18:46:56.130580Z",
     "iopub.status.idle": "2024-02-06T18:47:02.189847Z",
     "shell.execute_reply": "2024-02-06T18:47:02.189032Z",
     "shell.execute_reply.started": "2024-02-06T18:46:56.130951Z"
    }
   },
   "outputs": [
    {
     "name": "stdout",
     "output_type": "stream",
     "text": [
      "Learning rate set to 0.114222\n",
      "0:\tlearn: 0.5277778\ttest: 0.5079365\tbest: 0.5079365 (0)\ttotal: 29.9ms\tremaining: 29.9s\n",
      "200:\tlearn: 0.9969136\ttest: 0.8214286\tbest: 0.8214286 (200)\ttotal: 4.72s\tremaining: 18.8s\n",
      "bestTest = 0.8214285714\n",
      "bestIteration = 200\n",
      "Shrink model to first 201 iterations.\n"
     ]
    },
    {
     "data": {
      "text/plain": [
       "<catboost.core.CatBoostClassifier at 0x7f154da97e80>"
      ]
     },
     "execution_count": 201,
     "metadata": {},
     "output_type": "execute_result"
    }
   ],
   "source": [
    "vgg19_classifier = CatBoostClassifier(\n",
    "                    task_type = 'GPU',\n",
    "                    loss_function = 'MultiClass',\n",
    "                    eval_metric = 'Accuracy',\n",
    "                    early_stopping_rounds = 50\n",
    "                    )\n",
    "\n",
    "vgg19_classifier.fit(train_pool,\n",
    "          eval_set=validation_pool,\n",
    "          verbose=200)"
   ]
  },
  {
   "cell_type": "code",
   "execution_count": 202,
   "id": "a31741c0-02cd-42fe-9300-9432be38f041",
   "metadata": {
    "execution": {
     "iopub.execute_input": "2024-02-06T18:47:02.191548Z",
     "iopub.status.busy": "2024-02-06T18:47:02.191191Z",
     "iopub.status.idle": "2024-02-06T18:47:02.369017Z",
     "shell.execute_reply": "2024-02-06T18:47:02.368082Z",
     "shell.execute_reply.started": "2024-02-06T18:47:02.191523Z"
    }
   },
   "outputs": [
    {
     "data": {
      "image/png": "[encoded data removed]",
      "text/plain": [
       "<Figure size 640x480 with 1 Axes>"
      ]
     },
     "metadata": {},
     "output_type": "display_data"
    }
   ],
   "source": [
    "best_iteration = vgg19_classifier.best_iteration_\n",
    "plt.plot(vgg19_classifier.get_evals_result()['learn']['Accuracy'], label = \"Train\")\n",
    "plt.plot(vgg19_classifier.get_evals_result()['validation']['Accuracy'], label = \"Validation\")\n",
    "plt.axvline(x=best_iteration, color='red', linestyle='--', label=f'Best iteration:{best_iteration}')\n",
    "plt.legend();"
   ]
  },
  {
   "cell_type": "code",
   "execution_count": 204,
   "id": "dec32acf-2c5b-4206-9cd0-72e59a21a871",
   "metadata": {
    "execution": {
     "iopub.execute_input": "2024-02-06T18:47:14.737894Z",
     "iopub.status.busy": "2024-02-06T18:47:14.737314Z",
     "iopub.status.idle": "2024-02-06T18:47:15.168132Z",
     "shell.execute_reply": "2024-02-06T18:47:15.167362Z",
     "shell.execute_reply.started": "2024-02-06T18:47:14.737850Z"
    },
    "tags": []
   },
   "outputs": [
    {
     "data": {
      "image/png": "[encoded data removed]",
      "text/plain": [
       "<Figure size 640x480 with 2 Axes>"
      ]
     },
     "metadata": {},
     "output_type": "display_data"
    }
   ],
   "source": [
    "cm = get_confusion_matrix(vgg19_classifier, test_pool)\n",
    "disp = ConfusionMatrixDisplay(confusion_matrix=cm.astype(int),\n",
    "                                display_labels=vgg19_classifier.classes_)\n",
    "disp.plot();"
   ]
  },
  {
   "cell_type": "code",
   "execution_count": 205,
   "id": "3662a6bf-1156-453e-a3ba-1bbbefba38df",
   "metadata": {
    "execution": {
     "iopub.execute_input": "2024-02-06T18:47:23.851164Z",
     "iopub.status.busy": "2024-02-06T18:47:23.850770Z",
     "iopub.status.idle": "2024-02-06T18:47:23.855964Z",
     "shell.execute_reply": "2024-02-06T18:47:23.855328Z",
     "shell.execute_reply.started": "2024-02-06T18:47:23.851130Z"
    }
   },
   "outputs": [
    {
     "data": {
      "text/plain": [
       "{'learn': {'Accuracy': 0.9982363315696648, 'MultiClass': 0.16059361479690257},\n",
       " 'validation': {'Accuracy': 0.8214285714285714,\n",
       "  'MultiClass': 0.5832254722635583}}"
      ]
     },
     "execution_count": 205,
     "metadata": {},
     "output_type": "execute_result"
    }
   ],
   "source": [
    "vgg19_classifier.best_score_"
   ]
  },
  {
   "cell_type": "markdown",
   "id": "793a0a1c-57b7-4193-8dda-6783f0e62f39",
   "metadata": {
    "jp-MarkdownHeadingCollapsed": true,
    "tags": []
   },
   "source": [
    "# Model Comparison"
   ]
  },
  {
   "cell_type": "code",
   "execution_count": 230,
   "id": "6db1f4eb-5970-4307-a6f5-c55e363a8531",
   "metadata": {
    "execution": {
     "iopub.execute_input": "2024-02-06T19:02:55.300385Z",
     "iopub.status.busy": "2024-02-06T19:02:55.299993Z",
     "iopub.status.idle": "2024-02-06T19:02:55.317198Z",
     "shell.execute_reply": "2024-02-06T19:02:55.316522Z",
     "shell.execute_reply.started": "2024-02-06T19:02:55.300359Z"
    },
    "tags": []
   },
   "outputs": [
    {
     "data": {
      "text/html": [
       "<div>\n",
       "<style scoped>\n",
       "    .dataframe tbody tr th:only-of-type {\n",
       "        vertical-align: middle;\n",
       "    }\n",
       "\n",
       "    .dataframe tbody tr th {\n",
       "        vertical-align: top;\n",
       "    }\n",
       "\n",
       "    .dataframe thead th {\n",
       "        text-align: right;\n",
       "    }\n",
       "</style>\n",
       "<table border=\"1\" class=\"dataframe\">\n",
       "  <thead>\n",
       "    <tr style=\"text-align: right;\">\n",
       "      <th></th>\n",
       "      <th>learn</th>\n",
       "      <th>validation</th>\n",
       "      <th>model</th>\n",
       "    </tr>\n",
       "  </thead>\n",
       "  <tbody>\n",
       "    <tr>\n",
       "      <th>0</th>\n",
       "      <td>0.992063</td>\n",
       "      <td>0.843915</td>\n",
       "      <td>InceptionV3</td>\n",
       "    </tr>\n",
       "    <tr>\n",
       "      <th>1</th>\n",
       "      <td>0.962963</td>\n",
       "      <td>0.826720</td>\n",
       "      <td>Xception</td>\n",
       "    </tr>\n",
       "    <tr>\n",
       "      <th>2</th>\n",
       "      <td>0.998236</td>\n",
       "      <td>0.821429</td>\n",
       "      <td>VGG19</td>\n",
       "    </tr>\n",
       "  </tbody>\n",
       "</table>\n",
       "</div>"
      ],
      "text/plain": [
       "      learn  validation        model\n",
       "0  0.992063    0.843915  InceptionV3\n",
       "1  0.962963    0.826720     Xception\n",
       "2  0.998236    0.821429        VGG19"
      ]
     },
     "execution_count": 230,
     "metadata": {},
     "output_type": "execute_result"
    }
   ],
   "source": [
    "v3_accuracy = pd.DataFrame(v3_classifier.best_score_).head(1).reset_index(drop=True)\n",
    "v3_accuracy['model'] = 'InceptionV3'\n",
    "\n",
    "xc_accuracy = pd.DataFrame(xc_classifier.best_score_).head(1).reset_index(drop=True)\n",
    "xc_accuracy['model'] = 'Xception'\n",
    "\n",
    "vgg19_accuracy = pd.DataFrame(vgg19_classifier.best_score_).head(1).reset_index(drop=True)\n",
    "vgg19_accuracy['model'] = 'VGG19'\n",
    "\n",
    "pd.concat([v3_accuracy, xc_accuracy, vgg19_accuracy]).reset_index(drop=True)"
   ]
  },
  {
   "cell_type": "markdown",
   "id": "9300457d-7510-45c9-ae42-ca012382b84d",
   "metadata": {
    "tags": []
   },
   "source": [
    "# Combining all features\n",
    "---"
   ]
  },
  {
   "cell_type": "markdown",
   "id": "4e879666-b633-43d4-ab30-f1bf3c20ae3f",
   "metadata": {
    "jp-MarkdownHeadingCollapsed": true,
    "tags": []
   },
   "source": [
    "## Strategy"
   ]
  },
  {
   "cell_type": "code",
   "execution_count": 252,
   "id": "83a034ef-73c7-4ccc-8058-f189834f2c21",
   "metadata": {
    "execution": {
     "iopub.execute_input": "2024-02-06T19:14:11.997783Z",
     "iopub.status.busy": "2024-02-06T19:14:11.997399Z",
     "iopub.status.idle": "2024-02-06T19:14:12.001835Z",
     "shell.execute_reply": "2024-02-06T19:14:12.001193Z",
     "shell.execute_reply.started": "2024-02-06T19:14:11.997758Z"
    },
    "tags": []
   },
   "outputs": [],
   "source": [
    "df_1 = incV3_combined.head(1)\n",
    "df_2 = xc_combined.head(1)\n",
    "df_3 = vgg19_combined.head(1)"
   ]
  },
  {
   "cell_type": "code",
   "execution_count": 253,
   "id": "1f19d3ee-e56d-4223-97c1-a9e19bbdec22",
   "metadata": {
    "execution": {
     "iopub.execute_input": "2024-02-06T19:14:12.179188Z",
     "iopub.status.busy": "2024-02-06T19:14:12.178793Z",
     "iopub.status.idle": "2024-02-06T19:14:12.271052Z",
     "shell.execute_reply": "2024-02-06T19:14:12.270455Z",
     "shell.execute_reply.started": "2024-02-06T19:14:12.179164Z"
    },
    "tags": []
   },
   "outputs": [
    {
     "data": {
      "text/html": [
       "<div>\n",
       "<style scoped>\n",
       "    .dataframe tbody tr th:only-of-type {\n",
       "        vertical-align: middle;\n",
       "    }\n",
       "\n",
       "    .dataframe tbody tr th {\n",
       "        vertical-align: top;\n",
       "    }\n",
       "\n",
       "    .dataframe thead th {\n",
       "        text-align: right;\n",
       "    }\n",
       "</style>\n",
       "<table border=\"1\" class=\"dataframe\">\n",
       "  <thead>\n",
       "    <tr style=\"text-align: right;\">\n",
       "      <th></th>\n",
       "      <th>incV3_0</th>\n",
       "      <th>incV3_1</th>\n",
       "      <th>incV3_2</th>\n",
       "      <th>incV3_3</th>\n",
       "      <th>incV3_4</th>\n",
       "      <th>incV3_5</th>\n",
       "      <th>incV3_6</th>\n",
       "      <th>incV3_7</th>\n",
       "      <th>incV3_8</th>\n",
       "      <th>incV3_9</th>\n",
       "      <th>incV3_10</th>\n",
       "      <th>incV3_11</th>\n",
       "      <th>incV3_12</th>\n",
       "      <th>incV3_13</th>\n",
       "      <th>incV3_14</th>\n",
       "      <th>incV3_15</th>\n",
       "      <th>incV3_16</th>\n",
       "      <th>incV3_17</th>\n",
       "      <th>incV3_18</th>\n",
       "      <th>incV3_19</th>\n",
       "      <th>incV3_20</th>\n",
       "      <th>incV3_21</th>\n",
       "      <th>incV3_22</th>\n",
       "      <th>incV3_23</th>\n",
       "      <th>incV3_24</th>\n",
       "      <th>incV3_25</th>\n",
       "      <th>incV3_26</th>\n",
       "      <th>incV3_27</th>\n",
       "      <th>incV3_28</th>\n",
       "      <th>incV3_29</th>\n",
       "      <th>incV3_30</th>\n",
       "      <th>incV3_31</th>\n",
       "      <th>incV3_32</th>\n",
       "      <th>incV3_33</th>\n",
       "      <th>incV3_34</th>\n",
       "      <th>incV3_35</th>\n",
       "      <th>incV3_36</th>\n",
       "      <th>incV3_37</th>\n",
       "      <th>incV3_38</th>\n",
       "      <th>incV3_39</th>\n",
       "      <th>...</th>\n",
       "      <th>incV3_2010</th>\n",
       "      <th>incV3_2011</th>\n",
       "      <th>incV3_2012</th>\n",
       "      <th>incV3_2013</th>\n",
       "      <th>incV3_2014</th>\n",
       "      <th>incV3_2015</th>\n",
       "      <th>incV3_2016</th>\n",
       "      <th>incV3_2017</th>\n",
       "      <th>incV3_2018</th>\n",
       "      <th>incV3_2019</th>\n",
       "      <th>incV3_2020</th>\n",
       "      <th>incV3_2021</th>\n",
       "      <th>incV3_2022</th>\n",
       "      <th>incV3_2023</th>\n",
       "      <th>incV3_2024</th>\n",
       "      <th>incV3_2025</th>\n",
       "      <th>incV3_2026</th>\n",
       "      <th>incV3_2027</th>\n",
       "      <th>incV3_2028</th>\n",
       "      <th>incV3_2029</th>\n",
       "      <th>incV3_2030</th>\n",
       "      <th>incV3_2031</th>\n",
       "      <th>incV3_2032</th>\n",
       "      <th>incV3_2033</th>\n",
       "      <th>incV3_2034</th>\n",
       "      <th>incV3_2035</th>\n",
       "      <th>incV3_2036</th>\n",
       "      <th>incV3_2037</th>\n",
       "      <th>incV3_2038</th>\n",
       "      <th>incV3_2039</th>\n",
       "      <th>incV3_2040</th>\n",
       "      <th>incV3_2041</th>\n",
       "      <th>incV3_2042</th>\n",
       "      <th>incV3_2043</th>\n",
       "      <th>incV3_2044</th>\n",
       "      <th>incV3_2045</th>\n",
       "      <th>incV3_2046</th>\n",
       "      <th>incV3_2047</th>\n",
       "      <th>incV3_file_id</th>\n",
       "      <th>incV3_label</th>\n",
       "    </tr>\n",
       "  </thead>\n",
       "  <tbody>\n",
       "    <tr>\n",
       "      <th>0</th>\n",
       "      <td>0.303634</td>\n",
       "      <td>0.318942</td>\n",
       "      <td>0.208411</td>\n",
       "      <td>0.477266</td>\n",
       "      <td>0.068431</td>\n",
       "      <td>0.106686</td>\n",
       "      <td>0.048553</td>\n",
       "      <td>0.459468</td>\n",
       "      <td>0.139828</td>\n",
       "      <td>0.271657</td>\n",
       "      <td>0.121587</td>\n",
       "      <td>0.5956</td>\n",
       "      <td>0.150126</td>\n",
       "      <td>0.067441</td>\n",
       "      <td>0.066815</td>\n",
       "      <td>0.083468</td>\n",
       "      <td>0.180686</td>\n",
       "      <td>0.121065</td>\n",
       "      <td>0.359528</td>\n",
       "      <td>0.173691</td>\n",
       "      <td>0.707666</td>\n",
       "      <td>0.252425</td>\n",
       "      <td>0.250225</td>\n",
       "      <td>0.049604</td>\n",
       "      <td>0.159554</td>\n",
       "      <td>0.495302</td>\n",
       "      <td>0.033799</td>\n",
       "      <td>0.082667</td>\n",
       "      <td>0.620989</td>\n",
       "      <td>0.186894</td>\n",
       "      <td>0.170015</td>\n",
       "      <td>0.517833</td>\n",
       "      <td>0.3217</td>\n",
       "      <td>0.507045</td>\n",
       "      <td>0.094852</td>\n",
       "      <td>0.369974</td>\n",
       "      <td>0.432739</td>\n",
       "      <td>0.118659</td>\n",
       "      <td>0.265348</td>\n",
       "      <td>0.04156</td>\n",
       "      <td>...</td>\n",
       "      <td>1.088839</td>\n",
       "      <td>1.008713</td>\n",
       "      <td>0.0</td>\n",
       "      <td>0.095373</td>\n",
       "      <td>0.199698</td>\n",
       "      <td>0.491798</td>\n",
       "      <td>0.004208</td>\n",
       "      <td>0.191066</td>\n",
       "      <td>0.878754</td>\n",
       "      <td>0.069308</td>\n",
       "      <td>0.12867</td>\n",
       "      <td>0.461246</td>\n",
       "      <td>0.011548</td>\n",
       "      <td>0.094069</td>\n",
       "      <td>0.511283</td>\n",
       "      <td>0.273566</td>\n",
       "      <td>0.064044</td>\n",
       "      <td>0.220091</td>\n",
       "      <td>0.03741</td>\n",
       "      <td>0.170411</td>\n",
       "      <td>0.456357</td>\n",
       "      <td>0.109208</td>\n",
       "      <td>0.024379</td>\n",
       "      <td>0.016142</td>\n",
       "      <td>0.30905</td>\n",
       "      <td>0.069353</td>\n",
       "      <td>0.562461</td>\n",
       "      <td>0.387386</td>\n",
       "      <td>0.01238</td>\n",
       "      <td>0.321861</td>\n",
       "      <td>0.258009</td>\n",
       "      <td>0.145014</td>\n",
       "      <td>0.247663</td>\n",
       "      <td>0.095321</td>\n",
       "      <td>0.095406</td>\n",
       "      <td>0.963429</td>\n",
       "      <td>0.372782</td>\n",
       "      <td>0.155981</td>\n",
       "      <td>dress/009b3c31-fb62-45c0-be9a-37a5c238cb88.jpg</td>\n",
       "      <td>0</td>\n",
       "    </tr>\n",
       "  </tbody>\n",
       "</table>\n",
       "<p>1 rows × 2050 columns</p>\n",
       "</div>"
      ],
      "text/plain": [
       "    incV3_0  ...  incV3_label\n",
       "0  0.303634  ...            0\n",
       "\n",
       "[1 rows x 2050 columns]"
      ]
     },
     "execution_count": 253,
     "metadata": {},
     "output_type": "execute_result"
    }
   ],
   "source": [
    "df_1"
   ]
  },
  {
   "cell_type": "code",
   "execution_count": 254,
   "id": "316c1c10-af17-4bad-8ac1-47a70b613c11",
   "metadata": {
    "execution": {
     "iopub.execute_input": "2024-02-06T19:14:12.384138Z",
     "iopub.status.busy": "2024-02-06T19:14:12.383803Z",
     "iopub.status.idle": "2024-02-06T19:14:12.468842Z",
     "shell.execute_reply": "2024-02-06T19:14:12.468125Z",
     "shell.execute_reply.started": "2024-02-06T19:14:12.384115Z"
    },
    "tags": []
   },
   "outputs": [
    {
     "data": {
      "text/html": [
       "<div>\n",
       "<style scoped>\n",
       "    .dataframe tbody tr th:only-of-type {\n",
       "        vertical-align: middle;\n",
       "    }\n",
       "\n",
       "    .dataframe tbody tr th {\n",
       "        vertical-align: top;\n",
       "    }\n",
       "\n",
       "    .dataframe thead th {\n",
       "        text-align: right;\n",
       "    }\n",
       "</style>\n",
       "<table border=\"1\" class=\"dataframe\">\n",
       "  <thead>\n",
       "    <tr style=\"text-align: right;\">\n",
       "      <th></th>\n",
       "      <th>incV3_0</th>\n",
       "      <th>incV3_1</th>\n",
       "      <th>incV3_2</th>\n",
       "      <th>incV3_3</th>\n",
       "      <th>incV3_4</th>\n",
       "      <th>incV3_5</th>\n",
       "      <th>incV3_6</th>\n",
       "      <th>incV3_7</th>\n",
       "      <th>incV3_8</th>\n",
       "      <th>incV3_9</th>\n",
       "      <th>incV3_10</th>\n",
       "      <th>incV3_11</th>\n",
       "      <th>incV3_12</th>\n",
       "      <th>incV3_13</th>\n",
       "      <th>incV3_14</th>\n",
       "      <th>incV3_15</th>\n",
       "      <th>incV3_16</th>\n",
       "      <th>incV3_17</th>\n",
       "      <th>incV3_18</th>\n",
       "      <th>incV3_19</th>\n",
       "      <th>incV3_20</th>\n",
       "      <th>incV3_21</th>\n",
       "      <th>incV3_22</th>\n",
       "      <th>incV3_23</th>\n",
       "      <th>incV3_24</th>\n",
       "      <th>incV3_25</th>\n",
       "      <th>incV3_26</th>\n",
       "      <th>incV3_27</th>\n",
       "      <th>incV3_28</th>\n",
       "      <th>incV3_29</th>\n",
       "      <th>incV3_30</th>\n",
       "      <th>incV3_31</th>\n",
       "      <th>incV3_32</th>\n",
       "      <th>incV3_33</th>\n",
       "      <th>incV3_34</th>\n",
       "      <th>incV3_35</th>\n",
       "      <th>incV3_36</th>\n",
       "      <th>incV3_37</th>\n",
       "      <th>incV3_38</th>\n",
       "      <th>incV3_39</th>\n",
       "      <th>...</th>\n",
       "      <th>xc_2010</th>\n",
       "      <th>xc_2011</th>\n",
       "      <th>xc_2012</th>\n",
       "      <th>xc_2013</th>\n",
       "      <th>xc_2014</th>\n",
       "      <th>xc_2015</th>\n",
       "      <th>xc_2016</th>\n",
       "      <th>xc_2017</th>\n",
       "      <th>xc_2018</th>\n",
       "      <th>xc_2019</th>\n",
       "      <th>xc_2020</th>\n",
       "      <th>xc_2021</th>\n",
       "      <th>xc_2022</th>\n",
       "      <th>xc_2023</th>\n",
       "      <th>xc_2024</th>\n",
       "      <th>xc_2025</th>\n",
       "      <th>xc_2026</th>\n",
       "      <th>xc_2027</th>\n",
       "      <th>xc_2028</th>\n",
       "      <th>xc_2029</th>\n",
       "      <th>xc_2030</th>\n",
       "      <th>xc_2031</th>\n",
       "      <th>xc_2032</th>\n",
       "      <th>xc_2033</th>\n",
       "      <th>xc_2034</th>\n",
       "      <th>xc_2035</th>\n",
       "      <th>xc_2036</th>\n",
       "      <th>xc_2037</th>\n",
       "      <th>xc_2038</th>\n",
       "      <th>xc_2039</th>\n",
       "      <th>xc_2040</th>\n",
       "      <th>xc_2041</th>\n",
       "      <th>xc_2042</th>\n",
       "      <th>xc_2043</th>\n",
       "      <th>xc_2044</th>\n",
       "      <th>xc_2045</th>\n",
       "      <th>xc_2046</th>\n",
       "      <th>xc_2047</th>\n",
       "      <th>xc_file_id</th>\n",
       "      <th>xc_label</th>\n",
       "    </tr>\n",
       "  </thead>\n",
       "  <tbody>\n",
       "    <tr>\n",
       "      <th>0</th>\n",
       "      <td>0.303634</td>\n",
       "      <td>0.318942</td>\n",
       "      <td>0.208411</td>\n",
       "      <td>0.477266</td>\n",
       "      <td>0.068431</td>\n",
       "      <td>0.106686</td>\n",
       "      <td>0.048553</td>\n",
       "      <td>0.459468</td>\n",
       "      <td>0.139828</td>\n",
       "      <td>0.271657</td>\n",
       "      <td>0.121587</td>\n",
       "      <td>0.5956</td>\n",
       "      <td>0.150126</td>\n",
       "      <td>0.067441</td>\n",
       "      <td>0.066815</td>\n",
       "      <td>0.083468</td>\n",
       "      <td>0.180686</td>\n",
       "      <td>0.121065</td>\n",
       "      <td>0.359528</td>\n",
       "      <td>0.173691</td>\n",
       "      <td>0.707666</td>\n",
       "      <td>0.252425</td>\n",
       "      <td>0.250225</td>\n",
       "      <td>0.049604</td>\n",
       "      <td>0.159554</td>\n",
       "      <td>0.495302</td>\n",
       "      <td>0.033799</td>\n",
       "      <td>0.082667</td>\n",
       "      <td>0.620989</td>\n",
       "      <td>0.186894</td>\n",
       "      <td>0.170015</td>\n",
       "      <td>0.517833</td>\n",
       "      <td>0.3217</td>\n",
       "      <td>0.507045</td>\n",
       "      <td>0.094852</td>\n",
       "      <td>0.369974</td>\n",
       "      <td>0.432739</td>\n",
       "      <td>0.118659</td>\n",
       "      <td>0.265348</td>\n",
       "      <td>0.04156</td>\n",
       "      <td>...</td>\n",
       "      <td>0.0</td>\n",
       "      <td>0.083075</td>\n",
       "      <td>0.012938</td>\n",
       "      <td>0.430549</td>\n",
       "      <td>0.0</td>\n",
       "      <td>0.004804</td>\n",
       "      <td>0.613575</td>\n",
       "      <td>0.0</td>\n",
       "      <td>0.006198</td>\n",
       "      <td>0.006632</td>\n",
       "      <td>0.254017</td>\n",
       "      <td>0.000452</td>\n",
       "      <td>0.039395</td>\n",
       "      <td>0.394529</td>\n",
       "      <td>0.014034</td>\n",
       "      <td>0.284256</td>\n",
       "      <td>0.134729</td>\n",
       "      <td>0.0</td>\n",
       "      <td>0.042053</td>\n",
       "      <td>0.001156</td>\n",
       "      <td>0.209599</td>\n",
       "      <td>0.200103</td>\n",
       "      <td>0.000394</td>\n",
       "      <td>0.165083</td>\n",
       "      <td>0.073553</td>\n",
       "      <td>0.057416</td>\n",
       "      <td>0.068703</td>\n",
       "      <td>0.18436</td>\n",
       "      <td>0.168874</td>\n",
       "      <td>0.043352</td>\n",
       "      <td>0.0546</td>\n",
       "      <td>0.406961</td>\n",
       "      <td>0.141699</td>\n",
       "      <td>0.0</td>\n",
       "      <td>0.0</td>\n",
       "      <td>0.0</td>\n",
       "      <td>0.180063</td>\n",
       "      <td>0.0</td>\n",
       "      <td>dress/009b3c31-fb62-45c0-be9a-37a5c238cb88.jpg</td>\n",
       "      <td>0</td>\n",
       "    </tr>\n",
       "  </tbody>\n",
       "</table>\n",
       "<p>1 rows × 4100 columns</p>\n",
       "</div>"
      ],
      "text/plain": [
       "    incV3_0   incV3_1  ...                                      xc_file_id  xc_label\n",
       "0  0.303634  0.318942  ...  dress/009b3c31-fb62-45c0-be9a-37a5c238cb88.jpg         0\n",
       "\n",
       "[1 rows x 4100 columns]"
      ]
     },
     "execution_count": 254,
     "metadata": {},
     "output_type": "execute_result"
    }
   ],
   "source": [
    "merged_df = pd.merge(df_1, df_2, left_on='incV3_file_id', right_on='xc_file_id', how='inner')\n",
    "merged_df"
   ]
  },
  {
   "cell_type": "code",
   "execution_count": 255,
   "id": "2d2e6d38-4f49-4a27-9e2b-1711fc269e2b",
   "metadata": {
    "execution": {
     "iopub.execute_input": "2024-02-06T19:14:12.568382Z",
     "iopub.status.busy": "2024-02-06T19:14:12.568078Z",
     "iopub.status.idle": "2024-02-06T19:14:12.573171Z",
     "shell.execute_reply": "2024-02-06T19:14:12.572499Z",
     "shell.execute_reply.started": "2024-02-06T19:14:12.568361Z"
    },
    "tags": []
   },
   "outputs": [
    {
     "data": {
      "text/plain": [
       "(True, True)"
      ]
     },
     "execution_count": 255,
     "metadata": {},
     "output_type": "execute_result"
    }
   ],
   "source": [
    "'incV3_file_id' in merged_df.columns, 'incV3_label' in merged_df.columns"
   ]
  },
  {
   "cell_type": "code",
   "execution_count": 256,
   "id": "0163c6a0-b0c0-4006-ad9a-db9edaf1d560",
   "metadata": {
    "execution": {
     "iopub.execute_input": "2024-02-06T19:14:13.918358Z",
     "iopub.status.busy": "2024-02-06T19:14:13.917944Z",
     "iopub.status.idle": "2024-02-06T19:14:13.926543Z",
     "shell.execute_reply": "2024-02-06T19:14:13.925733Z",
     "shell.execute_reply.started": "2024-02-06T19:14:13.918333Z"
    },
    "tags": []
   },
   "outputs": [
    {
     "data": {
      "text/plain": [
       "Index(['incV3_0', 'incV3_1', 'incV3_2', 'incV3_3', 'incV3_4', 'incV3_5',\n",
       "       'incV3_6', 'incV3_7', 'incV3_8', 'incV3_9',\n",
       "       ...\n",
       "       'vgg19_504', 'vgg19_505', 'vgg19_506', 'vgg19_507', 'vgg19_508',\n",
       "       'vgg19_509', 'vgg19_510', 'vgg19_511', 'vgg19_file_id', 'vgg19_label'],\n",
       "      dtype='object', length=4614)"
      ]
     },
     "execution_count": 256,
     "metadata": {},
     "output_type": "execute_result"
    }
   ],
   "source": [
    "merged_df = pd.merge(merged_df, df_3, left_on='incV3_file_id', right_on='vgg19_file_id', how='inner')\n",
    "merged_df.columns"
   ]
  },
  {
   "cell_type": "code",
   "execution_count": 246,
   "id": "70049ab1-403f-42af-8fbf-2cc50f1a3625",
   "metadata": {
    "execution": {
     "iopub.execute_input": "2024-02-06T19:11:41.881345Z",
     "iopub.status.busy": "2024-02-06T19:11:41.880848Z",
     "iopub.status.idle": "2024-02-06T19:11:41.887252Z",
     "shell.execute_reply": "2024-02-06T19:11:41.886537Z",
     "shell.execute_reply.started": "2024-02-06T19:11:41.881303Z"
    },
    "tags": []
   },
   "outputs": [
    {
     "data": {
      "text/plain": [
       "(True, True, True)"
      ]
     },
     "execution_count": 246,
     "metadata": {},
     "output_type": "execute_result"
    }
   ],
   "source": [
    "'incV3_file_id' in merged_df.columns, 'vgg19_file_id' in merged_df.columns, 'xc_file_id' in merged_df.columns"
   ]
  },
  {
   "cell_type": "code",
   "execution_count": 257,
   "id": "1046d935-c711-49d6-8090-ce5379ba1487",
   "metadata": {
    "execution": {
     "iopub.execute_input": "2024-02-06T19:14:16.450890Z",
     "iopub.status.busy": "2024-02-06T19:14:16.450506Z",
     "iopub.status.idle": "2024-02-06T19:14:16.457039Z",
     "shell.execute_reply": "2024-02-06T19:14:16.456437Z",
     "shell.execute_reply.started": "2024-02-06T19:14:16.450867Z"
    },
    "tags": []
   },
   "outputs": [],
   "source": [
    "columns_to_drop = ['incV3_file_id', 'xc_file_id', 'incV3_label', 'xc_label']\n",
    "merged_df = merged_df.drop(columns=columns_to_drop)"
   ]
  },
  {
   "cell_type": "code",
   "execution_count": 258,
   "id": "29cbdf6a-5c39-4864-acbd-67302599e1dc",
   "metadata": {
    "execution": {
     "iopub.execute_input": "2024-02-06T19:14:17.622848Z",
     "iopub.status.busy": "2024-02-06T19:14:17.622458Z",
     "iopub.status.idle": "2024-02-06T19:14:17.628314Z",
     "shell.execute_reply": "2024-02-06T19:14:17.627601Z",
     "shell.execute_reply.started": "2024-02-06T19:14:17.622823Z"
    },
    "tags": []
   },
   "outputs": [
    {
     "data": {
      "text/plain": [
       "(False, True, False, False, True, False)"
      ]
     },
     "execution_count": 258,
     "metadata": {},
     "output_type": "execute_result"
    }
   ],
   "source": [
    "'incV3_file_id' in merged_df.columns, 'vgg19_file_id' in merged_df.columns, 'xc_file_id' in merged_df.columns, \\\n",
    "'incV3_label' in merged_df.columns, 'vgg19_label' in merged_df.columns, 'xc_label' in merged_df.columns"
   ]
  },
  {
   "cell_type": "code",
   "execution_count": 260,
   "id": "3609c26e-30e3-4428-8657-c1a5953db595",
   "metadata": {
    "execution": {
     "iopub.execute_input": "2024-02-06T19:16:12.941086Z",
     "iopub.status.busy": "2024-02-06T19:16:12.940672Z",
     "iopub.status.idle": "2024-02-06T19:16:12.946719Z",
     "shell.execute_reply": "2024-02-06T19:16:12.945899Z",
     "shell.execute_reply.started": "2024-02-06T19:16:12.941060Z"
    },
    "tags": []
   },
   "outputs": [],
   "source": [
    "# Rename a column\n",
    "new_column_names = {'vgg19_file_id': 'file_id', 'vgg19_label': 'label'}\n",
    "merged_df.rename(columns= new_column_names, inplace=True)"
   ]
  },
  {
   "cell_type": "code",
   "execution_count": 261,
   "id": "fd6d03c2-eb50-41c5-b66f-ea20ff3ce7c4",
   "metadata": {
    "execution": {
     "iopub.execute_input": "2024-02-06T19:16:20.641507Z",
     "iopub.status.busy": "2024-02-06T19:16:20.641131Z",
     "iopub.status.idle": "2024-02-06T19:16:20.646958Z",
     "shell.execute_reply": "2024-02-06T19:16:20.646230Z",
     "shell.execute_reply.started": "2024-02-06T19:16:20.641480Z"
    }
   },
   "outputs": [
    {
     "data": {
      "text/plain": [
       "(False, False, False, False, False, False)"
      ]
     },
     "execution_count": 261,
     "metadata": {},
     "output_type": "execute_result"
    }
   ],
   "source": [
    "'incV3_file_id' in merged_df.columns, 'vgg19_file_id' in merged_df.columns, 'xc_file_id' in merged_df.columns, \\\n",
    "'incV3_label' in merged_df.columns, 'vgg19_label' in merged_df.columns, 'xc_label' in merged_df.columns"
   ]
  },
  {
   "cell_type": "code",
   "execution_count": 262,
   "id": "70733508-725b-46ea-b564-5b169dec3216",
   "metadata": {
    "execution": {
     "iopub.execute_input": "2024-02-06T19:16:26.387043Z",
     "iopub.status.busy": "2024-02-06T19:16:26.386651Z",
     "iopub.status.idle": "2024-02-06T19:16:26.473174Z",
     "shell.execute_reply": "2024-02-06T19:16:26.472480Z",
     "shell.execute_reply.started": "2024-02-06T19:16:26.387018Z"
    }
   },
   "outputs": [
    {
     "data": {
      "text/html": [
       "<div>\n",
       "<style scoped>\n",
       "    .dataframe tbody tr th:only-of-type {\n",
       "        vertical-align: middle;\n",
       "    }\n",
       "\n",
       "    .dataframe tbody tr th {\n",
       "        vertical-align: top;\n",
       "    }\n",
       "\n",
       "    .dataframe thead th {\n",
       "        text-align: right;\n",
       "    }\n",
       "</style>\n",
       "<table border=\"1\" class=\"dataframe\">\n",
       "  <thead>\n",
       "    <tr style=\"text-align: right;\">\n",
       "      <th></th>\n",
       "      <th>incV3_0</th>\n",
       "      <th>incV3_1</th>\n",
       "      <th>incV3_2</th>\n",
       "      <th>incV3_3</th>\n",
       "      <th>incV3_4</th>\n",
       "      <th>incV3_5</th>\n",
       "      <th>incV3_6</th>\n",
       "      <th>incV3_7</th>\n",
       "      <th>incV3_8</th>\n",
       "      <th>incV3_9</th>\n",
       "      <th>incV3_10</th>\n",
       "      <th>incV3_11</th>\n",
       "      <th>incV3_12</th>\n",
       "      <th>incV3_13</th>\n",
       "      <th>incV3_14</th>\n",
       "      <th>incV3_15</th>\n",
       "      <th>incV3_16</th>\n",
       "      <th>incV3_17</th>\n",
       "      <th>incV3_18</th>\n",
       "      <th>incV3_19</th>\n",
       "      <th>incV3_20</th>\n",
       "      <th>incV3_21</th>\n",
       "      <th>incV3_22</th>\n",
       "      <th>incV3_23</th>\n",
       "      <th>incV3_24</th>\n",
       "      <th>incV3_25</th>\n",
       "      <th>incV3_26</th>\n",
       "      <th>incV3_27</th>\n",
       "      <th>incV3_28</th>\n",
       "      <th>incV3_29</th>\n",
       "      <th>incV3_30</th>\n",
       "      <th>incV3_31</th>\n",
       "      <th>incV3_32</th>\n",
       "      <th>incV3_33</th>\n",
       "      <th>incV3_34</th>\n",
       "      <th>incV3_35</th>\n",
       "      <th>incV3_36</th>\n",
       "      <th>incV3_37</th>\n",
       "      <th>incV3_38</th>\n",
       "      <th>incV3_39</th>\n",
       "      <th>...</th>\n",
       "      <th>vgg19_474</th>\n",
       "      <th>vgg19_475</th>\n",
       "      <th>vgg19_476</th>\n",
       "      <th>vgg19_477</th>\n",
       "      <th>vgg19_478</th>\n",
       "      <th>vgg19_479</th>\n",
       "      <th>vgg19_480</th>\n",
       "      <th>vgg19_481</th>\n",
       "      <th>vgg19_482</th>\n",
       "      <th>vgg19_483</th>\n",
       "      <th>vgg19_484</th>\n",
       "      <th>vgg19_485</th>\n",
       "      <th>vgg19_486</th>\n",
       "      <th>vgg19_487</th>\n",
       "      <th>vgg19_488</th>\n",
       "      <th>vgg19_489</th>\n",
       "      <th>vgg19_490</th>\n",
       "      <th>vgg19_491</th>\n",
       "      <th>vgg19_492</th>\n",
       "      <th>vgg19_493</th>\n",
       "      <th>vgg19_494</th>\n",
       "      <th>vgg19_495</th>\n",
       "      <th>vgg19_496</th>\n",
       "      <th>vgg19_497</th>\n",
       "      <th>vgg19_498</th>\n",
       "      <th>vgg19_499</th>\n",
       "      <th>vgg19_500</th>\n",
       "      <th>vgg19_501</th>\n",
       "      <th>vgg19_502</th>\n",
       "      <th>vgg19_503</th>\n",
       "      <th>vgg19_504</th>\n",
       "      <th>vgg19_505</th>\n",
       "      <th>vgg19_506</th>\n",
       "      <th>vgg19_507</th>\n",
       "      <th>vgg19_508</th>\n",
       "      <th>vgg19_509</th>\n",
       "      <th>vgg19_510</th>\n",
       "      <th>vgg19_511</th>\n",
       "      <th>file_id</th>\n",
       "      <th>label</th>\n",
       "    </tr>\n",
       "  </thead>\n",
       "  <tbody>\n",
       "    <tr>\n",
       "      <th>0</th>\n",
       "      <td>0.303634</td>\n",
       "      <td>0.318942</td>\n",
       "      <td>0.208411</td>\n",
       "      <td>0.477266</td>\n",
       "      <td>0.068431</td>\n",
       "      <td>0.106686</td>\n",
       "      <td>0.048553</td>\n",
       "      <td>0.459468</td>\n",
       "      <td>0.139828</td>\n",
       "      <td>0.271657</td>\n",
       "      <td>0.121587</td>\n",
       "      <td>0.5956</td>\n",
       "      <td>0.150126</td>\n",
       "      <td>0.067441</td>\n",
       "      <td>0.066815</td>\n",
       "      <td>0.083468</td>\n",
       "      <td>0.180686</td>\n",
       "      <td>0.121065</td>\n",
       "      <td>0.359528</td>\n",
       "      <td>0.173691</td>\n",
       "      <td>0.707666</td>\n",
       "      <td>0.252425</td>\n",
       "      <td>0.250225</td>\n",
       "      <td>0.049604</td>\n",
       "      <td>0.159554</td>\n",
       "      <td>0.495302</td>\n",
       "      <td>0.033799</td>\n",
       "      <td>0.082667</td>\n",
       "      <td>0.620989</td>\n",
       "      <td>0.186894</td>\n",
       "      <td>0.170015</td>\n",
       "      <td>0.517833</td>\n",
       "      <td>0.3217</td>\n",
       "      <td>0.507045</td>\n",
       "      <td>0.094852</td>\n",
       "      <td>0.369974</td>\n",
       "      <td>0.432739</td>\n",
       "      <td>0.118659</td>\n",
       "      <td>0.265348</td>\n",
       "      <td>0.04156</td>\n",
       "      <td>...</td>\n",
       "      <td>2.770024</td>\n",
       "      <td>0.085181</td>\n",
       "      <td>0.0</td>\n",
       "      <td>0.642054</td>\n",
       "      <td>2.681654</td>\n",
       "      <td>0.618706</td>\n",
       "      <td>2.481767</td>\n",
       "      <td>1.377977</td>\n",
       "      <td>0.298981</td>\n",
       "      <td>0.861671</td>\n",
       "      <td>2.299908</td>\n",
       "      <td>0.07995</td>\n",
       "      <td>2.124256</td>\n",
       "      <td>0.912831</td>\n",
       "      <td>0.506263</td>\n",
       "      <td>2.018078</td>\n",
       "      <td>0.0</td>\n",
       "      <td>0.116209</td>\n",
       "      <td>0.86124</td>\n",
       "      <td>0.031939</td>\n",
       "      <td>2.45892</td>\n",
       "      <td>2.879396</td>\n",
       "      <td>0.0</td>\n",
       "      <td>0.14362</td>\n",
       "      <td>1.077123</td>\n",
       "      <td>0.149725</td>\n",
       "      <td>0.035521</td>\n",
       "      <td>0.0</td>\n",
       "      <td>0.81098</td>\n",
       "      <td>6.850159</td>\n",
       "      <td>0.116475</td>\n",
       "      <td>3.400921</td>\n",
       "      <td>3.61181</td>\n",
       "      <td>0.831427</td>\n",
       "      <td>1.011819</td>\n",
       "      <td>0.470787</td>\n",
       "      <td>0.933962</td>\n",
       "      <td>0.0</td>\n",
       "      <td>dress/009b3c31-fb62-45c0-be9a-37a5c238cb88.jpg</td>\n",
       "      <td>0</td>\n",
       "    </tr>\n",
       "  </tbody>\n",
       "</table>\n",
       "<p>1 rows × 4610 columns</p>\n",
       "</div>"
      ],
      "text/plain": [
       "    incV3_0   incV3_1  ...                                         file_id  label\n",
       "0  0.303634  0.318942  ...  dress/009b3c31-fb62-45c0-be9a-37a5c238cb88.jpg      0\n",
       "\n",
       "[1 rows x 4610 columns]"
      ]
     },
     "execution_count": 262,
     "metadata": {},
     "output_type": "execute_result"
    }
   ],
   "source": [
    "merged_df.head()"
   ]
  },
  {
   "cell_type": "markdown",
   "id": "f5575342-dca2-4bf3-83fb-a2a40795b142",
   "metadata": {
    "tags": []
   },
   "source": [
    "## Execution"
   ]
  },
  {
   "cell_type": "code",
   "execution_count": 12,
   "id": "0fb41d7a-227d-44bd-9ff9-296f00ae9910",
   "metadata": {
    "execution": {
     "iopub.execute_input": "2024-02-07T14:01:40.524168Z",
     "iopub.status.busy": "2024-02-07T14:01:40.523776Z",
     "iopub.status.idle": "2024-02-07T14:01:41.014232Z",
     "shell.execute_reply": "2024-02-07T14:01:41.013585Z",
     "shell.execute_reply.started": "2024-02-07T14:01:40.524146Z"
    },
    "tags": []
   },
   "outputs": [],
   "source": [
    "#Merging incV3_combined with xc_combined\n",
    "merged_df = pd.merge(incV3_combined, xc_combined, left_on='incV3_file_id', right_on='xc_file_id', how='inner')\n",
    "\n",
    "#Then past merged_df combining with vgg19_combined\n",
    "merged_df = pd.merge(merged_df, vgg19_combined, left_on='incV3_file_id', right_on='vgg19_file_id', how='inner')\n",
    "\n",
    "#Dropping redundant columns\n",
    "columns_to_drop = ['incV3_file_id', 'xc_file_id', 'incV3_label', 'xc_label']\n",
    "merged_df = merged_df.drop(columns=columns_to_drop)\n",
    "\n",
    "#Updating the column names for file_id and label\n",
    "new_column_names = {'vgg19_file_id': 'file_id', 'vgg19_label': 'label'}\n",
    "merged_df.rename(columns= new_column_names, inplace=True)"
   ]
  },
  {
   "cell_type": "markdown",
   "id": "87621226-6747-4d34-a02b-c04e0ad3a79e",
   "metadata": {
    "jp-MarkdownHeadingCollapsed": true,
    "tags": []
   },
   "source": [
    "## Extracting merged_df (Run these only if you want to extract the `merged_df`)"
   ]
  },
  {
   "cell_type": "code",
   "execution_count": 13,
   "id": "32e6ee3b-f47a-4887-a4fc-92cd68ff5f12",
   "metadata": {
    "execution": {
     "iopub.execute_input": "2024-02-07T14:02:10.232251Z",
     "iopub.status.busy": "2024-02-07T14:02:10.231856Z",
     "iopub.status.idle": "2024-02-07T14:02:10.265383Z",
     "shell.execute_reply": "2024-02-07T14:02:10.264672Z",
     "shell.execute_reply.started": "2024-02-07T14:02:10.232228Z"
    }
   },
   "outputs": [
    {
     "data": {
      "text/html": [
       "<div>\n",
       "<style scoped>\n",
       "    .dataframe tbody tr th:only-of-type {\n",
       "        vertical-align: middle;\n",
       "    }\n",
       "\n",
       "    .dataframe tbody tr th {\n",
       "        vertical-align: top;\n",
       "    }\n",
       "\n",
       "    .dataframe thead th {\n",
       "        text-align: right;\n",
       "    }\n",
       "</style>\n",
       "<table border=\"1\" class=\"dataframe\">\n",
       "  <thead>\n",
       "    <tr style=\"text-align: right;\">\n",
       "      <th></th>\n",
       "      <th>incV3_0</th>\n",
       "      <th>incV3_1</th>\n",
       "      <th>incV3_2</th>\n",
       "      <th>incV3_3</th>\n",
       "      <th>incV3_4</th>\n",
       "      <th>incV3_5</th>\n",
       "      <th>incV3_6</th>\n",
       "      <th>incV3_7</th>\n",
       "      <th>incV3_8</th>\n",
       "      <th>incV3_9</th>\n",
       "      <th>...</th>\n",
       "      <th>vgg19_504</th>\n",
       "      <th>vgg19_505</th>\n",
       "      <th>vgg19_506</th>\n",
       "      <th>vgg19_507</th>\n",
       "      <th>vgg19_508</th>\n",
       "      <th>vgg19_509</th>\n",
       "      <th>vgg19_510</th>\n",
       "      <th>vgg19_511</th>\n",
       "      <th>file_id</th>\n",
       "      <th>label</th>\n",
       "    </tr>\n",
       "  </thead>\n",
       "  <tbody>\n",
       "    <tr>\n",
       "      <th>0</th>\n",
       "      <td>0.303634</td>\n",
       "      <td>0.318942</td>\n",
       "      <td>0.208411</td>\n",
       "      <td>0.477266</td>\n",
       "      <td>0.068431</td>\n",
       "      <td>0.106686</td>\n",
       "      <td>0.048553</td>\n",
       "      <td>0.459468</td>\n",
       "      <td>0.139828</td>\n",
       "      <td>0.271657</td>\n",
       "      <td>...</td>\n",
       "      <td>0.116475</td>\n",
       "      <td>3.400921</td>\n",
       "      <td>3.611810</td>\n",
       "      <td>0.831427</td>\n",
       "      <td>1.011819</td>\n",
       "      <td>0.470787</td>\n",
       "      <td>0.933962</td>\n",
       "      <td>0.000000</td>\n",
       "      <td>dress/009b3c31-fb62-45c0-be9a-37a5c238cb88.jpg</td>\n",
       "      <td>0</td>\n",
       "    </tr>\n",
       "    <tr>\n",
       "      <th>1</th>\n",
       "      <td>0.047840</td>\n",
       "      <td>0.264508</td>\n",
       "      <td>0.390923</td>\n",
       "      <td>0.142860</td>\n",
       "      <td>0.129282</td>\n",
       "      <td>0.150060</td>\n",
       "      <td>0.069824</td>\n",
       "      <td>0.481221</td>\n",
       "      <td>0.330697</td>\n",
       "      <td>0.258998</td>\n",
       "      <td>...</td>\n",
       "      <td>10.499381</td>\n",
       "      <td>2.195004</td>\n",
       "      <td>18.171705</td>\n",
       "      <td>1.706563</td>\n",
       "      <td>0.722449</td>\n",
       "      <td>0.958704</td>\n",
       "      <td>5.522590</td>\n",
       "      <td>0.298218</td>\n",
       "      <td>dress/041c6bde-e737-46fd-9586-984c1503941f.jpg</td>\n",
       "      <td>0</td>\n",
       "    </tr>\n",
       "    <tr>\n",
       "      <th>2</th>\n",
       "      <td>0.942071</td>\n",
       "      <td>0.434878</td>\n",
       "      <td>0.697832</td>\n",
       "      <td>0.251812</td>\n",
       "      <td>0.220720</td>\n",
       "      <td>0.003102</td>\n",
       "      <td>0.142887</td>\n",
       "      <td>0.486080</td>\n",
       "      <td>0.071632</td>\n",
       "      <td>0.570452</td>\n",
       "      <td>...</td>\n",
       "      <td>0.823151</td>\n",
       "      <td>2.738157</td>\n",
       "      <td>3.098589</td>\n",
       "      <td>12.312897</td>\n",
       "      <td>2.469384</td>\n",
       "      <td>0.712025</td>\n",
       "      <td>1.020714</td>\n",
       "      <td>1.618408</td>\n",
       "      <td>dress/04f0b07f-4b9f-4c55-bc5d-b693658fb32c.jpg</td>\n",
       "      <td>0</td>\n",
       "    </tr>\n",
       "    <tr>\n",
       "      <th>3</th>\n",
       "      <td>0.279040</td>\n",
       "      <td>0.390771</td>\n",
       "      <td>0.115167</td>\n",
       "      <td>0.213695</td>\n",
       "      <td>0.314327</td>\n",
       "      <td>0.105088</td>\n",
       "      <td>0.064898</td>\n",
       "      <td>0.193854</td>\n",
       "      <td>0.482503</td>\n",
       "      <td>0.612311</td>\n",
       "      <td>...</td>\n",
       "      <td>1.585208</td>\n",
       "      <td>1.675288</td>\n",
       "      <td>6.131248</td>\n",
       "      <td>0.140504</td>\n",
       "      <td>10.127681</td>\n",
       "      <td>0.611325</td>\n",
       "      <td>2.268990</td>\n",
       "      <td>0.110608</td>\n",
       "      <td>dress/053689bb-5928-489b-aeaf-dfb969b05e93.jpg</td>\n",
       "      <td>0</td>\n",
       "    </tr>\n",
       "    <tr>\n",
       "      <th>4</th>\n",
       "      <td>0.567760</td>\n",
       "      <td>0.119651</td>\n",
       "      <td>0.390262</td>\n",
       "      <td>0.429970</td>\n",
       "      <td>0.153197</td>\n",
       "      <td>0.227783</td>\n",
       "      <td>0.506306</td>\n",
       "      <td>0.387863</td>\n",
       "      <td>0.170855</td>\n",
       "      <td>0.258183</td>\n",
       "      <td>...</td>\n",
       "      <td>3.026077</td>\n",
       "      <td>14.017796</td>\n",
       "      <td>0.781647</td>\n",
       "      <td>0.939281</td>\n",
       "      <td>1.200090</td>\n",
       "      <td>1.347519</td>\n",
       "      <td>0.297584</td>\n",
       "      <td>0.198936</td>\n",
       "      <td>dress/0546d34a-a369-4723-8d3a-74c0f51af26c.jpg</td>\n",
       "      <td>0</td>\n",
       "    </tr>\n",
       "  </tbody>\n",
       "</table>\n",
       "<p>5 rows × 4610 columns</p>\n",
       "</div>"
      ],
      "text/plain": [
       "    incV3_0   incV3_1   incV3_2   incV3_3   incV3_4   incV3_5   incV3_6  \\\n",
       "0  0.303634  0.318942  0.208411  0.477266  0.068431  0.106686  0.048553   \n",
       "1  0.047840  0.264508  0.390923  0.142860  0.129282  0.150060  0.069824   \n",
       "2  0.942071  0.434878  0.697832  0.251812  0.220720  0.003102  0.142887   \n",
       "3  0.279040  0.390771  0.115167  0.213695  0.314327  0.105088  0.064898   \n",
       "4  0.567760  0.119651  0.390262  0.429970  0.153197  0.227783  0.506306   \n",
       "\n",
       "    incV3_7   incV3_8   incV3_9  ...  vgg19_504  vgg19_505  vgg19_506  \\\n",
       "0  0.459468  0.139828  0.271657  ...   0.116475   3.400921   3.611810   \n",
       "1  0.481221  0.330697  0.258998  ...  10.499381   2.195004  18.171705   \n",
       "2  0.486080  0.071632  0.570452  ...   0.823151   2.738157   3.098589   \n",
       "3  0.193854  0.482503  0.612311  ...   1.585208   1.675288   6.131248   \n",
       "4  0.387863  0.170855  0.258183  ...   3.026077  14.017796   0.781647   \n",
       "\n",
       "   vgg19_507  vgg19_508  vgg19_509  vgg19_510  vgg19_511  \\\n",
       "0   0.831427   1.011819   0.470787   0.933962   0.000000   \n",
       "1   1.706563   0.722449   0.958704   5.522590   0.298218   \n",
       "2  12.312897   2.469384   0.712025   1.020714   1.618408   \n",
       "3   0.140504  10.127681   0.611325   2.268990   0.110608   \n",
       "4   0.939281   1.200090   1.347519   0.297584   0.198936   \n",
       "\n",
       "                                          file_id  label  \n",
       "0  dress/009b3c31-fb62-45c0-be9a-37a5c238cb88.jpg      0  \n",
       "1  dress/041c6bde-e737-46fd-9586-984c1503941f.jpg      0  \n",
       "2  dress/04f0b07f-4b9f-4c55-bc5d-b693658fb32c.jpg      0  \n",
       "3  dress/053689bb-5928-489b-aeaf-dfb969b05e93.jpg      0  \n",
       "4  dress/0546d34a-a369-4723-8d3a-74c0f51af26c.jpg      0  \n",
       "\n",
       "[5 rows x 4610 columns]"
      ]
     },
     "execution_count": 13,
     "metadata": {},
     "output_type": "execute_result"
    }
   ],
   "source": [
    "merged_df.head()"
   ]
  },
  {
   "cell_type": "code",
   "execution_count": 15,
   "id": "6b033da2-49b5-4b41-9e5a-65658d18e203",
   "metadata": {
    "execution": {
     "iopub.execute_input": "2024-02-07T14:02:49.038763Z",
     "iopub.status.busy": "2024-02-07T14:02:49.038363Z",
     "iopub.status.idle": "2024-02-07T14:02:49.047332Z",
     "shell.execute_reply": "2024-02-07T14:02:49.046610Z",
     "shell.execute_reply.started": "2024-02-07T14:02:49.038738Z"
    }
   },
   "outputs": [
    {
     "data": {
      "text/plain": [
       "(1, 1)"
      ]
     },
     "execution_count": 15,
     "metadata": {},
     "output_type": "execute_result"
    }
   ],
   "source": [
    "merged_df.columns.str.contains('file_id').sum(), merged_df.columns.str.contains('label').sum()"
   ]
  },
  {
   "cell_type": "code",
   "execution_count": 14,
   "id": "61faa0e2-dad0-4ff9-a352-4e1a6623d897",
   "metadata": {
    "execution": {
     "iopub.execute_input": "2024-02-07T14:02:30.540769Z",
     "iopub.status.busy": "2024-02-07T14:02:30.540376Z",
     "iopub.status.idle": "2024-02-07T14:02:30.552091Z",
     "shell.execute_reply": "2024-02-07T14:02:30.551218Z",
     "shell.execute_reply.started": "2024-02-07T14:02:30.540743Z"
    }
   },
   "outputs": [
    {
     "data": {
      "text/plain": [
       "(512, 2048, 2048)"
      ]
     },
     "execution_count": 14,
     "metadata": {},
     "output_type": "execute_result"
    }
   ],
   "source": [
    "merged_df.columns.str.contains('vgg19').sum(), merged_df.columns.str.contains('xc').sum(), merged_df.columns.str.contains('incV3').sum()"
   ]
  },
  {
   "cell_type": "code",
   "execution_count": 16,
   "id": "5e67b698-aa55-469e-8b09-67fe929c5ff4",
   "metadata": {
    "execution": {
     "iopub.execute_input": "2024-02-07T14:03:40.189790Z",
     "iopub.status.busy": "2024-02-07T14:03:40.189317Z",
     "iopub.status.idle": "2024-02-07T14:03:40.831395Z",
     "shell.execute_reply": "2024-02-07T14:03:40.830609Z",
     "shell.execute_reply.started": "2024-02-07T14:03:40.189761Z"
    }
   },
   "outputs": [
    {
     "name": "stdout",
     "output_type": "stream",
     "text": [
      "catboost_info\t\ttesting-models.ipynb  Untitled.ipynb\n",
      "test-if-it-works.ipynb\ttesting-wine.ipynb\n"
     ]
    }
   ],
   "source": [
    "!ls"
   ]
  },
  {
   "cell_type": "code",
   "execution_count": 17,
   "id": "257917bc-653c-42e8-92df-91c86f2520de",
   "metadata": {
    "execution": {
     "iopub.execute_input": "2024-02-07T14:05:15.289615Z",
     "iopub.status.busy": "2024-02-07T14:05:15.289214Z",
     "iopub.status.idle": "2024-02-07T14:05:30.814408Z",
     "shell.execute_reply": "2024-02-07T14:05:30.813677Z",
     "shell.execute_reply.started": "2024-02-07T14:05:15.289584Z"
    }
   },
   "outputs": [],
   "source": [
    "merged_df.to_csv('./cp-calibration/combined-features.csv', index=False)"
   ]
  },
  {
   "cell_type": "code",
   "execution_count": 18,
   "id": "ce193e9a-b096-45bd-a067-76c29355a8e1",
   "metadata": {
    "execution": {
     "iopub.execute_input": "2024-02-07T14:05:42.393888Z",
     "iopub.status.busy": "2024-02-07T14:05:42.393502Z",
     "iopub.status.idle": "2024-02-07T14:05:45.795900Z",
     "shell.execute_reply": "2024-02-07T14:05:45.794871Z",
     "shell.execute_reply.started": "2024-02-07T14:05:42.393864Z"
    }
   },
   "outputs": [
    {
     "data": {
      "text/html": [
       "<div>\n",
       "<style scoped>\n",
       "    .dataframe tbody tr th:only-of-type {\n",
       "        vertical-align: middle;\n",
       "    }\n",
       "\n",
       "    .dataframe tbody tr th {\n",
       "        vertical-align: top;\n",
       "    }\n",
       "\n",
       "    .dataframe thead th {\n",
       "        text-align: right;\n",
       "    }\n",
       "</style>\n",
       "<table border=\"1\" class=\"dataframe\">\n",
       "  <thead>\n",
       "    <tr style=\"text-align: right;\">\n",
       "      <th></th>\n",
       "      <th>incV3_0</th>\n",
       "      <th>incV3_1</th>\n",
       "      <th>incV3_2</th>\n",
       "      <th>incV3_3</th>\n",
       "      <th>incV3_4</th>\n",
       "      <th>incV3_5</th>\n",
       "      <th>incV3_6</th>\n",
       "      <th>incV3_7</th>\n",
       "      <th>incV3_8</th>\n",
       "      <th>incV3_9</th>\n",
       "      <th>...</th>\n",
       "      <th>vgg19_504</th>\n",
       "      <th>vgg19_505</th>\n",
       "      <th>vgg19_506</th>\n",
       "      <th>vgg19_507</th>\n",
       "      <th>vgg19_508</th>\n",
       "      <th>vgg19_509</th>\n",
       "      <th>vgg19_510</th>\n",
       "      <th>vgg19_511</th>\n",
       "      <th>file_id</th>\n",
       "      <th>label</th>\n",
       "    </tr>\n",
       "  </thead>\n",
       "  <tbody>\n",
       "    <tr>\n",
       "      <th>0</th>\n",
       "      <td>0.303634</td>\n",
       "      <td>0.318942</td>\n",
       "      <td>0.208411</td>\n",
       "      <td>0.477266</td>\n",
       "      <td>0.068431</td>\n",
       "      <td>0.106686</td>\n",
       "      <td>0.048553</td>\n",
       "      <td>0.459468</td>\n",
       "      <td>0.139828</td>\n",
       "      <td>0.271657</td>\n",
       "      <td>...</td>\n",
       "      <td>0.116475</td>\n",
       "      <td>3.400921</td>\n",
       "      <td>3.611810</td>\n",
       "      <td>0.831427</td>\n",
       "      <td>1.011819</td>\n",
       "      <td>0.470787</td>\n",
       "      <td>0.933962</td>\n",
       "      <td>0.000000</td>\n",
       "      <td>dress/009b3c31-fb62-45c0-be9a-37a5c238cb88.jpg</td>\n",
       "      <td>0</td>\n",
       "    </tr>\n",
       "    <tr>\n",
       "      <th>1</th>\n",
       "      <td>0.047840</td>\n",
       "      <td>0.264508</td>\n",
       "      <td>0.390923</td>\n",
       "      <td>0.142860</td>\n",
       "      <td>0.129282</td>\n",
       "      <td>0.150060</td>\n",
       "      <td>0.069824</td>\n",
       "      <td>0.481221</td>\n",
       "      <td>0.330697</td>\n",
       "      <td>0.258998</td>\n",
       "      <td>...</td>\n",
       "      <td>10.499381</td>\n",
       "      <td>2.195004</td>\n",
       "      <td>18.171705</td>\n",
       "      <td>1.706563</td>\n",
       "      <td>0.722449</td>\n",
       "      <td>0.958704</td>\n",
       "      <td>5.522590</td>\n",
       "      <td>0.298218</td>\n",
       "      <td>dress/041c6bde-e737-46fd-9586-984c1503941f.jpg</td>\n",
       "      <td>0</td>\n",
       "    </tr>\n",
       "    <tr>\n",
       "      <th>2</th>\n",
       "      <td>0.942071</td>\n",
       "      <td>0.434878</td>\n",
       "      <td>0.697832</td>\n",
       "      <td>0.251812</td>\n",
       "      <td>0.220720</td>\n",
       "      <td>0.003102</td>\n",
       "      <td>0.142887</td>\n",
       "      <td>0.486080</td>\n",
       "      <td>0.071632</td>\n",
       "      <td>0.570452</td>\n",
       "      <td>...</td>\n",
       "      <td>0.823151</td>\n",
       "      <td>2.738157</td>\n",
       "      <td>3.098589</td>\n",
       "      <td>12.312897</td>\n",
       "      <td>2.469384</td>\n",
       "      <td>0.712025</td>\n",
       "      <td>1.020714</td>\n",
       "      <td>1.618408</td>\n",
       "      <td>dress/04f0b07f-4b9f-4c55-bc5d-b693658fb32c.jpg</td>\n",
       "      <td>0</td>\n",
       "    </tr>\n",
       "    <tr>\n",
       "      <th>3</th>\n",
       "      <td>0.279040</td>\n",
       "      <td>0.390771</td>\n",
       "      <td>0.115167</td>\n",
       "      <td>0.213695</td>\n",
       "      <td>0.314327</td>\n",
       "      <td>0.105088</td>\n",
       "      <td>0.064898</td>\n",
       "      <td>0.193854</td>\n",
       "      <td>0.482503</td>\n",
       "      <td>0.612311</td>\n",
       "      <td>...</td>\n",
       "      <td>1.585208</td>\n",
       "      <td>1.675288</td>\n",
       "      <td>6.131248</td>\n",
       "      <td>0.140504</td>\n",
       "      <td>10.127681</td>\n",
       "      <td>0.611325</td>\n",
       "      <td>2.268990</td>\n",
       "      <td>0.110608</td>\n",
       "      <td>dress/053689bb-5928-489b-aeaf-dfb969b05e93.jpg</td>\n",
       "      <td>0</td>\n",
       "    </tr>\n",
       "    <tr>\n",
       "      <th>4</th>\n",
       "      <td>0.567760</td>\n",
       "      <td>0.119651</td>\n",
       "      <td>0.390262</td>\n",
       "      <td>0.429970</td>\n",
       "      <td>0.153197</td>\n",
       "      <td>0.227783</td>\n",
       "      <td>0.506306</td>\n",
       "      <td>0.387863</td>\n",
       "      <td>0.170855</td>\n",
       "      <td>0.258183</td>\n",
       "      <td>...</td>\n",
       "      <td>3.026077</td>\n",
       "      <td>14.017796</td>\n",
       "      <td>0.781647</td>\n",
       "      <td>0.939281</td>\n",
       "      <td>1.200090</td>\n",
       "      <td>1.347519</td>\n",
       "      <td>0.297584</td>\n",
       "      <td>0.198936</td>\n",
       "      <td>dress/0546d34a-a369-4723-8d3a-74c0f51af26c.jpg</td>\n",
       "      <td>0</td>\n",
       "    </tr>\n",
       "  </tbody>\n",
       "</table>\n",
       "<p>5 rows × 4610 columns</p>\n",
       "</div>"
      ],
      "text/plain": [
       "    incV3_0   incV3_1   incV3_2   incV3_3   incV3_4   incV3_5   incV3_6  \\\n",
       "0  0.303634  0.318942  0.208411  0.477266  0.068431  0.106686  0.048553   \n",
       "1  0.047840  0.264508  0.390923  0.142860  0.129282  0.150060  0.069824   \n",
       "2  0.942071  0.434878  0.697832  0.251812  0.220720  0.003102  0.142887   \n",
       "3  0.279040  0.390771  0.115167  0.213695  0.314327  0.105088  0.064898   \n",
       "4  0.567760  0.119651  0.390262  0.429970  0.153197  0.227783  0.506306   \n",
       "\n",
       "    incV3_7   incV3_8   incV3_9  ...  vgg19_504  vgg19_505  vgg19_506  \\\n",
       "0  0.459468  0.139828  0.271657  ...   0.116475   3.400921   3.611810   \n",
       "1  0.481221  0.330697  0.258998  ...  10.499381   2.195004  18.171705   \n",
       "2  0.486080  0.071632  0.570452  ...   0.823151   2.738157   3.098589   \n",
       "3  0.193854  0.482503  0.612311  ...   1.585208   1.675288   6.131248   \n",
       "4  0.387863  0.170855  0.258183  ...   3.026077  14.017796   0.781647   \n",
       "\n",
       "   vgg19_507  vgg19_508  vgg19_509  vgg19_510  vgg19_511  \\\n",
       "0   0.831427   1.011819   0.470787   0.933962   0.000000   \n",
       "1   1.706563   0.722449   0.958704   5.522590   0.298218   \n",
       "2  12.312897   2.469384   0.712025   1.020714   1.618408   \n",
       "3   0.140504  10.127681   0.611325   2.268990   0.110608   \n",
       "4   0.939281   1.200090   1.347519   0.297584   0.198936   \n",
       "\n",
       "                                          file_id  label  \n",
       "0  dress/009b3c31-fb62-45c0-be9a-37a5c238cb88.jpg      0  \n",
       "1  dress/041c6bde-e737-46fd-9586-984c1503941f.jpg      0  \n",
       "2  dress/04f0b07f-4b9f-4c55-bc5d-b693658fb32c.jpg      0  \n",
       "3  dress/053689bb-5928-489b-aeaf-dfb969b05e93.jpg      0  \n",
       "4  dress/0546d34a-a369-4723-8d3a-74c0f51af26c.jpg      0  \n",
       "\n",
       "[5 rows x 4610 columns]"
      ]
     },
     "execution_count": 18,
     "metadata": {},
     "output_type": "execute_result"
    }
   ],
   "source": [
    "pd.read_csv('./cp-calibration/combined-features.csv').head()"
   ]
  },
  {
   "cell_type": "markdown",
   "id": "3232cee8-530b-4b93-aca3-faa3ca3db8a7",
   "metadata": {
    "tags": []
   },
   "source": [
    "# >> CatBoost (InceptionV3 + Xception + VGG19 Features)"
   ]
  },
  {
   "cell_type": "code",
   "execution_count": 311,
   "id": "f0e69efd-a999-46f3-b46e-f510976590d0",
   "metadata": {
    "execution": {
     "iopub.execute_input": "2024-02-06T20:56:19.373787Z",
     "iopub.status.busy": "2024-02-06T20:56:19.373405Z",
     "iopub.status.idle": "2024-02-06T20:56:19.549339Z",
     "shell.execute_reply": "2024-02-06T20:56:19.548485Z",
     "shell.execute_reply.started": "2024-02-06T20:56:19.373762Z"
    },
    "tags": []
   },
   "outputs": [],
   "source": [
    "#Defining train/valid/test split\n",
    "X_full, X_test, y_full, y_test = train_test_split(merged_df, merged_df['label'], test_size=0.2, random_state=42)\n",
    "X_train, X_valid, y_train, y_valid = train_test_split(X_full, y_full, test_size=0.25, random_state=42)"
   ]
  },
  {
   "cell_type": "code",
   "execution_count": 312,
   "id": "6e6706b0-d46c-4dfe-aed1-1a81a2020f4c",
   "metadata": {
    "execution": {
     "iopub.execute_input": "2024-02-06T20:56:20.212578Z",
     "iopub.status.busy": "2024-02-06T20:56:20.212200Z",
     "iopub.status.idle": "2024-02-06T20:56:20.531746Z",
     "shell.execute_reply": "2024-02-06T20:56:20.531002Z",
     "shell.execute_reply.started": "2024-02-06T20:56:20.212553Z"
    },
    "tags": []
   },
   "outputs": [],
   "source": [
    "X_full = X_full.drop(['file_id', 'label'], axis=1).reset_index(drop=True)\n",
    "X_train = X_train.drop(['file_id', 'label'], axis=1).reset_index(drop=True)\n",
    "X_valid = X_valid.drop(['file_id', 'label'], axis=1).reset_index(drop=True)\n",
    "X_test = X_test.drop(['file_id', 'label'], axis=1).reset_index(drop=True)"
   ]
  },
  {
   "cell_type": "code",
   "execution_count": 313,
   "id": "db68d2ac-56b1-451c-a393-1c03244a8b05",
   "metadata": {
    "execution": {
     "iopub.execute_input": "2024-02-06T20:56:20.638642Z",
     "iopub.status.busy": "2024-02-06T20:56:20.638308Z",
     "iopub.status.idle": "2024-02-06T20:56:20.642805Z",
     "shell.execute_reply": "2024-02-06T20:56:20.642215Z",
     "shell.execute_reply.started": "2024-02-06T20:56:20.638620Z"
    },
    "tags": []
   },
   "outputs": [],
   "source": [
    "y_full = y_full.reset_index(drop=True)\n",
    "y_train = y_train.reset_index(drop=True)\n",
    "y_valid = y_valid.reset_index(drop=True)\n",
    "y_test = y_test.reset_index(drop=True)"
   ]
  },
  {
   "cell_type": "code",
   "execution_count": 314,
   "id": "4c6deab4-e463-4119-990c-f0e7aa0e7d0d",
   "metadata": {
    "execution": {
     "iopub.execute_input": "2024-02-06T20:56:22.439897Z",
     "iopub.status.busy": "2024-02-06T20:56:22.439517Z",
     "iopub.status.idle": "2024-02-06T20:56:23.063217Z",
     "shell.execute_reply": "2024-02-06T20:56:23.062522Z",
     "shell.execute_reply.started": "2024-02-06T20:56:22.439872Z"
    },
    "tags": []
   },
   "outputs": [],
   "source": [
    "full_pool = Pool(\n",
    "    data = X_full,\n",
    "    label = y_full,\n",
    ")\n",
    "\n",
    "train_pool = Pool(\n",
    "    data = X_train,\n",
    "    label = y_train,\n",
    ")\n",
    "\n",
    "validation_pool = Pool(\n",
    "    data = X_valid,\n",
    "    label = y_valid,\n",
    ")\n",
    "\n",
    "test_pool = Pool(\n",
    "    data = X_test,\n",
    "    label = y_test,\n",
    ")"
   ]
  },
  {
   "cell_type": "code",
   "execution_count": 315,
   "id": "bba185fd-2dc7-44a1-93eb-7bf94ae36d79",
   "metadata": {
    "execution": {
     "iopub.execute_input": "2024-02-06T20:57:20.657148Z",
     "iopub.status.busy": "2024-02-06T20:57:20.656765Z",
     "iopub.status.idle": "2024-02-06T20:58:00.142697Z",
     "shell.execute_reply": "2024-02-06T20:58:00.141984Z",
     "shell.execute_reply.started": "2024-02-06T20:57:20.657122Z"
    },
    "tags": []
   },
   "outputs": [
    {
     "name": "stdout",
     "output_type": "stream",
     "text": [
      "Learning rate set to 0.114222\n",
      "0:\tlearn: 0.6146384\ttest: 0.5886243\tbest: 0.5886243 (0)\ttotal: 185ms\tremaining: 3m 5s\n",
      "200:\tlearn: 0.9969136\ttest: 0.9087302\tbest: 0.9113757 (185)\ttotal: 33.1s\tremaining: 2m 11s\n",
      "bestTest = 0.9113756614\n",
      "bestIteration = 185\n",
      "Shrink model to first 186 iterations.\n"
     ]
    },
    {
     "data": {
      "text/plain": [
       "<catboost.core.CatBoostClassifier at 0x7f15760839d0>"
      ]
     },
     "execution_count": 315,
     "metadata": {},
     "output_type": "execute_result"
    }
   ],
   "source": [
    "merged_classifier = CatBoostClassifier(\n",
    "                    task_type = 'GPU',\n",
    "                    loss_function = 'MultiClass',\n",
    "                    eval_metric = 'Accuracy',\n",
    "                    early_stopping_rounds = 50\n",
    "                    )\n",
    "\n",
    "merged_classifier.fit(train_pool,\n",
    "          eval_set=validation_pool,\n",
    "          verbose=200)"
   ]
  },
  {
   "cell_type": "code",
   "execution_count": 316,
   "id": "c4e0284e-7759-4195-9b0c-97cbb81bbe2a",
   "metadata": {
    "execution": {
     "iopub.execute_input": "2024-02-06T20:58:00.144272Z",
     "iopub.status.busy": "2024-02-06T20:58:00.143952Z",
     "iopub.status.idle": "2024-02-06T20:58:00.311129Z",
     "shell.execute_reply": "2024-02-06T20:58:00.310290Z",
     "shell.execute_reply.started": "2024-02-06T20:58:00.144250Z"
    },
    "tags": []
   },
   "outputs": [
    {
     "data": {
      "image/png": "[encoded data removed]",
      "text/plain": [
       "<Figure size 640x480 with 1 Axes>"
      ]
     },
     "metadata": {},
     "output_type": "display_data"
    }
   ],
   "source": [
    "best_iteration = merged_classifier.best_iteration_\n",
    "plt.plot(merged_classifier.get_evals_result()['learn']['Accuracy'], label = \"Train\")\n",
    "plt.plot(merged_classifier.get_evals_result()['validation']['Accuracy'], label = \"Validation\")\n",
    "plt.axvline(x=best_iteration, color='red', linestyle='--', label=f'Best iteration:{best_iteration}')\n",
    "plt.legend();"
   ]
  },
  {
   "cell_type": "code",
   "execution_count": 319,
   "id": "6e5869a8-834f-485f-b0f0-47c7a82f8abd",
   "metadata": {
    "execution": {
     "iopub.execute_input": "2024-02-06T20:58:19.334964Z",
     "iopub.status.busy": "2024-02-06T20:58:19.334579Z",
     "iopub.status.idle": "2024-02-06T20:58:20.483859Z",
     "shell.execute_reply": "2024-02-06T20:58:20.482906Z",
     "shell.execute_reply.started": "2024-02-06T20:58:19.334939Z"
    },
    "tags": []
   },
   "outputs": [
    {
     "data": {
      "image/png": "[encoded data removed]",
      "text/plain": [
       "<Figure size 640x480 with 2 Axes>"
      ]
     },
     "metadata": {},
     "output_type": "display_data"
    }
   ],
   "source": [
    "cm = get_confusion_matrix(merged_classifier, test_pool)\n",
    "disp = ConfusionMatrixDisplay(confusion_matrix=cm.astype(int),\n",
    "                                display_labels=merged_classifier.classes_)\n",
    "disp.plot();"
   ]
  },
  {
   "cell_type": "code",
   "execution_count": 320,
   "id": "996d6120-092a-4045-a726-081edccf7b17",
   "metadata": {
    "execution": {
     "iopub.execute_input": "2024-02-06T20:58:39.419667Z",
     "iopub.status.busy": "2024-02-06T20:58:39.419245Z",
     "iopub.status.idle": "2024-02-06T20:58:39.424312Z",
     "shell.execute_reply": "2024-02-06T20:58:39.423697Z",
     "shell.execute_reply.started": "2024-02-06T20:58:39.419641Z"
    },
    "tags": []
   },
   "outputs": [
    {
     "data": {
      "text/plain": [
       "{'learn': {'Accuracy': 0.9986772486772487, 'MultiClass': 0.08534104819861249},\n",
       " 'validation': {'Accuracy': 0.9113756613756614,\n",
       "  'MultiClass': 0.3081628506776517}}"
      ]
     },
     "execution_count": 320,
     "metadata": {},
     "output_type": "execute_result"
    }
   ],
   "source": [
    "merged_classifier.best_score_"
   ]
  },
  {
   "cell_type": "code",
   "execution_count": 321,
   "id": "8eeee724-2f6f-4b1e-80ca-a03925bdf674",
   "metadata": {
    "execution": {
     "iopub.execute_input": "2024-02-06T20:58:43.514856Z",
     "iopub.status.busy": "2024-02-06T20:58:43.514472Z",
     "iopub.status.idle": "2024-02-06T20:58:43.526110Z",
     "shell.execute_reply": "2024-02-06T20:58:43.525389Z",
     "shell.execute_reply.started": "2024-02-06T20:58:43.514832Z"
    },
    "tags": []
   },
   "outputs": [
    {
     "data": {
      "text/html": [
       "<div>\n",
       "<style scoped>\n",
       "    .dataframe tbody tr th:only-of-type {\n",
       "        vertical-align: middle;\n",
       "    }\n",
       "\n",
       "    .dataframe tbody tr th {\n",
       "        vertical-align: top;\n",
       "    }\n",
       "\n",
       "    .dataframe thead th {\n",
       "        text-align: right;\n",
       "    }\n",
       "</style>\n",
       "<table border=\"1\" class=\"dataframe\">\n",
       "  <thead>\n",
       "    <tr style=\"text-align: right;\">\n",
       "      <th></th>\n",
       "      <th>learn</th>\n",
       "      <th>validation</th>\n",
       "      <th>model</th>\n",
       "    </tr>\n",
       "  </thead>\n",
       "  <tbody>\n",
       "    <tr>\n",
       "      <th>0</th>\n",
       "      <td>0.992063</td>\n",
       "      <td>0.843915</td>\n",
       "      <td>InceptionV3</td>\n",
       "    </tr>\n",
       "    <tr>\n",
       "      <th>1</th>\n",
       "      <td>0.962963</td>\n",
       "      <td>0.826720</td>\n",
       "      <td>Xception</td>\n",
       "    </tr>\n",
       "    <tr>\n",
       "      <th>2</th>\n",
       "      <td>0.998236</td>\n",
       "      <td>0.821429</td>\n",
       "      <td>VGG19</td>\n",
       "    </tr>\n",
       "  </tbody>\n",
       "</table>\n",
       "</div>"
      ],
      "text/plain": [
       "      learn  validation        model\n",
       "0  0.992063    0.843915  InceptionV3\n",
       "1  0.962963    0.826720     Xception\n",
       "2  0.998236    0.821429        VGG19"
      ]
     },
     "execution_count": 321,
     "metadata": {},
     "output_type": "execute_result"
    }
   ],
   "source": [
    "pd.concat([v3_accuracy, xc_accuracy, vgg19_accuracy]).reset_index(drop=True)"
   ]
  },
  {
   "cell_type": "code",
   "execution_count": 322,
   "id": "4f7f4a7d-25aa-47a5-84ed-344b2ace1b47",
   "metadata": {
    "execution": {
     "iopub.execute_input": "2024-02-06T20:58:45.465189Z",
     "iopub.status.busy": "2024-02-06T20:58:45.464800Z",
     "iopub.status.idle": "2024-02-06T20:58:45.478043Z",
     "shell.execute_reply": "2024-02-06T20:58:45.477355Z",
     "shell.execute_reply.started": "2024-02-06T20:58:45.465163Z"
    },
    "tags": []
   },
   "outputs": [
    {
     "data": {
      "text/plain": [
       "0.904887714663144"
      ]
     },
     "execution_count": 322,
     "metadata": {},
     "output_type": "execute_result"
    }
   ],
   "source": [
    "y_pred = merged_classifier.predict(test_pool)\n",
    "accuracy = accuracy_score(y_test, y_pred)\n",
    "accuracy"
   ]
  },
  {
   "cell_type": "code",
   "execution_count": 323,
   "id": "b29c87fa-ca33-4132-90ba-f616b67b0a85",
   "metadata": {
    "execution": {
     "iopub.execute_input": "2024-02-06T20:59:03.768809Z",
     "iopub.status.busy": "2024-02-06T20:59:03.768417Z",
     "iopub.status.idle": "2024-02-06T20:59:03.773580Z",
     "shell.execute_reply": "2024-02-06T20:59:03.772837Z",
     "shell.execute_reply.started": "2024-02-06T20:59:03.768784Z"
    }
   },
   "outputs": [
    {
     "data": {
      "text/plain": [
       "186"
      ]
     },
     "execution_count": 323,
     "metadata": {},
     "output_type": "execute_result"
    }
   ],
   "source": [
    "merged_classifier.tree_count_"
   ]
  },
  {
   "cell_type": "code",
   "execution_count": 293,
   "id": "471d0992-9599-467c-bf36-7e303d5b489a",
   "metadata": {
    "execution": {
     "iopub.execute_input": "2024-02-06T20:26:29.563000Z",
     "iopub.status.busy": "2024-02-06T20:26:29.562626Z",
     "iopub.status.idle": "2024-02-06T20:26:29.566345Z",
     "shell.execute_reply": "2024-02-06T20:26:29.565591Z",
     "shell.execute_reply.started": "2024-02-06T20:26:29.562972Z"
    }
   },
   "outputs": [],
   "source": [
    "#Check if there are no data leaks LOL"
   ]
  },
  {
   "cell_type": "code",
   "execution_count": 292,
   "id": "95852f3b-6dd6-45eb-a232-68e3d35df4ff",
   "metadata": {
    "execution": {
     "iopub.execute_input": "2024-02-06T19:53:21.532859Z",
     "iopub.status.busy": "2024-02-06T19:53:21.532477Z",
     "iopub.status.idle": "2024-02-06T19:53:21.541195Z",
     "shell.execute_reply": "2024-02-06T19:53:21.540460Z",
     "shell.execute_reply.started": "2024-02-06T19:53:21.532835Z"
    },
    "tags": []
   },
   "outputs": [
    {
     "data": {
      "text/plain": [
       "(1, 1)"
      ]
     },
     "execution_count": 292,
     "metadata": {},
     "output_type": "execute_result"
    }
   ],
   "source": [
    "merged_df.columns.str.contains('file_id').sum(), merged_df.columns.str.contains('label').sum()"
   ]
  },
  {
   "cell_type": "code",
   "execution_count": 291,
   "id": "b9639dba-16db-4d68-a431-c0ebfe9fb0b2",
   "metadata": {
    "execution": {
     "iopub.execute_input": "2024-02-06T19:53:08.253529Z",
     "iopub.status.busy": "2024-02-06T19:53:08.253121Z",
     "iopub.status.idle": "2024-02-06T19:53:08.263891Z",
     "shell.execute_reply": "2024-02-06T19:53:08.263233Z",
     "shell.execute_reply.started": "2024-02-06T19:53:08.253500Z"
    },
    "tags": []
   },
   "outputs": [
    {
     "data": {
      "text/plain": [
       "(512, 2048, 2048)"
      ]
     },
     "execution_count": 291,
     "metadata": {},
     "output_type": "execute_result"
    }
   ],
   "source": [
    "merged_df.columns.str.contains('vgg19').sum(), merged_df.columns.str.contains('xc').sum(), merged_df.columns.str.contains('incV3').sum()"
   ]
  },
  {
   "cell_type": "markdown",
   "id": "2a75ff0c-9a72-4208-b20b-fae74b083dab",
   "metadata": {
    "execution": {
     "iopub.execute_input": "2024-02-06T21:32:01.288740Z",
     "iopub.status.busy": "2024-02-06T21:32:01.288347Z",
     "iopub.status.idle": "2024-02-06T21:32:01.291985Z",
     "shell.execute_reply": "2024-02-06T21:32:01.291333Z",
     "shell.execute_reply.started": "2024-02-06T21:32:01.288713Z"
    },
    "tags": []
   },
   "source": [
    "# >> [Tuning] CatBoost (InceptionV3 + Xception + VGG19 Features)"
   ]
  },
  {
   "cell_type": "code",
   "execution_count": 335,
   "id": "14a6f294-2987-4e2d-8ec7-6d1397aa1511",
   "metadata": {
    "execution": {
     "iopub.execute_input": "2024-02-06T22:04:38.641556Z",
     "iopub.status.busy": "2024-02-06T22:04:38.641170Z",
     "iopub.status.idle": "2024-02-06T22:04:38.647159Z",
     "shell.execute_reply": "2024-02-06T22:04:38.646368Z",
     "shell.execute_reply.started": "2024-02-06T22:04:38.641531Z"
    },
    "tags": []
   },
   "outputs": [],
   "source": [
    "def hyperopt_objective(params):\n",
    "    print(params)\n",
    "    model = CatBoostClassifier(**params,\n",
    "                               task_type = 'GPU',\n",
    "                               loss_function = 'MultiClass',\n",
    "                               random_seed = RANDOM_SEED)\n",
    "    \n",
    "    model.fit(train_pool, verbose=0, eval_set=validation_pool)\n",
    "    \n",
    "    y_valid = validation_pool.get_label()\n",
    "    y_pred = model.predict_proba(validation_pool)\n",
    "    return  -eval_metric(y_valid, y_pred, 'Accuracy')[0]\n",
    "\n",
    "space = {\n",
    "    'learning_rate': hp.loguniform('learning_rate', math.log(0.01), math.log(0.3)), \n",
    "    'depth': hp.randint('depth', 3, 10),\n",
    "    'l2_leaf_reg': hp.loguniform('l2_leaf_reg', math.log(1), math.log(10))\n",
    "}"
   ]
  },
  {
   "cell_type": "code",
   "execution_count": 336,
   "id": "7f3ea132-b384-412a-8419-56aef707e9b1",
   "metadata": {
    "execution": {
     "iopub.execute_input": "2024-02-06T22:04:46.435049Z",
     "iopub.status.busy": "2024-02-06T22:04:46.434669Z",
     "iopub.status.idle": "2024-02-06T22:48:15.424435Z",
     "shell.execute_reply": "2024-02-06T22:48:15.423540Z",
     "shell.execute_reply.started": "2024-02-06T22:04:46.435025Z"
    },
    "tags": []
   },
   "outputs": [
    {
     "name": "stdout",
     "output_type": "stream",
     "text": [
      "{'depth': 6, 'l2_leaf_reg': 4.169836222804728, 'learning_rate': 0.15917237508778656}\n",
      "{'depth': 9, 'l2_leaf_reg': 4.057412493793687, 'learning_rate': 0.02778169688135642}\n",
      "{'depth': 4, 'l2_leaf_reg': 1.1848435957142298, 'learning_rate': 0.016484730699711236}\n",
      "{'depth': 7, 'l2_leaf_reg': 1.6301107708185072, 'learning_rate': 0.03948467602347645}\n",
      "{'depth': 3, 'l2_leaf_reg': 1.2492364447258786, 'learning_rate': 0.055315879907674566}\n",
      "{'depth': 7, 'l2_leaf_reg': 1.4488522802077135, 'learning_rate': 0.13026382468216652}\n",
      "{'depth': 4, 'l2_leaf_reg': 9.930868012926428, 'learning_rate': 0.10780126348054113}\n",
      "{'depth': 3, 'l2_leaf_reg': 6.7622252396425955, 'learning_rate': 0.01244398537983132}\n",
      "{'depth': 4, 'l2_leaf_reg': 5.907188337611997, 'learning_rate': 0.11705755415853294}\n",
      "{'depth': 8, 'l2_leaf_reg': 3.023828588476758, 'learning_rate': 0.030207324138548857}\n",
      "100%|██████████| 10/10 [43:28<00:00, 260.90s/trial, best loss: -0.9272486772486772]\n"
     ]
    }
   ],
   "source": [
    "#Uncomment this if you want to do hyperoptimization\n",
    "# best = fmin(hyperopt_objective,\n",
    "#             space=space,\n",
    "#             algo=tpe.suggest,\n",
    "#             max_evals=10,\n",
    "#             rstate=np.random.default_rng(RANDOM_SEED))"
   ]
  },
  {
   "cell_type": "code",
   "execution_count": 340,
   "id": "1e317e3d-31de-4b03-909d-53af69075905",
   "metadata": {
    "execution": {
     "iopub.execute_input": "2024-02-06T22:49:38.215429Z",
     "iopub.status.busy": "2024-02-06T22:49:38.215026Z",
     "iopub.status.idle": "2024-02-06T22:49:38.219098Z",
     "shell.execute_reply": "2024-02-06T22:49:38.218292Z",
     "shell.execute_reply.started": "2024-02-06T22:49:38.215404Z"
    },
    "tags": []
   },
   "outputs": [],
   "source": [
    "best_params = {'depth': 7,\n",
    "        'l2_leaf_reg': 1.4488522802077135,\n",
    "        'learning_rate': 0.13026382468216652}"
   ]
  }
 ],
 "metadata": {
  "kernelspec": {
   "display_name": "saturn (Python 3)",
   "language": "python",
   "name": "python3"
  },
  "language_info": {
   "codemirror_mode": {
    "name": "ipython",
    "version": 3
   },
   "file_extension": ".py",
   "mimetype": "text/x-python",
   "name": "python",
   "nbconvert_exporter": "python",
   "pygments_lexer": "ipython3",
   "version": "3.9.13"
  }
 },
 "nbformat": 4,
 "nbformat_minor": 5
}
