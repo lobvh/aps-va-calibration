{
 "cells": [
  {
   "cell_type": "code",
   "execution_count": 13,
   "id": "465b629c-1dc8-4ba8-9acb-e9ea921d1417",
   "metadata": {
    "execution": {
     "iopub.execute_input": "2024-02-02T17:01:47.247602Z",
     "iopub.status.busy": "2024-02-02T17:01:47.247214Z",
     "iopub.status.idle": "2024-02-02T17:01:47.251281Z",
     "shell.execute_reply": "2024-02-02T17:01:47.250477Z",
     "shell.execute_reply.started": "2024-02-02T17:01:47.247575Z"
    },
    "tags": []
   },
   "outputs": [],
   "source": [
    "import os"
   ]
  },
  {
   "cell_type": "code",
   "execution_count": 14,
   "id": "5d052437-fcf0-43f3-bd73-71a0be1b84ac",
   "metadata": {
    "execution": {
     "iopub.execute_input": "2024-02-02T17:01:47.681048Z",
     "iopub.status.busy": "2024-02-02T17:01:47.680637Z",
     "iopub.status.idle": "2024-02-02T17:01:47.684468Z",
     "shell.execute_reply": "2024-02-02T17:01:47.683810Z",
     "shell.execute_reply.started": "2024-02-02T17:01:47.681023Z"
    },
    "tags": []
   },
   "outputs": [],
   "source": [
    "os.environ[\"TF_CPP_MIN_LOG_LEVEL\"] = \"3\""
   ]
  },
  {
   "cell_type": "code",
   "execution_count": 15,
   "id": "1e93ed7d-b7d9-44b6-89e6-017a648042e8",
   "metadata": {
    "execution": {
     "iopub.execute_input": "2024-02-02T17:01:48.600171Z",
     "iopub.status.busy": "2024-02-02T17:01:48.599780Z",
     "iopub.status.idle": "2024-02-02T17:01:48.606148Z",
     "shell.execute_reply": "2024-02-02T17:01:48.605381Z",
     "shell.execute_reply.started": "2024-02-02T17:01:48.600143Z"
    },
    "tags": []
   },
   "outputs": [],
   "source": [
    "import matplotlib.pyplot as plt\n",
    "import numpy as np\n",
    "import pandas as pd\n",
    "from tensorflow.keras.preprocessing.image import ImageDataGenerator, load_img\n",
    "\n",
    "import tensorflow as tf\n",
    "from tensorflow import keras\n",
    "\n",
    "%matplotlib inline\n",
    "\n",
    "\n",
    "from keras.applications.inception_v3 import InceptionV3, preprocess_input\n",
    "\n",
    "from itertools import islice"
   ]
  },
  {
   "cell_type": "code",
   "execution_count": 16,
   "id": "cda958dc-4b90-419e-86fe-2907f969dcfc",
   "metadata": {
    "execution": {
     "iopub.execute_input": "2024-02-02T17:01:52.259683Z",
     "iopub.status.busy": "2024-02-02T17:01:52.259287Z",
     "iopub.status.idle": "2024-02-02T17:01:54.586687Z",
     "shell.execute_reply": "2024-02-02T17:01:54.585777Z",
     "shell.execute_reply.started": "2024-02-02T17:01:52.259659Z"
    },
    "tags": []
   },
   "outputs": [
    {
     "name": "stdout",
     "output_type": "stream",
     "text": [
      "Requirement already satisfied: tqdm in /opt/saturncloud/envs/saturn/lib/python3.9/site-packages (4.66.1)\n"
     ]
    }
   ],
   "source": [
    "!pip install tqdm"
   ]
  },
  {
   "cell_type": "code",
   "execution_count": 17,
   "id": "48926bfd-b9a3-48b5-8497-557bae8be941",
   "metadata": {
    "execution": {
     "iopub.execute_input": "2024-02-02T17:01:54.588923Z",
     "iopub.status.busy": "2024-02-02T17:01:54.588482Z",
     "iopub.status.idle": "2024-02-02T17:01:54.592691Z",
     "shell.execute_reply": "2024-02-02T17:01:54.592018Z",
     "shell.execute_reply.started": "2024-02-02T17:01:54.588894Z"
    },
    "tags": []
   },
   "outputs": [],
   "source": [
    "from tqdm import tqdm"
   ]
  },
  {
   "cell_type": "code",
   "execution_count": 6,
   "id": "1fbf8d01-5941-4d08-84e1-db0360170601",
   "metadata": {
    "execution": {
     "iopub.execute_input": "2024-02-02T16:53:04.899501Z",
     "iopub.status.busy": "2024-02-02T16:53:04.899133Z",
     "iopub.status.idle": "2024-02-02T16:53:05.015271Z",
     "shell.execute_reply": "2024-02-02T16:53:05.014499Z",
     "shell.execute_reply.started": "2024-02-02T16:53:04.899472Z"
    },
    "tags": []
   },
   "outputs": [
    {
     "name": "stdout",
     "output_type": "stream",
     "text": [
      "Found 3068 images belonging to 10 classes.\n"
     ]
    }
   ],
   "source": [
    "train_gen = ImageDataGenerator(preprocessing_function=preprocess_input)\n",
    "train_ds = train_gen.flow_from_directory(\n",
    "    \"../../clothing-dataset-small/train/\", \n",
    "    target_size=(299, 299),\n",
    "    batch_size=1,\n",
    "    shuffle = False #This has to be false both because it is unecessary to shuffle the data and also for extracting valid filenames\n",
    ")"
   ]
  },
  {
   "cell_type": "code",
   "execution_count": 18,
   "id": "e7b0bb04-e266-4c3f-94cd-cdc9a42627dd",
   "metadata": {
    "execution": {
     "iopub.execute_input": "2024-02-02T17:01:58.830069Z",
     "iopub.status.busy": "2024-02-02T17:01:58.829659Z",
     "iopub.status.idle": "2024-02-02T17:01:58.834869Z",
     "shell.execute_reply": "2024-02-02T17:01:58.833999Z",
     "shell.execute_reply.started": "2024-02-02T17:01:58.830044Z"
    },
    "tags": []
   },
   "outputs": [],
   "source": [
    "train_df = pd.DataFrame()\n",
    "labels = []"
   ]
  },
  {
   "cell_type": "code",
   "execution_count": 19,
   "id": "4e9dbc73-fbe5-4230-b031-04c064ab4581",
   "metadata": {
    "execution": {
     "iopub.execute_input": "2024-02-02T17:02:11.711065Z",
     "iopub.status.busy": "2024-02-02T17:02:11.710681Z",
     "iopub.status.idle": "2024-02-02T17:02:19.435343Z",
     "shell.execute_reply": "2024-02-02T17:02:19.434655Z",
     "shell.execute_reply.started": "2024-02-02T17:02:11.711039Z"
    },
    "tags": []
   },
   "outputs": [
    {
     "name": "stdout",
     "output_type": "stream",
     "text": [
      "Downloading data from https://storage.googleapis.com/tensorflow/keras-applications/inception_v3/inception_v3_weights_tf_dim_ordering_tf_kernels_notop.h5\n",
      "87910968/87910968 [==============================] - 6s 0us/step\n"
     ]
    }
   ],
   "source": [
    "inceptionV3_model = InceptionV3(\n",
    "                        weights=\"imagenet\", \n",
    "                        include_top=False,\n",
    "                        input_shape=(299, 299, 3)\n",
    "                         )"
   ]
  },
  {
   "cell_type": "code",
   "execution_count": 20,
   "id": "7451cc8e-b654-4e93-9630-ee978c9830e0",
   "metadata": {
    "execution": {
     "iopub.execute_input": "2024-02-02T17:02:22.979691Z",
     "iopub.status.busy": "2024-02-02T17:02:22.979230Z",
     "iopub.status.idle": "2024-02-02T17:02:24.771731Z",
     "shell.execute_reply": "2024-02-02T17:02:24.770992Z",
     "shell.execute_reply.started": "2024-02-02T17:02:22.979655Z"
    },
    "tags": []
   },
   "outputs": [
    {
     "name": "stdout",
     "output_type": "stream",
     "text": [
      "1/1 [==============================] - 2s 2s/step\n"
     ]
    },
    {
     "data": {
      "text/plain": [
       "(1, 8, 8, 2048)"
      ]
     },
     "execution_count": 20,
     "metadata": {},
     "output_type": "execute_result"
    }
   ],
   "source": [
    "#Try one image and check the output\n",
    "\n",
    "# Single image for testing\n",
    "PATH = \"../../clothing-dataset-small/train/t-shirt\"\n",
    "FILE = \"0285f2a0-ff21-43de-9762-6454faa5eef8.jpg\"\n",
    "\n",
    "FULL_PATH = f\"{PATH}/{FILE}\"\n",
    "\n",
    "img = load_img(FULL_PATH, target_size=(299, 299))\n",
    "x = np.array(img)\n",
    "\n",
    "X = np.array([x])  # expects batch of images\n",
    "X = preprocess_input(X)\n",
    "\n",
    "pred = inceptionV3_model.predict(X)\n",
    "\n",
    "pred.shape"
   ]
  },
  {
   "cell_type": "code",
   "execution_count": 21,
   "id": "6438da59-7e0e-46fd-9408-2832838b6a76",
   "metadata": {
    "execution": {
     "iopub.execute_input": "2024-02-02T17:02:29.862953Z",
     "iopub.status.busy": "2024-02-02T17:02:29.862536Z",
     "iopub.status.idle": "2024-02-02T17:02:29.872145Z",
     "shell.execute_reply": "2024-02-02T17:02:29.871328Z",
     "shell.execute_reply.started": "2024-02-02T17:02:29.862927Z"
    },
    "tags": []
   },
   "outputs": [
    {
     "data": {
      "text/plain": [
       "TensorShape([1, 2048])"
      ]
     },
     "execution_count": 21,
     "metadata": {},
     "output_type": "execute_result"
    }
   ],
   "source": [
    "features_pooled = keras.layers.GlobalAveragePooling2D()(pred)\n",
    "\n",
    "features_pooled.shape"
   ]
  },
  {
   "cell_type": "code",
   "execution_count": 25,
   "id": "39a32e9b-5b81-4abb-8cf9-97ebf8bd8721",
   "metadata": {
    "execution": {
     "iopub.execute_input": "2024-02-02T17:03:19.293361Z",
     "iopub.status.busy": "2024-02-02T17:03:19.292957Z",
     "iopub.status.idle": "2024-02-02T17:03:19.297883Z",
     "shell.execute_reply": "2024-02-02T17:03:19.297002Z",
     "shell.execute_reply.started": "2024-02-02T17:03:19.293336Z"
    },
    "tags": []
   },
   "outputs": [],
   "source": [
    "def inception_v3_features(input_image):\n",
    "    incv3_model = InceptionV3(\n",
    "        weights=\"imagenet\", include_top=False, input_shape=(299, 299, 3)\n",
    "    )\n",
    "\n",
    "    # Extract features from images\n",
    "    features = incv3_model.predict(input_image, verbose = 0)\n",
    "\n",
    "    # Pool them\n",
    "    features_pooled = keras.layers.GlobalAveragePooling2D()(features)\n",
    "\n",
    "    return features_pooled"
   ]
  },
  {
   "cell_type": "code",
   "execution_count": 51,
   "id": "04b2e4fb-441c-4373-ab78-468c97289747",
   "metadata": {
    "execution": {
     "iopub.execute_input": "2024-02-02T19:50:38.371989Z",
     "iopub.status.busy": "2024-02-02T19:50:38.371568Z",
     "iopub.status.idle": "2024-02-02T19:50:38.375680Z",
     "shell.execute_reply": "2024-02-02T19:50:38.374839Z",
     "shell.execute_reply.started": "2024-02-02T19:50:38.371963Z"
    },
    "tags": []
   },
   "outputs": [],
   "source": [
    "num_per_batch = 500"
   ]
  },
  {
   "cell_type": "code",
   "execution_count": 58,
   "id": "a9ee0f9b-78fd-4b1c-bdf1-ea8d41c0ab7c",
   "metadata": {
    "execution": {
     "iopub.execute_input": "2024-02-02T19:58:23.946872Z",
     "iopub.status.busy": "2024-02-02T19:58:23.946464Z",
     "iopub.status.idle": "2024-02-02T19:58:23.952085Z",
     "shell.execute_reply": "2024-02-02T19:58:23.951199Z",
     "shell.execute_reply.started": "2024-02-02T19:58:23.946846Z"
    },
    "tags": []
   },
   "outputs": [
    {
     "data": {
      "text/plain": [
       "(3100, 2048)"
      ]
     },
     "execution_count": 58,
     "metadata": {},
     "output_type": "execute_result"
    }
   ],
   "source": [
    "train_df.shape #Found 3068 images belonging to 10 classes."
   ]
  },
  {
   "cell_type": "code",
   "execution_count": 59,
   "id": "3f892230-d776-4999-b5aa-4d7d00d68f5c",
   "metadata": {
    "execution": {
     "iopub.execute_input": "2024-02-02T19:58:27.651420Z",
     "iopub.status.busy": "2024-02-02T19:58:27.650617Z",
     "iopub.status.idle": "2024-02-02T19:58:28.797650Z",
     "shell.execute_reply": "2024-02-02T19:58:28.796657Z",
     "shell.execute_reply.started": "2024-02-02T19:58:27.651375Z"
    },
    "tags": []
   },
   "outputs": [
    {
     "data": {
      "text/plain": [
       "32"
      ]
     },
     "execution_count": 59,
     "metadata": {},
     "output_type": "execute_result"
    }
   ],
   "source": [
    "train_df.duplicated().sum()"
   ]
  },
  {
   "cell_type": "code",
   "execution_count": 60,
   "id": "ef19c7a8-d92f-438a-ab0d-164a8a23e9d9",
   "metadata": {
    "execution": {
     "iopub.execute_input": "2024-02-02T19:58:34.829572Z",
     "iopub.status.busy": "2024-02-02T19:58:34.829171Z",
     "iopub.status.idle": "2024-02-02T19:58:34.834481Z",
     "shell.execute_reply": "2024-02-02T19:58:34.833648Z",
     "shell.execute_reply.started": "2024-02-02T19:58:34.829547Z"
    }
   },
   "outputs": [
    {
     "data": {
      "text/plain": [
       "32"
      ]
     },
     "execution_count": 60,
     "metadata": {},
     "output_type": "execute_result"
    }
   ],
   "source": [
    "3100-3068"
   ]
  },
  {
   "cell_type": "code",
   "execution_count": 57,
   "id": "db845cbf-2442-48a5-a0ab-3b1d0de8214b",
   "metadata": {
    "execution": {
     "iopub.execute_input": "2024-02-02T19:52:48.201614Z",
     "iopub.status.busy": "2024-02-02T19:52:48.201195Z",
     "iopub.status.idle": "2024-02-02T19:58:18.873318Z",
     "shell.execute_reply": "2024-02-02T19:58:18.872179Z",
     "shell.execute_reply.started": "2024-02-02T19:52:48.201590Z"
    },
    "tags": []
   },
   "outputs": [
    {
     "name": "stderr",
     "output_type": "stream",
     "text": [
      "100it [05:30,  3.30s/it]\n"
     ]
    },
    {
     "ename": "KeyboardInterrupt",
     "evalue": "",
     "output_type": "error",
     "traceback": [
      "\u001b[0;31m---------------------------------------------------------------------------\u001b[0m",
      "\u001b[0;31mKeyboardInterrupt\u001b[0m                         Traceback (most recent call last)",
      "Cell \u001b[0;32mIn [57], line 5\u001b[0m\n\u001b[1;32m      2\u001b[0m label_id \u001b[38;5;241m=\u001b[39m np\u001b[38;5;241m.\u001b[39mwhere(img[\u001b[38;5;241m1\u001b[39m] \u001b[38;5;241m==\u001b[39m \u001b[38;5;241m1\u001b[39m)[\u001b[38;5;241m1\u001b[39m][\u001b[38;5;241m0\u001b[39m]\n\u001b[1;32m      3\u001b[0m labels\u001b[38;5;241m.\u001b[39mappend(label_id)\n\u001b[0;32m----> 5\u001b[0m in_features \u001b[38;5;241m=\u001b[39m inception_v3_features(img[\u001b[38;5;241m0\u001b[39m])\n\u001b[1;32m      6\u001b[0m in_features \u001b[38;5;241m=\u001b[39m pd\u001b[38;5;241m.\u001b[39mDataFrame(in_features)\n\u001b[1;32m      8\u001b[0m train_df \u001b[38;5;241m=\u001b[39m pd\u001b[38;5;241m.\u001b[39mconcat([train_df, in_features], ignore_index\u001b[38;5;241m=\u001b[39m\u001b[38;5;28;01mTrue\u001b[39;00m)\n",
      "Cell \u001b[0;32mIn [25], line 2\u001b[0m, in \u001b[0;36minception_v3_features\u001b[0;34m(input_image)\u001b[0m\n\u001b[1;32m      1\u001b[0m \u001b[38;5;28;01mdef\u001b[39;00m \u001b[38;5;21minception_v3_features\u001b[39m(input_image):\n\u001b[0;32m----> 2\u001b[0m     incv3_model \u001b[38;5;241m=\u001b[39m \u001b[43mInceptionV3\u001b[49m\u001b[43m(\u001b[49m\n\u001b[1;32m      3\u001b[0m \u001b[43m        \u001b[49m\u001b[43mweights\u001b[49m\u001b[38;5;241;43m=\u001b[39;49m\u001b[38;5;124;43m\"\u001b[39;49m\u001b[38;5;124;43mimagenet\u001b[39;49m\u001b[38;5;124;43m\"\u001b[39;49m\u001b[43m,\u001b[49m\u001b[43m \u001b[49m\u001b[43minclude_top\u001b[49m\u001b[38;5;241;43m=\u001b[39;49m\u001b[38;5;28;43;01mFalse\u001b[39;49;00m\u001b[43m,\u001b[49m\u001b[43m \u001b[49m\u001b[43minput_shape\u001b[49m\u001b[38;5;241;43m=\u001b[39;49m\u001b[43m(\u001b[49m\u001b[38;5;241;43m299\u001b[39;49m\u001b[43m,\u001b[49m\u001b[43m \u001b[49m\u001b[38;5;241;43m299\u001b[39;49m\u001b[43m,\u001b[49m\u001b[43m \u001b[49m\u001b[38;5;241;43m3\u001b[39;49m\u001b[43m)\u001b[49m\n\u001b[1;32m      4\u001b[0m \u001b[43m    \u001b[49m\u001b[43m)\u001b[49m\n\u001b[1;32m      6\u001b[0m     \u001b[38;5;66;03m# Extract features from images\u001b[39;00m\n\u001b[1;32m      7\u001b[0m     features \u001b[38;5;241m=\u001b[39m incv3_model\u001b[38;5;241m.\u001b[39mpredict(input_image, verbose \u001b[38;5;241m=\u001b[39m \u001b[38;5;241m0\u001b[39m)\n",
      "File \u001b[0;32m/opt/saturncloud/envs/saturn/lib/python3.9/site-packages/keras/applications/inception_v3.py:231\u001b[0m, in \u001b[0;36mInceptionV3\u001b[0;34m(include_top, weights, input_tensor, input_shape, pooling, classes, classifier_activation)\u001b[0m\n\u001b[1;32m    229\u001b[0m branch7x7dbl \u001b[38;5;241m=\u001b[39m conv2d_bn(branch7x7dbl, \u001b[38;5;241m128\u001b[39m, \u001b[38;5;241m7\u001b[39m, \u001b[38;5;241m1\u001b[39m)\n\u001b[1;32m    230\u001b[0m branch7x7dbl \u001b[38;5;241m=\u001b[39m conv2d_bn(branch7x7dbl, \u001b[38;5;241m128\u001b[39m, \u001b[38;5;241m1\u001b[39m, \u001b[38;5;241m7\u001b[39m)\n\u001b[0;32m--> 231\u001b[0m branch7x7dbl \u001b[38;5;241m=\u001b[39m \u001b[43mconv2d_bn\u001b[49m\u001b[43m(\u001b[49m\u001b[43mbranch7x7dbl\u001b[49m\u001b[43m,\u001b[49m\u001b[43m \u001b[49m\u001b[38;5;241;43m128\u001b[39;49m\u001b[43m,\u001b[49m\u001b[43m \u001b[49m\u001b[38;5;241;43m7\u001b[39;49m\u001b[43m,\u001b[49m\u001b[43m \u001b[49m\u001b[38;5;241;43m1\u001b[39;49m\u001b[43m)\u001b[49m\n\u001b[1;32m    232\u001b[0m branch7x7dbl \u001b[38;5;241m=\u001b[39m conv2d_bn(branch7x7dbl, \u001b[38;5;241m192\u001b[39m, \u001b[38;5;241m1\u001b[39m, \u001b[38;5;241m7\u001b[39m)\n\u001b[1;32m    234\u001b[0m branch_pool \u001b[38;5;241m=\u001b[39m layers\u001b[38;5;241m.\u001b[39mAveragePooling2D(\n\u001b[1;32m    235\u001b[0m     (\u001b[38;5;241m3\u001b[39m, \u001b[38;5;241m3\u001b[39m), strides\u001b[38;5;241m=\u001b[39m(\u001b[38;5;241m1\u001b[39m, \u001b[38;5;241m1\u001b[39m), padding\u001b[38;5;241m=\u001b[39m\u001b[38;5;124m'\u001b[39m\u001b[38;5;124msame\u001b[39m\u001b[38;5;124m'\u001b[39m)(x)\n",
      "File \u001b[0;32m/opt/saturncloud/envs/saturn/lib/python3.9/site-packages/keras/applications/inception_v3.py:400\u001b[0m, in \u001b[0;36mconv2d_bn\u001b[0;34m(x, filters, num_row, num_col, padding, strides, name)\u001b[0m\n\u001b[1;32m    398\u001b[0m \u001b[38;5;28;01melse\u001b[39;00m:\n\u001b[1;32m    399\u001b[0m   bn_axis \u001b[38;5;241m=\u001b[39m \u001b[38;5;241m3\u001b[39m\n\u001b[0;32m--> 400\u001b[0m x \u001b[38;5;241m=\u001b[39m \u001b[43mlayers\u001b[49m\u001b[38;5;241;43m.\u001b[39;49m\u001b[43mConv2D\u001b[49m\u001b[43m(\u001b[49m\n\u001b[1;32m    401\u001b[0m \u001b[43m    \u001b[49m\u001b[43mfilters\u001b[49m\u001b[43m,\u001b[49m\u001b[43m \u001b[49m\u001b[43m(\u001b[49m\u001b[43mnum_row\u001b[49m\u001b[43m,\u001b[49m\u001b[43m \u001b[49m\u001b[43mnum_col\u001b[49m\u001b[43m)\u001b[49m\u001b[43m,\u001b[49m\n\u001b[1;32m    402\u001b[0m \u001b[43m    \u001b[49m\u001b[43mstrides\u001b[49m\u001b[38;5;241;43m=\u001b[39;49m\u001b[43mstrides\u001b[49m\u001b[43m,\u001b[49m\n\u001b[1;32m    403\u001b[0m \u001b[43m    \u001b[49m\u001b[43mpadding\u001b[49m\u001b[38;5;241;43m=\u001b[39;49m\u001b[43mpadding\u001b[49m\u001b[43m,\u001b[49m\n\u001b[1;32m    404\u001b[0m \u001b[43m    \u001b[49m\u001b[43muse_bias\u001b[49m\u001b[38;5;241;43m=\u001b[39;49m\u001b[38;5;28;43;01mFalse\u001b[39;49;00m\u001b[43m,\u001b[49m\n\u001b[1;32m    405\u001b[0m \u001b[43m    \u001b[49m\u001b[43mname\u001b[49m\u001b[38;5;241;43m=\u001b[39;49m\u001b[43mconv_name\u001b[49m\u001b[43m)\u001b[49m(\n\u001b[1;32m    406\u001b[0m         x)\n\u001b[1;32m    407\u001b[0m x \u001b[38;5;241m=\u001b[39m layers\u001b[38;5;241m.\u001b[39mBatchNormalization(axis\u001b[38;5;241m=\u001b[39mbn_axis, scale\u001b[38;5;241m=\u001b[39m\u001b[38;5;28;01mFalse\u001b[39;00m, name\u001b[38;5;241m=\u001b[39mbn_name)(x)\n\u001b[1;32m    408\u001b[0m x \u001b[38;5;241m=\u001b[39m layers\u001b[38;5;241m.\u001b[39mActivation(\u001b[38;5;124m'\u001b[39m\u001b[38;5;124mrelu\u001b[39m\u001b[38;5;124m'\u001b[39m, name\u001b[38;5;241m=\u001b[39mname)(x)\n",
      "File \u001b[0;32m/opt/saturncloud/envs/saturn/lib/python3.9/site-packages/keras/utils/version_utils.py:61\u001b[0m, in \u001b[0;36mLayerVersionSelector.__new__\u001b[0;34m(cls, *args, **kwargs)\u001b[0m\n\u001b[1;32m     59\u001b[0m \u001b[38;5;28;01mdef\u001b[39;00m \u001b[38;5;21m__new__\u001b[39m(\u001b[38;5;28mcls\u001b[39m, \u001b[38;5;241m*\u001b[39margs, \u001b[38;5;241m*\u001b[39m\u001b[38;5;241m*\u001b[39mkwargs):  \u001b[38;5;66;03m# pylint: disable=unused-argument\u001b[39;00m\n\u001b[1;32m     60\u001b[0m   use_v2 \u001b[38;5;241m=\u001b[39m should_use_v2()\n\u001b[0;32m---> 61\u001b[0m   \u001b[38;5;28mcls\u001b[39m \u001b[38;5;241m=\u001b[39m \u001b[43mswap_class\u001b[49m\u001b[43m(\u001b[49m\u001b[38;5;28;43mcls\u001b[39;49m\u001b[43m,\u001b[49m\u001b[43m \u001b[49m\u001b[43mbase_layer\u001b[49m\u001b[38;5;241;43m.\u001b[39;49m\u001b[43mLayer\u001b[49m\u001b[43m,\u001b[49m\u001b[43m \u001b[49m\u001b[43mbase_layer_v1\u001b[49m\u001b[38;5;241;43m.\u001b[39;49m\u001b[43mLayer\u001b[49m\u001b[43m,\u001b[49m\u001b[43m \u001b[49m\u001b[43muse_v2\u001b[49m\u001b[43m)\u001b[49m  \u001b[38;5;66;03m# pylint: disable=self-cls-assignment\u001b[39;00m\n\u001b[1;32m     62\u001b[0m   \u001b[38;5;28;01mreturn\u001b[39;00m \u001b[38;5;28msuper\u001b[39m(LayerVersionSelector, \u001b[38;5;28mcls\u001b[39m)\u001b[38;5;241m.\u001b[39m\u001b[38;5;21m__new__\u001b[39m(\u001b[38;5;28mcls\u001b[39m)\n",
      "File \u001b[0;32m/opt/saturncloud/envs/saturn/lib/python3.9/site-packages/keras/utils/version_utils.py:117\u001b[0m, in \u001b[0;36mswap_class\u001b[0;34m(cls, v2_cls, v1_cls, use_v2)\u001b[0m\n\u001b[1;32m    115\u001b[0m     new_base \u001b[38;5;241m=\u001b[39m base\n\u001b[1;32m    116\u001b[0m   new_bases\u001b[38;5;241m.\u001b[39mappend(new_base)\n\u001b[0;32m--> 117\u001b[0m \u001b[38;5;28;43mcls\u001b[39;49m\u001b[38;5;241;43m.\u001b[39;49m\u001b[38;5;18;43m__bases__\u001b[39;49m \u001b[38;5;241m=\u001b[39m \u001b[38;5;28mtuple\u001b[39m(new_bases)\n\u001b[1;32m    118\u001b[0m \u001b[38;5;28;01mreturn\u001b[39;00m \u001b[38;5;28mcls\u001b[39m\n",
      "\u001b[0;31mKeyboardInterrupt\u001b[0m: "
     ]
    }
   ],
   "source": [
    "for img in tqdm(islice(train_ds, num_per_batch)):\n",
    "    label_id = np.where(img[1] == 1)[1][0]\n",
    "    labels.append(label_id)\n",
    "\n",
    "    in_features = inception_v3_features(img[0])\n",
    "    in_features = pd.DataFrame(in_features)\n",
    "\n",
    "    train_df = pd.concat([train_df, in_features], ignore_index=True)"
   ]
  },
  {
   "cell_type": "code",
   "execution_count": null,
   "id": "b254e17e-683d-4e4f-baf2-eca1201e7741",
   "metadata": {},
   "outputs": [],
   "source": []
  },
  {
   "cell_type": "code",
   "execution_count": 61,
   "id": "9b22fafd-2b80-4265-a71b-7fc4a071fa34",
   "metadata": {
    "execution": {
     "iopub.execute_input": "2024-02-02T19:59:17.043884Z",
     "iopub.status.busy": "2024-02-02T19:59:17.043500Z",
     "iopub.status.idle": "2024-02-02T19:59:17.052245Z",
     "shell.execute_reply": "2024-02-02T19:59:17.051482Z",
     "shell.execute_reply.started": "2024-02-02T19:59:17.043858Z"
    }
   },
   "outputs": [
    {
     "data": {
      "text/plain": [
       "(3068, 2048)"
      ]
     },
     "execution_count": 61,
     "metadata": {},
     "output_type": "execute_result"
    }
   ],
   "source": [
    "selected_rows = train_df.head(3068)\n",
    "selected_rows.shape"
   ]
  },
  {
   "cell_type": "code",
   "execution_count": 62,
   "id": "45d37ffc-e1b9-423d-aba7-8f7e49bb5dd3",
   "metadata": {
    "execution": {
     "iopub.execute_input": "2024-02-02T19:59:31.632852Z",
     "iopub.status.busy": "2024-02-02T19:59:31.632433Z",
     "iopub.status.idle": "2024-02-02T19:59:31.636690Z",
     "shell.execute_reply": "2024-02-02T19:59:31.635812Z",
     "shell.execute_reply.started": "2024-02-02T19:59:31.632826Z"
    }
   },
   "outputs": [],
   "source": [
    "selected_elements = labels[:3068]"
   ]
  },
  {
   "cell_type": "code",
   "execution_count": 63,
   "id": "6dfb0591-f01f-485e-a133-be22601ce744",
   "metadata": {
    "execution": {
     "iopub.execute_input": "2024-02-02T19:59:37.325765Z",
     "iopub.status.busy": "2024-02-02T19:59:37.324897Z",
     "iopub.status.idle": "2024-02-02T19:59:37.331557Z",
     "shell.execute_reply": "2024-02-02T19:59:37.330839Z",
     "shell.execute_reply.started": "2024-02-02T19:59:37.325740Z"
    }
   },
   "outputs": [
    {
     "data": {
      "text/plain": [
       "3068"
      ]
     },
     "execution_count": 63,
     "metadata": {},
     "output_type": "execute_result"
    }
   ],
   "source": [
    "len(selected_elements)"
   ]
  },
  {
   "cell_type": "code",
   "execution_count": 64,
   "id": "b69998bf-2486-4594-8d87-aecb544eacb0",
   "metadata": {
    "execution": {
     "iopub.execute_input": "2024-02-02T19:59:46.791387Z",
     "iopub.status.busy": "2024-02-02T19:59:46.790990Z",
     "iopub.status.idle": "2024-02-02T19:59:47.115017Z",
     "shell.execute_reply": "2024-02-02T19:59:47.114207Z",
     "shell.execute_reply.started": "2024-02-02T19:59:46.791359Z"
    }
   },
   "outputs": [
    {
     "name": "stderr",
     "output_type": "stream",
     "text": [
      "/tmp/ipykernel_41505/1574922432.py:1: SettingWithCopyWarning: \n",
      "A value is trying to be set on a copy of a slice from a DataFrame.\n",
      "Try using .loc[row_indexer,col_indexer] = value instead\n",
      "\n",
      "See the caveats in the documentation: https://pandas.pydata.org/pandas-docs/stable/user_guide/indexing.html#returning-a-view-versus-a-copy\n",
      "  selected_rows['file_id'] = train_ds.filenames\n"
     ]
    }
   ],
   "source": [
    "selected_rows['file_id'] = train_ds.filenames"
   ]
  },
  {
   "cell_type": "code",
   "execution_count": 65,
   "id": "9e041c08-7591-4c67-95aa-e68ff2016dd9",
   "metadata": {
    "execution": {
     "iopub.execute_input": "2024-02-02T19:59:54.614656Z",
     "iopub.status.busy": "2024-02-02T19:59:54.614255Z",
     "iopub.status.idle": "2024-02-02T19:59:54.638773Z",
     "shell.execute_reply": "2024-02-02T19:59:54.637972Z",
     "shell.execute_reply.started": "2024-02-02T19:59:54.614632Z"
    }
   },
   "outputs": [
    {
     "name": "stderr",
     "output_type": "stream",
     "text": [
      "/tmp/ipykernel_41505/3791236856.py:1: SettingWithCopyWarning: \n",
      "A value is trying to be set on a copy of a slice from a DataFrame.\n",
      "Try using .loc[row_indexer,col_indexer] = value instead\n",
      "\n",
      "See the caveats in the documentation: https://pandas.pydata.org/pandas-docs/stable/user_guide/indexing.html#returning-a-view-versus-a-copy\n",
      "  selected_rows['label'] = selected_elements\n"
     ]
    }
   ],
   "source": [
    "selected_rows['label'] = selected_elements"
   ]
  },
  {
   "cell_type": "code",
   "execution_count": 66,
   "id": "ed1bc00d-8eba-4f6b-830b-819317f13f88",
   "metadata": {
    "execution": {
     "iopub.execute_input": "2024-02-02T20:00:12.439113Z",
     "iopub.status.busy": "2024-02-02T20:00:12.438695Z",
     "iopub.status.idle": "2024-02-02T20:00:12.444796Z",
     "shell.execute_reply": "2024-02-02T20:00:12.443857Z",
     "shell.execute_reply.started": "2024-02-02T20:00:12.439089Z"
    }
   },
   "outputs": [],
   "source": [
    "selected_rows.columns = ['incV3_' + str(col) for col in selected_rows.columns]"
   ]
  },
  {
   "cell_type": "code",
   "execution_count": 67,
   "id": "02584933-f7ad-4d3f-9673-3c4263a00cd4",
   "metadata": {
    "execution": {
     "iopub.execute_input": "2024-02-02T20:00:52.825806Z",
     "iopub.status.busy": "2024-02-02T20:00:52.825402Z",
     "iopub.status.idle": "2024-02-02T20:01:00.179076Z",
     "shell.execute_reply": "2024-02-02T20:01:00.178321Z",
     "shell.execute_reply.started": "2024-02-02T20:00:52.825784Z"
    }
   },
   "outputs": [],
   "source": [
    "path = './inception-v3-data/inception_train.csv'\n",
    "\n",
    "selected_rows.to_csv(path, index=False)"
   ]
  }
 ],
 "metadata": {
  "kernelspec": {
   "display_name": "saturn (Python 3)",
   "language": "python",
   "name": "python3"
  },
  "language_info": {
   "codemirror_mode": {
    "name": "ipython",
    "version": 3
   },
   "file_extension": ".py",
   "mimetype": "text/x-python",
   "name": "python",
   "nbconvert_exporter": "python",
   "pygments_lexer": "ipython3",
   "version": "3.9.13"
  }
 },
 "nbformat": 4,
 "nbformat_minor": 5
}
